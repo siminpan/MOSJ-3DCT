{
 "cells": [
  {
   "cell_type": "markdown",
   "metadata": {},
   "source": [
    "read dicom"
   ]
  },
  {
   "cell_type": "code",
   "execution_count": null,
   "metadata": {},
   "outputs": [],
   "source": [
    "import numpy as np\n",
    "import skimage.measure\n",
    "import pydicom\n",
    "import vtk\n",
    "from vtk.util import numpy_support\n",
    "import os\n",
    "import matplotlib.pyplot as plt\n",
    "import cv2"
   ]
  },
  {
   "cell_type": "code",
   "execution_count": null,
   "metadata": {},
   "outputs": [],
   "source": [
    "import gc\n",
    "gc.collect()"
   ]
  },
  {
   "cell_type": "code",
   "execution_count": null,
   "metadata": {},
   "outputs": [],
   "source": [
    "plt.gray()\n",
    "os.chdir('C:/Users/span/Documents/3DSlicerTutorial/CNN.test/')\n",
    "number1 = \"23\""
   ]
  },
  {
   "cell_type": "code",
   "execution_count": null,
   "metadata": {},
   "outputs": [],
   "source": [
    "PathDicom = \"./\"+str(number1)+\"_5/\"\n",
    "reader = vtk.vtkDICOMImageReader()\n",
    "reader.SetDirectoryName(PathDicom)\n",
    "reader.Update()\n",
    "\n",
    "# Load dimensions using `GetDataExtent`\n",
    "_extent = reader.GetDataExtent()\n",
    "ConstPixelDims = [_extent[1]-_extent[0]+1, _extent[3]-_extent[2]+1, _extent[5]-_extent[4]+1]\n",
    "\n",
    "# Load spacing values\n",
    "ConstPixelSpacing = reader.GetPixelSpacing()\n",
    "\n",
    "# Get the 'vtkImageData' object from the reader\n",
    "imageData = reader.GetOutput()\n",
    "# Get the 'vtkPointData' object from the 'vtkImageData' object\n",
    "pointData = imageData.GetPointData()\n",
    "# Ensure that only one array exists within the 'vtkPointData' object\n",
    "assert (pointData.GetNumberOfArrays()==1)\n",
    "# Get the `vtkArray` (or whatever derived type) which is needed for the `numpy_support.vtk_to_numpy` function\n",
    "arrayData = pointData.GetArray(0)\n",
    "\n",
    "# Convert the `vtkArray` to a NumPy array\n",
    "ArrayDicom = numpy_support.vtk_to_numpy(arrayData)\n",
    "# Reshape the NumPy array to 3D using 'ConstPixelDims' as a 'shape'\n",
    "ArrayDicom = ArrayDicom.reshape(ConstPixelDims, order='F')\n",
    "\n",
    "a = ArrayDicom.copy()"
   ]
  },
  {
   "cell_type": "code",
   "execution_count": null,
   "metadata": {},
   "outputs": [],
   "source": [
    "# output image\n",
    "from PIL import Image\n",
    "pathin = \"./\"+str(number1)+\"_in/\"\n",
    "a1 = np.where(a <= -1000, -999, a) \n",
    "for i in range(a.shape[2]):\n",
    "    image = a1[:, :, i].copy()\n",
    "    I8_0 = (((image - a1.min()) / (a1.max() - a1.min())) * 255.9).astype(np.uint8)\n",
    "    img0 = Image.fromarray(I8_0)\n",
    "    img0.save(pathin+str(number1)+\"_in_rec00000\"+str(\"{0:03}\".format(i))+\".bmp\")"
   ]
  },
  {
   "cell_type": "markdown",
   "metadata": {},
   "source": [
    "Method 1: thicker edge and subtract"
   ]
  },
  {
   "cell_type": "code",
   "execution_count": null,
   "metadata": {},
   "outputs": [],
   "source": [
    "# Adaptive Thresholding\n",
    "from skimage.filters import threshold_local\n",
    "\n",
    "a = ArrayDicom.copy()\n",
    "image = a[:, :, 381].copy()\n",
    "plt.imshow(image)"
   ]
  },
  {
   "cell_type": "code",
   "execution_count": null,
   "metadata": {},
   "outputs": [],
   "source": [
    "# local threshold 23_5 or 23_8\n",
    "block_size = 23\n",
    "binary_image1 = image > (threshold_local(image, block_size,offset=0, method='mean')+20)\n",
    "plt.imshow(binary_image1)"
   ]
  },
  {
   "cell_type": "code",
   "execution_count": null,
   "metadata": {},
   "outputs": [],
   "source": [
    "# close gap (blur/extend) \n",
    "from skimage import morphology\n",
    "binary_image2 = morphology.dilation(binary_image1, morphology.disk(radius=5))\n",
    "plt.imshow(binary_image2)"
   ]
  },
  {
   "cell_type": "code",
   "execution_count": null,
   "metadata": {},
   "outputs": [],
   "source": [
    "# fill holes\n",
    "from scipy import ndimage as ndi\n",
    "fill_coins = ndi.binary_fill_holes(binary_image2)\n",
    "plt.imshow(fill_coins)"
   ]
  },
  {
   "cell_type": "code",
   "execution_count": null,
   "metadata": {},
   "outputs": [],
   "source": [
    "# edge\n",
    "from skimage.feature import canny\n",
    "binary_image3 = canny(fill_coins, sigma=1)\n",
    "plt.imshow(binary_image3)"
   ]
  },
  {
   "cell_type": "code",
   "execution_count": null,
   "metadata": {},
   "outputs": [],
   "source": [
    "# edge on image\n",
    "from skimage.feature import canny\n",
    "binary_image3_1 = canny(image, sigma=1)\n",
    "plt.imshow(binary_image3_1)"
   ]
  },
  {
   "cell_type": "code",
   "execution_count": null,
   "metadata": {},
   "outputs": [],
   "source": [
    "# thicker the edge\n",
    "from skimage import morphology\n",
    "binary_image4 = morphology.dilation(binary_image3, morphology.disk(radius=30))\n",
    "plt.imshow(binary_image4)"
   ]
  },
  {
   "cell_type": "code",
   "execution_count": null,
   "metadata": {},
   "outputs": [],
   "source": [
    "# remove the edge\n",
    "binary_image5 = binary_image1 > binary_image4\n",
    "plt.imshow(binary_image5)"
   ]
  },
  {
   "cell_type": "code",
   "execution_count": null,
   "metadata": {},
   "outputs": [],
   "source": [
    "# remove small object\n",
    "binary_image6 = morphology.remove_small_objects(binary_image5, 50)\n",
    "plt.imshow(binary_image6)"
   ]
  },
  {
   "cell_type": "code",
   "execution_count": null,
   "metadata": {},
   "outputs": [],
   "source": [
    "# save image skimage\n",
    "from skimage import io\n",
    "rescaled = 255.0 * binary_image6.astype(np.uint8)\n",
    "io.imsave('output.bmp', rescaled.astype(np.uint8))\n",
    "io.imsave('image.bmp', image.astype(np.uint8))\n"
   ]
  },
  {
   "cell_type": "code",
   "execution_count": null,
   "metadata": {},
   "outputs": [],
   "source": [
    "# save image PIL\n",
    "from PIL import Image\n",
    "# I8_0 = (((image - image.min()) / (image.max() - image.min())) * 255.9).astype(np.uint8)\n",
    "I8_0 = (((image - a.min()) / (a.max() - a.min())) * 255.9).astype(np.uint8)\n",
    "img0 = Image.fromarray(I8_0)\n",
    "img0.save(\"23_in\"+str(\"{0:03}\".format(i))+\".bmp\")\n",
    "\n",
    "\n",
    "\n",
    "I8_1 = (((binary_image6.astype(np.uint8) - binary_image6.astype(np.uint8).min()) / (binary_image6.astype(np.uint8).max() - binary_image6.astype(np.uint8).min())) * 255.9).astype(np.uint8)\n",
    "img1 = Image.fromarray(I8_1)\n",
    "img1.save(\"23_out\"+str(\"{0:03}\".format(i))+\".bmp\")\n",
    "\n"
   ]
  },
  {
   "cell_type": "code",
   "execution_count": null,
   "metadata": {},
   "outputs": [],
   "source": [
    "# for loop\n",
    "from PIL import Image\n",
    "pathout = \"./\"+str(number1)+\"_out/\"\n",
    "result = np.empty([596, 596])\n",
    "for i in range(a.shape[2]):\n",
    "    image = a[:, :, i].copy()\n",
    "    block_size = 23\n",
    "    binary_image1 = image > (threshold_local(image, block_size,offset=0, method='mean')+20)\n",
    "    binary_image2 = morphology.dilation(binary_image1, morphology.disk(radius=5))\n",
    "    fill_coins = ndi.binary_fill_holes(binary_image2)\n",
    "    binary_image3 = canny(fill_coins, sigma=1)\n",
    "    binary_image4 = morphology.dilation(binary_image3, morphology.disk(radius=25))\n",
    "    binary_image5 = binary_image1 > binary_image4\n",
    "    binary_image6 = morphology.remove_small_objects(binary_image5, 21)\n",
    "    I8_1 = (((binary_image6.astype(np.uint8) - binary_image6.astype(np.uint8).min()) / (binary_image6.astype(np.uint8).max() - binary_image6.astype(np.uint8).min())) * 255.9).astype(np.uint8)\n",
    "    img1 = Image.fromarray(I8_1)\n",
    "    img1.save(pathout+str(number1)+\"_out_rec00000\"+str(\"{0:03}\".format(i))+\".bmp\")\n",
    "    result = np.dstack((result, binary_image6))\n",
    "\n",
    "result.shape"
   ]
  },
  {
   "cell_type": "code",
   "execution_count": null,
   "metadata": {},
   "outputs": [],
   "source": [
    "# out put vtr\n",
    "from pyevtk.hl import gridToVTK\n",
    "\n",
    "x = np.arange(0, result.shape[0]+1)\n",
    "y = np.arange(0, result.shape[1]+1)\n",
    "z = np.arange(0, result.shape[2]+1)\n",
    "\n",
    "gridToVTK(\"./23_o\", x, y, z, cellData = {'result': result})"
   ]
  },
  {
   "cell_type": "code",
   "execution_count": null,
   "metadata": {},
   "outputs": [],
   "source": [
    "# write into text and load\n",
    "# Write the array to disk\n",
    "rescaled = 255.0 * result.astype(np.uint8)\n",
    "with open('23_o_res_test.txt', 'w') as outfile:\n",
    "    # I'm writing a header here just for the sake of readability\n",
    "    # Any line starting with \"#\" will be ignored by numpy.loadtxt\n",
    "    outfile.write('# Array shape: {0}\\n'.format(rescaled.shape))\n",
    "    \n",
    "    # Iterating through a ndimensional array produces slices along\n",
    "    # the last axis. This is equivalent to data[i,:,:] in this case\n",
    "    for data_slice in rescaled:\n",
    "\n",
    "        # The formatting string indicates that I'm writing out\n",
    "        # the values in left-justified columns 7 characters in width\n",
    "        # with 2 decimal places.  \n",
    "        np.savetxt(outfile, data_slice, fmt='%-7.2f')\n",
    "\n",
    "        # Writing out a break to indicate different slices...\n",
    "        outfile.write('# New slice\\n')"
   ]
  },
  {
   "cell_type": "code",
   "execution_count": null,
   "metadata": {},
   "outputs": [],
   "source": [
    "# Read the array from disk\n",
    "new_data = np.loadtxt('23_o_test.txt')\n",
    "# 'C:/Users/span/Documents/3DSlicerTutorial/CNN.test/23_o_test.txt'\n",
    "# Note that this returned a 2D array!\n",
    "# print new_data.shape\n",
    "\n",
    "# However, going back to 3D is easy if we know the \n",
    "# original shape of the array\n",
    "new_data = new_data.reshape((596, 596, 563))\n",
    "    \n",
    "# Just to check that they're the same...\n",
    "assert np.all(new_data == result)"
   ]
  },
  {
   "cell_type": "markdown",
   "metadata": {},
   "source": [
    "Method 2: remove largest"
   ]
  },
  {
   "cell_type": "code",
   "execution_count": null,
   "metadata": {},
   "outputs": [],
   "source": [
    "# assign image\n",
    "a = ArrayDicom.copy()\n",
    "image = a[:, :, 292].copy()\n",
    "plt.imshow(image)"
   ]
  },
  {
   "cell_type": "code",
   "execution_count": null,
   "metadata": {},
   "outputs": [],
   "source": [
    "# Adaptive Thresholding\n",
    "from skimage.filters import threshold_local\n",
    "# local threshold 23_5 or 23_8\n",
    "block_size = 23\n",
    "binary_image1 = image > (threshold_local(image, block_size,offset=0, method='mean')+20)\n",
    "block_size1 = 23\n",
    "binary_image1_1 = image > (threshold_local(image, block_size1,offset=-20, method='mean')+0)\n",
    "block_size2 = 15\n",
    "binary_image1_2 = image > (threshold_local(image, block_size2,offset=0, method='mean')+20)\n",
    "\n",
    "# plt.imshow(binary_image1)\n",
    "\n",
    "#plot results\n",
    "fig, (ax0, ax1, ax2, ax3) = plt.subplots(1, 4, figsize=(16, 6.4),\n",
    "                                    sharex=True, sharey=True)\n",
    "ax0.imshow(image, cmap='gray')\n",
    "ax0.axis('off')\n",
    "ax0.set_title('org')\n",
    "ax1.imshow(binary_image1, cmap='gray')\n",
    "ax1.axis('off')\n",
    "ax1.set_title(block_size)\n",
    "ax2.imshow(binary_image1_1, cmap='gray') # 'magma'\n",
    "ax2.axis('off')\n",
    "ax2.set_title(block_size1)\n",
    "ax3.imshow(binary_image1_2, cmap='gray')\n",
    "ax3.axis('off')\n",
    "ax3.set_title(block_size2)\n",
    "\n",
    "fig.tight_layout()\n",
    "plt.show()"
   ]
  },
  {
   "cell_type": "code",
   "execution_count": null,
   "metadata": {},
   "outputs": [],
   "source": [
    "# Random walker segmentation¶\n",
    "from skimage.segmentation import random_walker\n",
    "from skimage.data import binary_blobs\n",
    "from skimage.exposure import rescale_intensity\n",
    "from skimage.filters import threshold_otsu\n",
    "from skimage.segmentation import clear_border\n",
    "from skimage.measure import label, regionprops\n",
    "from skimage.morphology import closing, square\n",
    "from skimage.color import label2rgb\n",
    "import skimage\n",
    "\n",
    "I8_1 = (((binary_image6.astype(np.uint8) - binary_image6.astype(np.uint8).min()) / (binary_image6.astype(np.uint8).max() - binary_image6.astype(np.uint8).min())) * 255.9).astype(np.uint8)\n",
    "bw = closing(image > (threshold_local(image, block_size,offset=0, method='mean')+20), square(3))\n",
    "cleared = clear_border(bw)\n",
    "# label image regions\n",
    "label_image = label(cleared)\n",
    "# to make the background transparent, pass the value of `bg_label`,\n",
    "# and leave `bg_color` as `None` and `kind` as `overlay`\n",
    "image_label_overlay = label2rgb(label_image, image=image, bg_label=0)\n",
    "# markers = np.zeros(I8_1.shape, dtype=np.uint)\n",
    "# markers[I8_1 == 0 ] = 0\n",
    "# markers[I8_1 == 255 ] = 2\n",
    "# markers = skimage.measure.label(I8_1)\n",
    "\n",
    "labels = random_walker(image, label_image, beta=10, mode='bf')\n",
    "plt.imshow(labels)"
   ]
  },
  {
   "cell_type": "code",
   "execution_count": null,
   "metadata": {},
   "outputs": [],
   "source": [
    "# testblock\n",
    "image1 = np.where(image <= -1000, 0, image) \n",
    "image1 = (((image1 - image1.min()) / (image1.max() - image1.min())) * 255.9).astype(np.uint8)\n",
    "markers = np.zeros(image1.shape, dtype=np.uint)\n",
    "markers[image < np.percentile(image1, 5)] = 1\n",
    "markers[image > np.percentile(image1, 95)] = 2\n",
    "\n",
    "markers = np.zeros(binary_image1.shape, dtype=np.uint)\n",
    "markers[binary_image6 == False ] = 1\n",
    "markers[binary_image6 == True ] = 2\n",
    "\n",
    "I8_1 = (((binary_image6.astype(np.uint8) - binary_image6.astype(np.uint8).min()) / (binary_image6.astype(np.uint8).max() - binary_image6.astype(np.uint8).min())) * 255.9).astype(np.uint8)\n",
    "markers = np.zeros(I8_1.shape, dtype=np.uint)\n",
    "markers[I8_1 == 0 ] = 0\n",
    "markers[I8_1 == 1 ] = 2\n",
    "\n",
    "I8_1 = (((binary_image6.astype(np.uint8) - binary_image6.astype(np.uint8).min()) / (binary_image6.astype(np.uint8).max() - binary_image6.astype(np.uint8).min())) * 255.9).astype(np.uint8)\n",
    "# markers = np.zeros(I8_1.shape, dtype=np.uint)\n",
    "# markers[I8_1 == 0 ] = 0\n",
    "# markers[I8_1 == 255 ] = 2\n",
    "markers = skimage.measure.label(I8_1)"
   ]
  },
  {
   "cell_type": "code",
   "execution_count": null,
   "metadata": {},
   "outputs": [],
   "source": [
    "# filter the largest object\n",
    "# labels = label(binary_image1)\n",
    "# out = np.copy(binary_image1)\n",
    "# component_sizes = np.bincount(binary_image1.ravel())\n",
    "# too_small = component_sizes < 2000\n",
    "# too_small_mask = too_small[binary_image1]\n",
    "# out[too_small_mask] = 0\n",
    "# return out"
   ]
  },
  {
   "cell_type": "code",
   "execution_count": null,
   "metadata": {},
   "outputs": [],
   "source": [
    "# filter the largest object\n",
    "from skimage import morphology\n",
    "binary_image2 = morphology.remove_small_objects(binary_image1, 4000)\n",
    "plt.imshow(binary_image2)"
   ]
  },
  {
   "cell_type": "code",
   "execution_count": null,
   "metadata": {},
   "outputs": [],
   "source": [
    "# edge\n",
    "from skimage.feature import canny\n",
    "binary_image3 = canny(binary_image2, sigma=6)\n",
    "plt.imshow(binary_image3)"
   ]
  },
  {
   "cell_type": "code",
   "execution_count": null,
   "metadata": {},
   "outputs": [],
   "source": [
    "# connect small gap/Gap Filling Contours / Lines\n",
    "from scipy import ndimage as ndi\n",
    "from skimage import io, morphology, img_as_bool, segmentation\n",
    "\n",
    "out = ndi.distance_transform_edt(~binary_image2)\n",
    "out = out < 0.05 * out.max()\n",
    "out = morphology.skeletonize(out)\n",
    "out = morphology.binary_dilation(out, morphology.selem.disk(1))\n",
    "out = segmentation.clear_border(out)\n",
    "out = out | binary_image2\n",
    "\n",
    "# fill holes\n",
    "fill_coins = ndi.binary_fill_holes(out)\n",
    "\n",
    "plt.imshow(out)"
   ]
  },
  {
   "cell_type": "code",
   "execution_count": null,
   "metadata": {},
   "outputs": [],
   "source": [
    "# find center\n",
    "from skimage.measure import label, regionprops\n",
    "from skimage import filters\n",
    "threshold_value = filters.threshold_otsu(image)\n",
    "labeled_foreground = (image > threshold_value).astype(int)\n",
    "# labeled_foreground = ndi.binary_fill_holes(labeled_foreground0).astype(int)\n",
    "# properties = regionprops(labeled_foreground, image)\n",
    "properties = regionprops(labeled_foreground, labeled_foreground)\n",
    "center_of_mass = properties[0].centroid\n",
    "weighted_center_of_mass = properties[0].weighted_centroid\n",
    "\n",
    "print(center_of_mass)\n",
    "plt.imshow(labeled_foreground)"
   ]
  },
  {
   "cell_type": "code",
   "execution_count": null,
   "metadata": {},
   "outputs": [],
   "source": [
    "# show center\n",
    "import matplotlib.pyplot as plt\n",
    "from skimage.color import label2rgb\n",
    "\n",
    "# a1 = np.where(a <= -1000, -999, a) \n",
    "# image255 = (((image - a1.min()) / (a1.max() - a1.min())) * 255.9).astype(np.uint8)\n",
    "# colorized = label2rgb(labeled_foreground, image255, colors=['black', 'red'], alpha=0.1)\n",
    "fig, ax = plt.subplots()\n",
    "ax.imshow(labeled_foreground)\n",
    "# Note the inverted coordinates because plt uses (x, y) while NumPy uses (row, column)\n",
    "ax.scatter(center_of_mass[1], center_of_mass[0], s=160, c='C0', marker='+')\n",
    "plt.show()"
   ]
  },
  {
   "cell_type": "code",
   "execution_count": null,
   "metadata": {},
   "outputs": [],
   "source": [
    "# resize image\n",
    "from skimage.transform import rescale, resize, downscale_local_mean\n",
    "image_rescaled = rescale(labeled_foreground, 0.80, anti_aliasing=False)\n",
    "image_resized = resize(labeled_foreground, (labeled_foreground.shape[0] // 4, labeled_foreground.shape[1] // 4),\n",
    "                       anti_aliasing=True)\n",
    "image_downscaled = downscale_local_mean(labeled_foreground, (4, 3))\n",
    "\n",
    "fig, axes = plt.subplots(nrows=2, ncols=2)\n",
    "\n",
    "ax = axes.ravel()\n",
    "\n",
    "ax[0].imshow(labeled_foreground, cmap='gray')\n",
    "ax[0].set_title(\"Original image\")\n",
    "\n",
    "ax[1].imshow(image_rescaled, cmap='gray')\n",
    "ax[1].set_title(\"Rescaled image (aliasing)\")\n",
    "\n",
    "ax[2].imshow(image_resized, cmap='gray')\n",
    "ax[2].set_title(\"Resized image (no aliasing)\")\n",
    "\n",
    "ax[3].imshow(image_downscaled, cmap='gray')\n",
    "ax[3].set_title(\"Downscaled image (no aliasing)\")\n",
    "\n",
    "ax[0].set_xlim(0, 512)\n",
    "ax[0].set_ylim(512, 0)\n",
    "plt.tight_layout()\n",
    "plt.show()"
   ]
  },
  {
   "cell_type": "code",
   "execution_count": null,
   "metadata": {},
   "outputs": [],
   "source": [
    "# center of rescale\n",
    "from skimage import filters\n",
    "image_rescaled[image_rescaled == image_rescaled.min()] = 0\n",
    "image_rescaled[image_rescaled != image_rescaled.min()] = 1\n",
    "properties1 = regionprops(image_rescaled.astype(int), image_rescaled)\n",
    "center_of_mass1 = properties1[0].centroid\n",
    "weighted_center_of_mass1 = properties1[0].weighted_centroid\n",
    "\n",
    "print(center_of_mass1)\n",
    "\n",
    "fig, ax = plt.subplots()\n",
    "ax.imshow(image_rescaled)\n",
    "# Note the inverted coordinates because plt uses (x, y) while NumPy uses (row, column)\n",
    "ax.scatter(center_of_mass1[1], center_of_mass1[0], s=160, c='C0', marker='+')\n",
    "plt.show()"
   ]
  },
  {
   "cell_type": "code",
   "execution_count": null,
   "metadata": {},
   "outputs": [],
   "source": [
    "# edge of rescale\n",
    "image_rescaled1 = label(image_rescaled)\n",
    "image_rescaled2 = morphology.remove_small_objects(image_rescaled1, 200)\n",
    "# image_rescaled2[image_rescaled2 != 0] = 1\n",
    "\n",
    "image_rescaled3 = closing(canny(image_rescaled, sigma=1))\n",
    "\n",
    "plt.imshow(image_rescaled3)"
   ]
  },
  {
   "cell_type": "code",
   "execution_count": null,
   "metadata": {},
   "outputs": [],
   "source": [
    "# overlay\n",
    "import cv2\n",
    "s_img = image_rescaled3\n",
    "l_img = labeled_foreground.copy()\n",
    "l_img[l_img != 0] =0\n",
    "x_offset= round(center_of_mass[1] - center_of_mass1[1]).astype(int)\n",
    "y_offset= round(center_of_mass[0] - center_of_mass1[0]).astype(int)\n",
    "l_img[y_offset:y_offset+s_img.shape[0], x_offset:x_offset+s_img.shape[1]] = s_img\n",
    "\n",
    "plt.imshow(l_img)"
   ]
  },
  {
   "cell_type": "code",
   "execution_count": null,
   "metadata": {},
   "outputs": [],
   "source": [
    "# selsct rescale range\n",
    "binary_image5_0 = binary_image2 > l_img\n",
    "binary_image5_0_1 = morphology.remove_small_objects(binary_image5_0, 1000)\n",
    "binary_image5_0_2 = morphology.remove_small_objects(binary_image5_0, 2000)\n",
    "binary_image5_0_3 = morphology.remove_small_objects(binary_image5_0, 100)\n",
    "\n",
    "# plot results\n",
    "fig, (ax0, ax1, ax2, ax3) = plt.subplots(1, 4, figsize=(16, 6.4),\n",
    "                                    sharex=True, sharey=True)\n",
    "ax0.imshow(binary_image5_0, cmap='gray')\n",
    "ax0.axis('off')\n",
    "ax0.set_title('binary_image5_0')\n",
    "ax1.imshow(binary_image5_0_1, cmap='gray')\n",
    "ax1.axis('off')\n",
    "ax1.set_title('binary_image5_0_1')\n",
    "ax2.imshow(binary_image5_0_2, cmap='gray') # 'magma'\n",
    "ax2.axis('off')\n",
    "ax2.set_title('binary_image5_0_2')\n",
    "ax3.imshow(binary_image5_0_3, cmap='gray')\n",
    "ax3.axis('off')\n",
    "ax3.set_title('binary_image5_0_3')\n",
    "\n",
    "fig.tight_layout()\n",
    "plt.show()"
   ]
  },
  {
   "cell_type": "code",
   "execution_count": null,
   "metadata": {},
   "outputs": [],
   "source": [
    "# define rescale\n",
    "from scipy import ndimage as ndi\n",
    "from skimage import io, morphology, img_as_bool, segmentation\n",
    "from skimage import filters\n",
    "from skimage.transform import rescale\n",
    "from skimage.measure import regionprops\n",
    "from skimage import morphology\n",
    "from skimage.feature import canny\n",
    "import cv2\n",
    "\n",
    "def overlay_image_center(image, rescale, block_size, manoff, imageremovesize, removesize):\n",
    "#     overlay image for cut inner off\n",
    "    threshold_value = skimage.filters.threshold_otsu(image)\n",
    "    labeled_foreground = (image > threshold_value)\n",
    "#     labeled_backeground = np.where(skimage.morphology.remove_small_objects(labeled_foreground, imageremovesize) == 0,1,0)\n",
    "    center_of_mass = skimage.measure.regionprops(labeled_foreground.astype(int), labeled_foreground.astype(int))[0].centroid\n",
    "    image_rescaled = skimage.transform.rescale(labeled_foreground.astype(int), rescale, anti_aliasing=False)\n",
    "    image_rescaled[image_rescaled == image_rescaled.min()] = 0\n",
    "    image_rescaled[image_rescaled != image_rescaled.min()] = 1\n",
    "    center_of_mass1 = skimage.measure.regionprops(image_rescaled.astype(int), image_rescaled)[0].centroid\n",
    "    image_rescaled3 = skimage.morphology.closing(skimage.feature.canny(image_rescaled, sigma=1))\n",
    "    s_img = image_rescaled3\n",
    "    l_img = labeled_foreground.astype(int)\n",
    "    l_img[l_img != 0] =0\n",
    "    x_offset= round(center_of_mass[1] - center_of_mass1[1]).astype(int)\n",
    "    y_offset= round(center_of_mass[0] - center_of_mass1[0]).astype(int)\n",
    "    l_img[y_offset:y_offset+s_img.shape[0], x_offset:x_offset+s_img.shape[1]] = s_img\n",
    "#     process image\n",
    "    binary_image1 = image > (skimage.filters.threshold_local(image, block_size,offset=0, method='mean')+manoff)\n",
    "    binary_image2 = skimage.morphology.remove_small_objects(binary_image1, imageremovesize)\n",
    "#     fill_coins = ndi.binary_fill_holes(binary_image1)\n",
    "    binary_image5_0 = binary_image2 > l_img\n",
    "    binary_image5_0_1 = skimage.morphology.remove_small_objects(binary_image5_0, removesize)\n",
    "    # background\n",
    "    out = ndi.distance_transform_edt(~binary_image2)\n",
    "    out = out < 0.05 * out.max()\n",
    "    out = morphology.skeletonize(out)\n",
    "    out = morphology.binary_dilation(out, morphology.selem.disk(1))\n",
    "    out = segmentation.clear_border(out)\n",
    "    out = out | binary_image2\n",
    "    labeled_backeground = np.where(ndi.binary_fill_holes(out) == 0,1,0)\n",
    "    binary_image5_1 = labeled_backeground + binary_image5_0_1\n",
    "    binary_image5_1 = np.where(binary_image5_1 != 0,1,0)\n",
    "    return binary_image5_1"
   ]
  },
  {
   "cell_type": "code",
   "execution_count": null,
   "metadata": {},
   "outputs": [],
   "source": [
    "labeled_backeground = np.where(ndi.binary_fill_holes(out) == 0,1,0)\n",
    "binary_image5_1 = labeled_backeground + binary_image5_0_1\n",
    "# binary_image5_1[binary_image5_1 != 0] = 1\n",
    "binary_image5_1 = np.where((binary_image5_1) == 0,0,1)\n",
    "\n",
    "fig, (ax0, ax1, ax2) = plt.subplots(1, 3, figsize=(16, 6.4), sharex=True, sharey=True)\n",
    "ax0.imshow(binary_image5_1, cmap='gray')\n",
    "ax0.axis('off')\n",
    "ax0.set_title('fill_coins')\n",
    "ax1.imshow(labeled_backeground, cmap='gray')\n",
    "ax1.axis('off')\n",
    "ax1.set_title('binary_image5_1')\n",
    "ax2.imshow(binary_image5_0_1, cmap='gray')\n",
    "ax2.axis('off')\n",
    "ax2.set_title('binary_image5_0_1')\n",
    "\n",
    "fig.tight_layout()\n",
    "plt.show()"
   ]
  },
  {
   "cell_type": "code",
   "execution_count": null,
   "metadata": {},
   "outputs": [],
   "source": [
    "# test function\n",
    "image = a[:, :, 26].copy()\n",
    "image[0,0] = 1\n",
    "binary_image5_1 = overlay_image_center(image=image, \n",
    "                                       rescale=0.75, \n",
    "                                       block_size=23, \n",
    "                                       manoff=20, \n",
    "                                       imageremovesize=4000, \n",
    "                                       removesize=2000)\n",
    "# plt.imshow(binary_image5_1)\n",
    "\n",
    "fig, (ax0, ax1, ax2) = plt.subplots(1, 3, figsize=(16, 6.4), sharex=True, sharey=True)\n",
    "ax0.imshow(binary_image1, cmap='gray')\n",
    "ax0.axis('off')\n",
    "ax0.set_title('fill_coins')\n",
    "ax1.imshow(binary_image5_1, cmap='gray')\n",
    "ax1.axis('off')\n",
    "ax1.set_title('binary_image5_1')\n",
    "ax2.imshow(binary_image5_0_1, cmap='gray')\n",
    "ax2.axis('off')\n",
    "ax2.set_title('binary_image5_0_1')\n",
    "\n",
    "fig.tight_layout()\n",
    "plt.show()"
   ]
  },
  {
   "cell_type": "code",
   "execution_count": null,
   "metadata": {},
   "outputs": [],
   "source": [
    "# line method\n",
    "indices = np.where(l_img == 1)\n",
    "col1 = np.column_stack(indices)"
   ]
  },
  {
   "cell_type": "code",
   "execution_count": null,
   "metadata": {},
   "outputs": [],
   "source": [
    "# remove the edge\n",
    "# binary_image5 = binary_image1 != binary_image2\n",
    "binary_image5 = binary_image1 > binary_image5_1\n",
    "plt.imshow(binary_image5)"
   ]
  },
  {
   "cell_type": "code",
   "execution_count": null,
   "metadata": {},
   "outputs": [],
   "source": [
    "# remove small object\n",
    "binary_image6 = morphology.remove_small_objects(binary_image5, 50)\n",
    "plt.imshow(binary_image6)"
   ]
  },
  {
   "cell_type": "code",
   "execution_count": null,
   "metadata": {},
   "outputs": [],
   "source": [
    "# for loop\n",
    "from PIL import Image\n",
    "pathout = \"./\"+str(number1)+\"_out2/\"\n",
    "result = np.empty([596, 596])\n",
    "for i in range(a.shape[2]):\n",
    "    image = a[:, :, i].copy()\n",
    "    block_size = 23\n",
    "    binary_image1 = image > (threshold_local(image, block_size,offset=0, method='mean')+20)\n",
    "    binary_image6 = morphology.remove_small_objects(binary_image1, 2000)\n",
    "#     binary_image5 = binary_image1 != binary_image2\n",
    "#     binary_image6 = morphology.remove_small_objects(binary_image5, 50)\n",
    "    I8_1 = (((binary_image6.astype(np.uint8) - binary_image6.astype(np.uint8).min()) / (binary_image6.astype(np.uint8).max() - binary_image6.astype(np.uint8).min())) * 255.9).astype(np.uint8)\n",
    "    img1 = Image.fromarray(I8_1)\n",
    "    img1.save(pathout+str(number1)+\"_out_rec00000\"+str(\"{0:03}\".format(i))+\".bmp\")\n",
    "#     result = np.dstack((result, binary_image6))\n",
    "\n",
    "# result.shape"
   ]
  },
  {
   "cell_type": "code",
   "execution_count": null,
   "metadata": {},
   "outputs": [],
   "source": [
    "from PIL import Image\n",
    "pathout = \"./\"+str(number1)+\"_out3/\"\n",
    "result = np.empty([596, 596])\n",
    "for i in range(a.shape[2]):\n",
    "    image = a[:, :, i].copy()\n",
    "    block_size = 23\n",
    "    binary_image1 = image > (threshold_local(image, block_size,offset=0, method='mean')+20)\n",
    "    binary_image2 = morphology.dilation(binary_image1, morphology.disk(radius=5))\n",
    "    fill_coins = ndi.binary_fill_holes(binary_image2)\n",
    "    binary_image3 = canny(fill_coins, sigma=1)\n",
    "    binary_image4 = morphology.dilation(binary_image3, morphology.disk(radius=25))\n",
    "    binary_image5 = binary_image1 > binary_image4\n",
    "    binary_image6 = morphology.remove_small_objects(binary_image5, 50)\n",
    "    I8_1 = (((binary_image6.astype(np.uint8) - binary_image6.astype(np.uint8).min()) / (binary_image6.astype(np.uint8).max() - binary_image6.astype(np.uint8).min())) * 255.9).astype(np.uint8)\n",
    "    img1 = Image.fromarray(I8_1)\n",
    "    img1.save(pathout+str(number1)+\"_out_rec00000\"+str(\"{0:03}\".format(i))+\".bmp\")\n",
    "#     result = np.dstack((result, binary_image6))\n",
    "\n",
    "# result.shape"
   ]
  },
  {
   "cell_type": "code",
   "execution_count": null,
   "metadata": {},
   "outputs": [],
   "source": [
    "from PIL import Image\n",
    "pathout = \"./\"+str(number1)+\"_out7/\"\n",
    "result = np.empty([596, 596])\n",
    "for i in range(a.shape[2]):\n",
    "    image = a[:, :, i].copy()\n",
    "    image[0,0] = 1\n",
    "    block_size = 23\n",
    "    binary_image1 = image > (threshold_local(image, block_size,offset=0, method='mean')+20)\n",
    "    binary_image5_1 = overlay_image_center(image=image, \n",
    "                                       rescale=0.7, # rescale=0.6\n",
    "                                       block_size=23, \n",
    "                                       manoff=20, \n",
    "                                       imageremovesize=4000, \n",
    "                                       removesize=2000)\n",
    "    binary_image5 = binary_image1 > binary_image5_1\n",
    "    binary_image6 = morphology.remove_small_objects(binary_image5, 50)\n",
    "    I8_1 = (((binary_image6.astype(np.uint8) - binary_image6.astype(np.uint8).min()) / (binary_image6.astype(np.uint8).max() - binary_image6.astype(np.uint8).min())) * 255.9).astype(np.uint8)\n",
    "    img1 = Image.fromarray(I8_1)\n",
    "    img1.save(pathout+str(number1)+\"_out_rec00000\"+str(\"{0:03}\".format(i))+\".bmp\")"
   ]
  },
  {
   "cell_type": "code",
   "execution_count": null,
   "metadata": {},
   "outputs": [],
   "source": []
  }
 ],
 "metadata": {
  "kernelspec": {
   "display_name": "Python 3",
   "language": "python",
   "name": "python3"
  },
  "language_info": {
   "codemirror_mode": {
    "name": "ipython",
    "version": 3
   },
   "file_extension": ".py",
   "mimetype": "text/x-python",
   "name": "python",
   "nbconvert_exporter": "python",
   "pygments_lexer": "ipython3",
   "version": "3.7.9"
  }
 },
 "nbformat": 4,
 "nbformat_minor": 4
}
