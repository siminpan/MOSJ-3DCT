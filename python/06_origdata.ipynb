{
 "cells": [
  {
   "cell_type": "code",
   "execution_count": 3,
   "metadata": {},
   "outputs": [],
   "source": [
    "import numpy as np\n",
    "import skimage.measure\n",
    "from skimage.transform import rescale, rotate\n",
    "# import pydicom\n",
    "import vtk\n",
    "from vtk.util import numpy_support\n",
    "import os\n",
    "import matplotlib.pyplot as plt\n",
    "import cv2"
   ]
  },
  {
   "cell_type": "code",
   "execution_count": null,
   "metadata": {},
   "outputs": [],
   "source": [
    "import gc\n",
    "gc.collect()"
   ]
  },
  {
   "cell_type": "markdown",
   "metadata": {},
   "source": [
    "# Read 3D slicer exported"
   ]
  },
  {
   "cell_type": "code",
   "execution_count": 2,
   "metadata": {},
   "outputs": [
    {
     "data": {
      "text/plain": [
       "<Figure size 432x288 with 0 Axes>"
      ]
     },
     "metadata": {},
     "output_type": "display_data"
    }
   ],
   "source": [
    "# set working directory\n",
    "plt.gray()\n",
    "os.chdir('C:/Users/span/Documents/CNN/')"
   ]
  },
  {
   "cell_type": "code",
   "execution_count": 3,
   "metadata": {},
   "outputs": [],
   "source": [
    "def readdicomset(number1):\n",
    "    # read dicom _dl_input\n",
    "    PathDicom = \"01_perprocess/\"+str(number1)+'/'+str(number1)+\"_orig/\"\n",
    "    # PathDicom = \"01_perprocess/\"+str(number1)+'/'+str(number1)+\"_in/\"\n",
    "    reader = vtk.vtkDICOMImageReader()\n",
    "    reader.SetDirectoryName(PathDicom)\n",
    "    reader.Update()\n",
    "    # Load dimensions using `GetDataExtent`\n",
    "    _extent = reader.GetDataExtent()\n",
    "    ConstPixelDims = [_extent[1]-_extent[0]+1, _extent[3]-_extent[2]+1, _extent[5]-_extent[4]+1]\n",
    "    # Load spacing values\n",
    "    ConstPixelSpacing = reader.GetPixelSpacing()\n",
    "    # Get the 'vtkImageData' object from the reader\n",
    "    imageData = reader.GetOutput()\n",
    "    # Get the 'vtkPointData' object from the 'vtkImageData' object\n",
    "    pointData = imageData.GetPointData()\n",
    "    # Ensure that only one array exists within the 'vtkPointData' object\n",
    "    assert (pointData.GetNumberOfArrays()==1)\n",
    "    # Get the `vtkArray` (or whatever derived type) which is needed for the `numpy_support.vtk_to_numpy` function\n",
    "    arrayData = pointData.GetArray(0)\n",
    "    # Convert the `vtkArray` to a NumPy array\n",
    "    ArrayDicom = numpy_support.vtk_to_numpy(arrayData)\n",
    "    # Reshape the NumPy array to 3D using 'ConstPixelDims' as a 'shape'\n",
    "    ArrayDicom = ArrayDicom.reshape(ConstPixelDims, order='F')\n",
    "    return ArrayDicom"
   ]
  },
  {
   "cell_type": "code",
   "execution_count": 10,
   "metadata": {},
   "outputs": [],
   "source": [
    "number1 = 33\n",
    "a_in = readdicomset(number1)"
   ]
  },
  {
   "cell_type": "code",
   "execution_count": 11,
   "metadata": {},
   "outputs": [],
   "source": [
    "from PIL import Image\n",
    "from skimage.transform import rescale\n",
    "\n",
    "path_master_i = \"06_origdata/master_image_orig/\"\n",
    "\n",
    "resize1 = 256\n",
    "a_in = np.where(a_in <= -1000, -999, a_in) \n",
    "# export master_image\n",
    "for i in range(a_in.shape[2]):\n",
    "    image = a_in[:, :, i].copy()\n",
    "    image = skimage.transform.rotate(image,270,preserve_range=True)\n",
    "#     image = gaussian(image,0.05,preserve_range=True)\n",
    "    image = rescale(image, (resize1/a_in[:, :, i].shape[1]), preserve_range=True, anti_aliasing=False)\n",
    "    image = (((image - a_in.min()) / (a_in.max() - a_in.min())) * 255.9).astype(np.uint8)\n",
    "    img0 = Image.fromarray(image.astype(np.uint8))\n",
    "    img0.save(path_master_i+str(number1)+\"_image_\"+str(\"{0:03}\".format(i))+\".png\")"
   ]
  },
  {
   "cell_type": "markdown",
   "metadata": {},
   "source": [
    "in the above code the astype(np.uint8) should only be used at last. The output image will be normal.\n",
    "turn to 02_addedge3output for the master of orig_seg"
   ]
  },
  {
   "cell_type": "markdown",
   "metadata": {},
   "source": [
    "# Split to train and val"
   ]
  },
  {
   "cell_type": "code",
   "execution_count": 4,
   "metadata": {},
   "outputs": [],
   "source": [
    "# plt.gray()\n",
    "os.chdir('C:/Users/span/Documents/CNN/')"
   ]
  },
  {
   "cell_type": "code",
   "execution_count": 5,
   "metadata": {},
   "outputs": [],
   "source": [
    "# Split to train and val\n",
    "path_master_i = \"06_origdata/master_image_orig/\"\n",
    "path_master_s = \"06_origdata/master_seg3channelfill/\"\n",
    "\n",
    "subfolder1 = \"_0255/\"\n",
    "subfolder2 = \"_seg3channelfill/\"\n",
    "path1 = \"06_origdata/train_image\"+subfolder1\n",
    "path2 = \"06_origdata/train_mask\"+subfolder2\n",
    "path3 = \"06_origdata/val_image\"+subfolder1\n",
    "path4 = \"06_origdata/val_mask\"+subfolder2"
   ]
  },
  {
   "cell_type": "code",
   "execution_count": 7,
   "metadata": {},
   "outputs": [],
   "source": [
    "import random\n",
    "random.seed(a=1024, version=2)\n",
    "backup1 = \"02_data/master_image/\"\n",
    "list1 = os.listdir(backup1)\n",
    "list2 = random.sample(list1, k=round(len(list1)*0.7))\n",
    "list3 = [x for x in list1 if (x not in list2)]"
   ]
  },
  {
   "cell_type": "code",
   "execution_count": 9,
   "metadata": {},
   "outputs": [],
   "source": [
    "from shutil import copy\n",
    "\n",
    "for i in list2:\n",
    "    copy(path_master_i+ str(i), path1+'image/')\n",
    "    copy(path_master_s+ str(i), path2+'seg/')\n",
    "    \n",
    "for i in list3:\n",
    "    copy(path_master_i+ str(i), path3+'image/')\n",
    "    copy(path_master_s+ str(i), path4+'seg/')"
   ]
  },
  {
   "cell_type": "code",
   "execution_count": 11,
   "metadata": {},
   "outputs": [],
   "source": [
    "# Val to val and test\n",
    "from shutil import move\n",
    "\n",
    "subfolder1 = \"_0255/\"\n",
    "subfolder2 = \"_seg3channelfill/\"\n",
    "path3 = \"06_origdata/val_image\"+subfolder1\n",
    "path4 = \"06_origdata/val_mask\"+subfolder2\n",
    "\n",
    "path5 = \"06_origdata/test_image\"+subfolder1\n",
    "path6 = \"06_origdata/test_mask\"+subfolder2\n",
    "\n",
    "random.seed(a=1024, version=2)\n",
    "list1 = os.listdir(path3+'image/')\n",
    "list2 = random.sample(list1, k=round(len(list1)*0.5))\n",
    "list3 = [x for x in list1 if (x not in list2)]"
   ]
  },
  {
   "cell_type": "code",
   "execution_count": 12,
   "metadata": {},
   "outputs": [],
   "source": [
    "for i in list3:\n",
    "    move(path3+'image/'+ str(i), path5+'image/'+ str(i))\n",
    "    move(path4+'seg/'+ str(i), path6+'seg/'+ str(i))"
   ]
  },
  {
   "cell_type": "code",
   "execution_count": null,
   "metadata": {},
   "outputs": [],
   "source": []
  },
  {
   "cell_type": "code",
   "execution_count": null,
   "metadata": {},
   "outputs": [],
   "source": []
  },
  {
   "cell_type": "markdown",
   "metadata": {},
   "source": [
    "# Read from 10_Stain_DICOM_v3\n",
    "The number of files is not match with the one exported from 3D slicer, so will use 3D slicer exported one.\n",
    "Not really, the astype(np.uint8) should only be used at last"
   ]
  },
  {
   "cell_type": "code",
   "execution_count": 2,
   "metadata": {},
   "outputs": [],
   "source": [
    "# set working directory\n",
    "# plt.gray()\n",
    "# os.chdir('C:/Users/span/Documents/CNN/')\n",
    "os.chdir('C:/Users/span/Documents/MOSJ-TumorInjection/10_Stain_DICOM_v3')"
   ]
  },
  {
   "cell_type": "code",
   "execution_count": 3,
   "metadata": {},
   "outputs": [],
   "source": [
    "list1 = os.listdir()"
   ]
  },
  {
   "cell_type": "code",
   "execution_count": 10,
   "metadata": {},
   "outputs": [],
   "source": [
    "def readpatient(folderpath):\n",
    "    subfolder1 = \"/st000/se000\"\n",
    "    # read dicom _dl_input\n",
    "    FileDicom = folderpath + subfolder1 +\"/ct000.dcm\"\n",
    "    # PathDicom = \"01_perprocess/\"+str(number1)+'/'+str(number1)+\"_in/\"\n",
    "    reader = vtk.vtkDICOMImageReader()\n",
    "    reader.SetFileName(FileDicom)\n",
    "    reader.Update()\n",
    "    patname = reader.GetPatientName ()\n",
    "    return patname"
   ]
  },
  {
   "cell_type": "code",
   "execution_count": 39,
   "metadata": {},
   "outputs": [],
   "source": [
    "import pandas as pd\n",
    "list2 = []\n",
    "for i in range(len(list1)):\n",
    "    list2.append([i,readpatient(list1[i])])"
   ]
  },
  {
   "cell_type": "code",
   "execution_count": 41,
   "metadata": {},
   "outputs": [
    {
     "data": {
      "text/html": [
       "<div>\n",
       "<style scoped>\n",
       "    .dataframe tbody tr th:only-of-type {\n",
       "        vertical-align: middle;\n",
       "    }\n",
       "\n",
       "    .dataframe tbody tr th {\n",
       "        vertical-align: top;\n",
       "    }\n",
       "\n",
       "    .dataframe thead th {\n",
       "        text-align: right;\n",
       "    }\n",
       "</style>\n",
       "<table border=\"1\" class=\"dataframe\">\n",
       "  <thead>\n",
       "    <tr style=\"text-align: right;\">\n",
       "      <th></th>\n",
       "      <th>file</th>\n",
       "      <th>PatientName</th>\n",
       "    </tr>\n",
       "  </thead>\n",
       "  <tbody>\n",
       "    <tr>\n",
       "      <th>0</th>\n",
       "      <td>0</td>\n",
       "      <td>03_20191022_c_0mgkg_r_ right</td>\n",
       "    </tr>\n",
       "    <tr>\n",
       "      <th>1</th>\n",
       "      <td>1</td>\n",
       "      <td>03_20191119_c_0mgkg_r_left</td>\n",
       "    </tr>\n",
       "    <tr>\n",
       "      <th>2</th>\n",
       "      <td>2</td>\n",
       "      <td>08_20191031_c_nohole_left</td>\n",
       "    </tr>\n",
       "    <tr>\n",
       "      <th>3</th>\n",
       "      <td>3</td>\n",
       "      <td>08_20191031_c_nohole_right</td>\n",
       "    </tr>\n",
       "    <tr>\n",
       "      <th>4</th>\n",
       "      <td>4</td>\n",
       "      <td>09_20190919_c_right_right</td>\n",
       "    </tr>\n",
       "    <tr>\n",
       "      <th>5</th>\n",
       "      <td>5</td>\n",
       "      <td>09_20190919_c_right_left</td>\n",
       "    </tr>\n",
       "    <tr>\n",
       "      <th>6</th>\n",
       "      <td>6</td>\n",
       "      <td>10_20190919_c_left_left</td>\n",
       "    </tr>\n",
       "    <tr>\n",
       "      <th>7</th>\n",
       "      <td>7</td>\n",
       "      <td>10_20190919_c_left_right</td>\n",
       "    </tr>\n",
       "    <tr>\n",
       "      <th>8</th>\n",
       "      <td>8</td>\n",
       "      <td>11_20191114_c_2_right_left</td>\n",
       "    </tr>\n",
       "    <tr>\n",
       "      <th>9</th>\n",
       "      <td>9</td>\n",
       "      <td>11_20191114_c_2_right_right</td>\n",
       "    </tr>\n",
       "    <tr>\n",
       "      <th>10</th>\n",
       "      <td>10</td>\n",
       "      <td>12_20191114_c_2_left_left</td>\n",
       "    </tr>\n",
       "    <tr>\n",
       "      <th>11</th>\n",
       "      <td>11</td>\n",
       "      <td>12_c2l_right</td>\n",
       "    </tr>\n",
       "    <tr>\n",
       "      <th>12</th>\n",
       "      <td>12</td>\n",
       "      <td>13_20191112_drb_5mgkg_n_left</td>\n",
       "    </tr>\n",
       "    <tr>\n",
       "      <th>13</th>\n",
       "      <td>13</td>\n",
       "      <td>13_20191112_drb_5mgkg_n_right</td>\n",
       "    </tr>\n",
       "    <tr>\n",
       "      <th>14</th>\n",
       "      <td>14</td>\n",
       "      <td>15_20191010_dbr_5mgkg_2l_left</td>\n",
       "    </tr>\n",
       "    <tr>\n",
       "      <th>15</th>\n",
       "      <td>15</td>\n",
       "      <td>15_20191010_dbr_5mgkg_2l_right</td>\n",
       "    </tr>\n",
       "    <tr>\n",
       "      <th>16</th>\n",
       "      <td>16</td>\n",
       "      <td>16_20191121_drb1_nohole_left</td>\n",
       "    </tr>\n",
       "    <tr>\n",
       "      <th>17</th>\n",
       "      <td>17</td>\n",
       "      <td>16_20191121_drb1_nohole_right</td>\n",
       "    </tr>\n",
       "    <tr>\n",
       "      <th>18</th>\n",
       "      <td>18</td>\n",
       "      <td>17_20191114_DRB1_Right_Left</td>\n",
       "    </tr>\n",
       "    <tr>\n",
       "      <th>19</th>\n",
       "      <td>19</td>\n",
       "      <td>17_20191114_DRB1_Right_Right</td>\n",
       "    </tr>\n",
       "    <tr>\n",
       "      <th>20</th>\n",
       "      <td>20</td>\n",
       "      <td>22_20191024_DRB2_Right_Left</td>\n",
       "    </tr>\n",
       "    <tr>\n",
       "      <th>21</th>\n",
       "      <td>21</td>\n",
       "      <td>22_20191024_DRB2_Right_Right</td>\n",
       "    </tr>\n",
       "    <tr>\n",
       "      <th>22</th>\n",
       "      <td>22</td>\n",
       "      <td>23_20191001_VM1_nohole_Left</td>\n",
       "    </tr>\n",
       "    <tr>\n",
       "      <th>23</th>\n",
       "      <td>23</td>\n",
       "      <td>23_20200219_VM1N_Right</td>\n",
       "    </tr>\n",
       "    <tr>\n",
       "      <th>24</th>\n",
       "      <td>24</td>\n",
       "      <td>25_20191107_VM_43_2R_Left</td>\n",
       "    </tr>\n",
       "    <tr>\n",
       "      <th>25</th>\n",
       "      <td>25</td>\n",
       "      <td>25_20191107_VM_43_2R_Right</td>\n",
       "    </tr>\n",
       "    <tr>\n",
       "      <th>26</th>\n",
       "      <td>26</td>\n",
       "      <td>26_20191008_VM_43N_Left</td>\n",
       "    </tr>\n",
       "    <tr>\n",
       "      <th>27</th>\n",
       "      <td>27</td>\n",
       "      <td>26_20200220_43N_Right</td>\n",
       "    </tr>\n",
       "    <tr>\n",
       "      <th>28</th>\n",
       "      <td>28</td>\n",
       "      <td>30_20191031_VM1_2Left_Left</td>\n",
       "    </tr>\n",
       "    <tr>\n",
       "      <th>29</th>\n",
       "      <td>29</td>\n",
       "      <td>30_20191031_VM1_2Left_Right</td>\n",
       "    </tr>\n",
       "    <tr>\n",
       "      <th>30</th>\n",
       "      <td>30</td>\n",
       "      <td>32_20191107_VM2_Right_Left</td>\n",
       "    </tr>\n",
       "    <tr>\n",
       "      <th>31</th>\n",
       "      <td>31</td>\n",
       "      <td>32_20191107_VM2_Right_Right</td>\n",
       "    </tr>\n",
       "    <tr>\n",
       "      <th>32</th>\n",
       "      <td>32</td>\n",
       "      <td>33_20191003_VDRB1_nohole_Left</td>\n",
       "    </tr>\n",
       "    <tr>\n",
       "      <th>33</th>\n",
       "      <td>33</td>\n",
       "      <td>33_20200220_VDRB1N_Right</td>\n",
       "    </tr>\n",
       "    <tr>\n",
       "      <th>34</th>\n",
       "      <td>34</td>\n",
       "      <td>35_20191017_VDRB1_Left_Left</td>\n",
       "    </tr>\n",
       "    <tr>\n",
       "      <th>35</th>\n",
       "      <td>35</td>\n",
       "      <td>35_20191017_vdrb1_left_right</td>\n",
       "    </tr>\n",
       "    <tr>\n",
       "      <th>36</th>\n",
       "      <td>36</td>\n",
       "      <td>37_20191105_VDRB1_2Left_Left</td>\n",
       "    </tr>\n",
       "    <tr>\n",
       "      <th>37</th>\n",
       "      <td>37</td>\n",
       "      <td>37_20200220_VDRB1_2L_Right</td>\n",
       "    </tr>\n",
       "    <tr>\n",
       "      <th>38</th>\n",
       "      <td>38</td>\n",
       "      <td>39_20191031_VRDB2_Right_Right</td>\n",
       "    </tr>\n",
       "    <tr>\n",
       "      <th>39</th>\n",
       "      <td>39</td>\n",
       "      <td>39_20191121_VDRB2_Right_Left</td>\n",
       "    </tr>\n",
       "    <tr>\n",
       "      <th>40</th>\n",
       "      <td>40</td>\n",
       "      <td>41_20191105_VDRB2_2Right_Left</td>\n",
       "    </tr>\n",
       "    <tr>\n",
       "      <th>41</th>\n",
       "      <td>41</td>\n",
       "      <td>41_20191105_VDRB2_2Right_Right</td>\n",
       "    </tr>\n",
       "  </tbody>\n",
       "</table>\n",
       "</div>"
      ],
      "text/plain": [
       "    file                     PatientName\n",
       "0      0    03_20191022_c_0mgkg_r_ right\n",
       "1      1      03_20191119_c_0mgkg_r_left\n",
       "2      2      08_20191031_c_nohole_left \n",
       "3      3      08_20191031_c_nohole_right\n",
       "4      4      09_20190919_c_right_right \n",
       "5      5        09_20190919_c_right_left\n",
       "6      6        10_20190919_c_left_left \n",
       "7      7        10_20190919_c_left_right\n",
       "8      8      11_20191114_c_2_right_left\n",
       "9      9    11_20191114_c_2_right_right \n",
       "10    10      12_20191114_c_2_left_left \n",
       "11    11                    12_c2l_right\n",
       "12    12    13_20191112_drb_5mgkg_n_left\n",
       "13    13  13_20191112_drb_5mgkg_n_right \n",
       "14    14  15_20191010_dbr_5mgkg_2l_left \n",
       "15    15  15_20191010_dbr_5mgkg_2l_right\n",
       "16    16    16_20191121_drb1_nohole_left\n",
       "17    17  16_20191121_drb1_nohole_right \n",
       "18    18    17_20191114_DRB1_Right_Left \n",
       "19    19    17_20191114_DRB1_Right_Right\n",
       "20    20    22_20191024_DRB2_Right_Left \n",
       "21    21    22_20191024_DRB2_Right_Right\n",
       "22    22    23_20191001_VM1_nohole_Left \n",
       "23    23          23_20200219_VM1N_Right\n",
       "24    24      25_20191107_VM_43_2R_Left \n",
       "25    25      25_20191107_VM_43_2R_Right\n",
       "26    26        26_20191008_VM_43N_Left \n",
       "27    27          26_20200220_43N_Right \n",
       "28    28      30_20191031_VM1_2Left_Left\n",
       "29    29    30_20191031_VM1_2Left_Right \n",
       "30    30      32_20191107_VM2_Right_Left\n",
       "31    31    32_20191107_VM2_Right_Right \n",
       "32    32  33_20191003_VDRB1_nohole_Left \n",
       "33    33        33_20200220_VDRB1N_Right\n",
       "34    34    35_20191017_VDRB1_Left_Left \n",
       "35    35    35_20191017_vdrb1_left_right\n",
       "36    36    37_20191105_VDRB1_2Left_Left\n",
       "37    37      37_20200220_VDRB1_2L_Right\n",
       "38    38  39_20191031_VRDB2_Right_Right \n",
       "39    39    39_20191121_VDRB2_Right_Left\n",
       "40    40  41_20191105_VDRB2_2Right_Left \n",
       "41    41  41_20191105_VDRB2_2Right_Right"
      ]
     },
     "execution_count": 41,
     "metadata": {},
     "output_type": "execute_result"
    }
   ],
   "source": [
    "df = pd.DataFrame(list2, columns=['file','PatientName'])\n",
    "df"
   ]
  },
  {
   "cell_type": "code",
   "execution_count": 16,
   "metadata": {},
   "outputs": [],
   "source": [
    "def readdicomset(folderpath):\n",
    "    subfolder1 = \"/st000/se000/\"\n",
    "    # read dicom _dl_input\n",
    "    PathDicom = folderpath + subfolder1\n",
    "    # PathDicom = \"01_perprocess/\"+str(number1)+'/'+str(number1)+\"_in/\"\n",
    "    reader = vtk.vtkDICOMImageReader()\n",
    "    reader.SetDirectoryName(PathDicom)\n",
    "    reader.Update()\n",
    "    # Load dimensions using `GetDataExtent`\n",
    "    _extent = reader.GetDataExtent()\n",
    "    ConstPixelDims = [_extent[1]-_extent[0]+1, _extent[3]-_extent[2]+1, _extent[5]-_extent[4]+1]\n",
    "    # Load spacing values\n",
    "    ConstPixelSpacing = reader.GetPixelSpacing()\n",
    "    # Get the 'vtkImageData' object from the reader\n",
    "    imageData = reader.GetOutput()\n",
    "    # Get the 'vtkPointData' object from the 'vtkImageData' object\n",
    "    pointData = imageData.GetPointData()\n",
    "    # Ensure that only one array exists within the 'vtkPointData' object\n",
    "    assert (pointData.GetNumberOfArrays()==1)\n",
    "    # Get the `vtkArray` (or whatever derived type) which is needed for the `numpy_support.vtk_to_numpy` function\n",
    "    arrayData = pointData.GetArray(0)\n",
    "    # Convert the `vtkArray` to a NumPy array\n",
    "    ArrayDicom = numpy_support.vtk_to_numpy(arrayData)\n",
    "    # Reshape the NumPy array to 3D using 'ConstPixelDims' as a 'shape'\n",
    "    ArrayDicom = ArrayDicom.reshape(ConstPixelDims, order='F')\n",
    "    return ArrayDicom"
   ]
  },
  {
   "cell_type": "code",
   "execution_count": null,
   "metadata": {},
   "outputs": [],
   "source": [
    "# 23 list1[23]\n",
    "# 32 list1[31]\n",
    "# 33 list1[33]"
   ]
  },
  {
   "cell_type": "code",
   "execution_count": 75,
   "metadata": {},
   "outputs": [],
   "source": [
    "a_in = readdicomset(list1[33])"
   ]
  },
  {
   "cell_type": "code",
   "execution_count": 46,
   "metadata": {},
   "outputs": [
    {
     "data": {
      "text/plain": [
       "<matplotlib.image.AxesImage at 0x15f74c83588>"
      ]
     },
     "execution_count": 46,
     "metadata": {},
     "output_type": "execute_result"
    },
    {
     "data": {
      "image/png": "[encoded data removed]",
      "text/plain": [
       "<Figure size 432x288 with 1 Axes>"
      ]
     },
     "metadata": {
      "needs_background": "light"
     },
     "output_type": "display_data"
    }
   ],
   "source": [
    "plt.gray()\n",
    "image23 = skimage.transform.rotate(a_in[:,:,150],270)\n",
    "plt.imshow(image23)"
   ]
  },
  {
   "cell_type": "code",
   "execution_count": 47,
   "metadata": {},
   "outputs": [
    {
     "data": {
      "text/plain": [
       "<matplotlib.image.AxesImage at 0x15f75082f88>"
      ]
     },
     "execution_count": 47,
     "metadata": {},
     "output_type": "execute_result"
    },
    {
     "data": {
      "image/png": "[encoded data removed]",
      "text/plain": [
       "<Figure size 432x288 with 1 Axes>"
      ]
     },
     "metadata": {
      "needs_background": "light"
     },
     "output_type": "display_data"
    }
   ],
   "source": [
    "from skimage.filters import gaussian\n",
    "image24 = gaussian(image23,0.05)\n",
    "plt.imshow(image24)"
   ]
  },
  {
   "cell_type": "code",
   "execution_count": 69,
   "metadata": {},
   "outputs": [
    {
     "data": {
      "text/plain": [
       "<matplotlib.image.AxesImage at 0x15f767d1408>"
      ]
     },
     "execution_count": 69,
     "metadata": {},
     "output_type": "execute_result"
    },
    {
     "data": {
      "image/png": "[encoded data removed]",
      "text/plain": [
       "<Figure size 432x288 with 1 Axes>"
      ]
     },
     "metadata": {
      "needs_background": "light"
     },
     "output_type": "display_data"
    }
   ],
   "source": [
    "image = skimage.transform.rotate(a_in[:,:,150],270,preserve_range=True).copy()\n",
    "image = rescale(image, (resize1/a_in[:, :, i].shape[1]), preserve_range=True, anti_aliasing=False)\n",
    "image1 = gaussian(image,0.05,preserve_range=True)\n",
    "img0 = Image.fromarray(image1)\n",
    "plt.imshow(img0)"
   ]
  },
  {
   "cell_type": "markdown",
   "metadata": {},
   "source": [
    "# Code.v2 export master folder"
   ]
  },
  {
   "cell_type": "code",
   "execution_count": 76,
   "metadata": {},
   "outputs": [],
   "source": [
    "# output master folder for image and mask\n",
    "from PIL import Image\n",
    "from skimage.transform import rescale\n",
    "from skimage.filters import gaussian\n",
    "\n",
    "path_master_i = 'C:/Users/span/Documents/CNN/06_origdata/master_image_orig/'\n",
    "number1 = 33\n",
    "resize1 = 256\n",
    "\n",
    "# export master_image\n",
    "for i in range(a_in.shape[2]):\n",
    "    image = skimage.transform.rotate(a_in[:,:,i],270,preserve_range=True).copy()\n",
    "    image = gaussian(image,0.05,preserve_range=True)\n",
    "    image = rescale(image, (resize1/a_in[:, :, i].shape[1]), preserve_range=True, anti_aliasing=False)\n",
    "#     image = (((image - image.min()) / (image.max() - image.min())) * 255.9)\n",
    "    img0 = Image.fromarray(image.astype(np.uint8))\n",
    "    img0.save(path_master_i+str(number1)+\"_image_\"+str(\"{0:03}\".format(i))+\".png\")"
   ]
  },
  {
   "cell_type": "code",
   "execution_count": 58,
   "metadata": {},
   "outputs": [
    {
     "data": {
      "text/plain": [
       "<matplotlib.image.AxesImage at 0x15f769c1a48>"
      ]
     },
     "execution_count": 58,
     "metadata": {},
     "output_type": "execute_result"
    },
    {
     "data": {
      "image/png": "[encoded data removed]",
      "text/plain": [
       "<Figure size 432x288 with 1 Axes>"
      ]
     },
     "metadata": {
      "needs_background": "light"
     },
     "output_type": "display_data"
    }
   ],
   "source": [
    "# read image\n",
    "img22 = cv2.imread('C:/Users/span/Documents/CNN/06_origdata/master_image_orig/23_image_150.png')\n",
    "\n",
    "# C:/Users/span/Documents/CNN/02_data/train_mask_re255/seg\n",
    "# C:/Users/span/Documents/CNN/02_data/train_mask/23_train_mask/seg/\n",
    "\n",
    "# img22.shape\n",
    "# img22[150,:]\n",
    "plt.imshow(img22)"
   ]
  },
  {
   "cell_type": "code",
   "execution_count": null,
   "metadata": {},
   "outputs": [],
   "source": [
    "# output master folder for image and mask\n",
    "from PIL import Image\n",
    "from skimage.transform import rescale\n",
    "\n",
    "path_master_s = \"02_data/master_seg0255/\"\n",
    "\n",
    "resize1 = 256\n",
    "\n",
    "# export master_seg0255\n",
    "for i in range(a_mask.shape[2]):\n",
    "    image = a_mask[:, :, i].astype(np.uint8).copy()\n",
    "    image = rescale(image, (resize1/a_mask[:, :, i].shape[1]), anti_aliasing=False)\n",
    "    image[image != 0] = 255\n",
    "    img0 = Image.fromarray(image.astype(np.uint8))\n",
    "    img0.save(path_master_s+str(number1)+\"_image_\"+str(\"{0:03}\".format(i))+\".png\")"
   ]
  },
  {
   "cell_type": "code",
   "execution_count": null,
   "metadata": {},
   "outputs": [],
   "source": [
    "# output master folder for image and mask\n",
    "from PIL import Image\n",
    "from skimage.transform import rescale\n",
    "from scipy import ndimage as ndi\n",
    "\n",
    "path_master_s = \"02_data/master_seg0255fill/\"\n",
    "\n",
    "resize1 = 256\n",
    "\n",
    "# export master_seg0255\n",
    "for i in range(a_mask.shape[2]):\n",
    "    image = a_mask[:, :, i].copy()\n",
    "    image = ndi.binary_fill_holes(image).astype(np.uint8)\n",
    "    image = rescale(image, (resize1/a_mask[:, :, i].shape[1]), anti_aliasing=False)\n",
    "    image[image != 0] = 255\n",
    "    img0 = Image.fromarray(image.astype(np.uint8))\n",
    "    img0.save(path_master_s+str(number1)+\"_image_\"+str(\"{0:03}\".format(i))+\".png\")"
   ]
  },
  {
   "cell_type": "code",
   "execution_count": null,
   "metadata": {},
   "outputs": [],
   "source": [
    "# output master folder segre255\n",
    "from PIL import Image\n",
    "from skimage.transform import rescale\n",
    "from scipy import ndimage as ndi\n",
    "\n",
    "path_master_s2 = \"02_data/master_segre255fill/\"\n",
    "\n",
    "resize1 = 256\n",
    "\n",
    "# export master_segre255\n",
    "for i in range(a_mask.shape[2]):\n",
    "    image = a_mask[:, :, i].copy()\n",
    "    image = ndi.binary_fill_holes(image).astype(np.uint8)\n",
    "    image = rescale(image, (resize1/a_mask[:, :, i].shape[1]), anti_aliasing=False)\n",
    "    image = (((image - image.min()) / (image.max() - image.min())) * 255.9).astype(np.uint8)\n",
    "    img0 = Image.fromarray(image.astype(np.uint8))\n",
    "    img0.save(path_master_s2+str(number1)+\"_image_\"+str(\"{0:03}\".format(i))+\".png\")"
   ]
  },
  {
   "cell_type": "code",
   "execution_count": null,
   "metadata": {},
   "outputs": [],
   "source": [
    "# clean up\n",
    "backup1 = \"02_data/master_image-backup/\"\n",
    "\n",
    "target1 = \"02_data/master_image/\"\n",
    "\n",
    "listbc = os.listdir(backup1)\n",
    "listta = os.listdir(target1)\n",
    "\n",
    "def Diff(li1, li2):\n",
    "    return (list(list(set(li1)-set(li2)) + list(set(li2)-set(li1))))\n",
    "\n",
    "listdelete = Diff(listbc, listta)\n",
    "for i in listdelete:\n",
    "    os.remove(target1+str(i))"
   ]
  },
  {
   "cell_type": "code",
   "execution_count": 13,
   "metadata": {},
   "outputs": [
    {
     "data": {
      "text/plain": [
       "array([[0, 0, 0],\n",
       "       [0, 0, 0],\n",
       "       [0, 0, 0],\n",
       "       [0, 0, 0],\n",
       "       [0, 0, 0],\n",
       "       [0, 0, 0],\n",
       "       [0, 0, 0],\n",
       "       [0, 0, 0],\n",
       "       [0, 0, 0],\n",
       "       [0, 0, 0],\n",
       "       [0, 0, 0],\n",
       "       [0, 0, 0],\n",
       "       [0, 0, 0],\n",
       "       [0, 0, 0],\n",
       "       [0, 0, 0],\n",
       "       [0, 0, 0],\n",
       "       [0, 0, 0],\n",
       "       [0, 0, 0],\n",
       "       [0, 0, 0],\n",
       "       [0, 0, 0],\n",
       "       [0, 0, 0],\n",
       "       [0, 0, 0],\n",
       "       [0, 0, 0],\n",
       "       [0, 0, 0],\n",
       "       [0, 0, 0],\n",
       "       [0, 0, 0],\n",
       "       [0, 0, 0],\n",
       "       [0, 0, 0],\n",
       "       [0, 0, 0],\n",
       "       [0, 0, 0],\n",
       "       [0, 0, 0],\n",
       "       [0, 0, 0],\n",
       "       [0, 0, 0],\n",
       "       [0, 0, 0],\n",
       "       [0, 0, 0],\n",
       "       [0, 0, 0],\n",
       "       [0, 0, 0],\n",
       "       [0, 0, 0],\n",
       "       [0, 0, 0],\n",
       "       [0, 0, 0],\n",
       "       [0, 0, 0],\n",
       "       [0, 0, 0],\n",
       "       [0, 0, 0],\n",
       "       [0, 0, 0],\n",
       "       [0, 0, 0],\n",
       "       [0, 0, 0],\n",
       "       [0, 0, 0],\n",
       "       [0, 0, 0],\n",
       "       [0, 0, 0],\n",
       "       [0, 0, 0],\n",
       "       [0, 0, 0],\n",
       "       [0, 0, 0],\n",
       "       [0, 0, 0],\n",
       "       [0, 0, 0],\n",
       "       [0, 0, 0],\n",
       "       [0, 0, 0],\n",
       "       [0, 0, 0],\n",
       "       [0, 0, 0],\n",
       "       [0, 0, 0],\n",
       "       [0, 0, 0],\n",
       "       [0, 0, 0],\n",
       "       [0, 0, 0],\n",
       "       [0, 0, 0],\n",
       "       [0, 0, 0],\n",
       "       [0, 0, 0],\n",
       "       [0, 0, 0],\n",
       "       [0, 0, 0],\n",
       "       [0, 0, 0],\n",
       "       [0, 0, 0],\n",
       "       [0, 0, 0],\n",
       "       [0, 0, 0],\n",
       "       [0, 0, 0],\n",
       "       [0, 0, 0],\n",
       "       [0, 0, 0],\n",
       "       [0, 0, 0],\n",
       "       [0, 0, 0],\n",
       "       [0, 0, 0],\n",
       "       [0, 0, 0],\n",
       "       [0, 0, 0],\n",
       "       [0, 0, 0],\n",
       "       [0, 0, 0],\n",
       "       [0, 0, 0],\n",
       "       [0, 0, 0],\n",
       "       [0, 0, 0],\n",
       "       [0, 0, 0],\n",
       "       [0, 0, 0],\n",
       "       [0, 0, 0],\n",
       "       [0, 0, 0],\n",
       "       [0, 0, 0],\n",
       "       [0, 0, 0],\n",
       "       [0, 0, 0],\n",
       "       [0, 0, 0],\n",
       "       [0, 0, 0],\n",
       "       [0, 0, 0],\n",
       "       [0, 0, 0],\n",
       "       [0, 0, 0],\n",
       "       [0, 0, 0],\n",
       "       [0, 0, 0],\n",
       "       [0, 0, 0],\n",
       "       [0, 0, 0],\n",
       "       [0, 0, 0],\n",
       "       [0, 0, 0],\n",
       "       [0, 0, 0],\n",
       "       [0, 0, 0],\n",
       "       [0, 0, 0],\n",
       "       [0, 0, 0],\n",
       "       [0, 0, 0],\n",
       "       [0, 0, 0],\n",
       "       [0, 0, 0],\n",
       "       [0, 0, 0],\n",
       "       [0, 0, 0],\n",
       "       [0, 0, 0],\n",
       "       [0, 0, 0],\n",
       "       [0, 0, 0],\n",
       "       [0, 0, 0],\n",
       "       [0, 0, 0],\n",
       "       [0, 0, 0],\n",
       "       [0, 0, 0],\n",
       "       [0, 0, 0],\n",
       "       [0, 0, 0],\n",
       "       [0, 0, 0],\n",
       "       [0, 0, 0],\n",
       "       [0, 0, 0],\n",
       "       [0, 0, 0],\n",
       "       [0, 0, 0],\n",
       "       [1, 1, 1],\n",
       "       [1, 1, 1],\n",
       "       [1, 1, 1],\n",
       "       [1, 1, 1],\n",
       "       [1, 1, 1],\n",
       "       [1, 1, 1],\n",
       "       [1, 1, 1],\n",
       "       [1, 1, 1],\n",
       "       [1, 1, 1],\n",
       "       [1, 1, 1],\n",
       "       [1, 1, 1],\n",
       "       [4, 4, 4],\n",
       "       [3, 3, 3],\n",
       "       [3, 3, 3],\n",
       "       [3, 3, 3],\n",
       "       [3, 3, 3],\n",
       "       [3, 3, 3],\n",
       "       [3, 3, 3],\n",
       "       [3, 3, 3],\n",
       "       [3, 3, 3],\n",
       "       [3, 3, 3],\n",
       "       [3, 3, 3],\n",
       "       [3, 3, 3],\n",
       "       [3, 3, 3],\n",
       "       [3, 3, 3],\n",
       "       [3, 3, 3],\n",
       "       [3, 3, 3],\n",
       "       [3, 3, 3],\n",
       "       [3, 3, 3],\n",
       "       [3, 3, 3],\n",
       "       [1, 1, 1],\n",
       "       [1, 1, 1],\n",
       "       [1, 1, 1],\n",
       "       [1, 1, 1],\n",
       "       [1, 1, 1],\n",
       "       [1, 1, 1],\n",
       "       [1, 1, 1],\n",
       "       [1, 1, 1],\n",
       "       [1, 1, 1],\n",
       "       [1, 1, 1],\n",
       "       [1, 1, 1],\n",
       "       [1, 1, 1],\n",
       "       [1, 1, 1],\n",
       "       [1, 1, 1],\n",
       "       [1, 1, 1],\n",
       "       [1, 1, 1],\n",
       "       [1, 1, 1],\n",
       "       [1, 1, 1],\n",
       "       [1, 1, 1],\n",
       "       [1, 1, 1],\n",
       "       [1, 1, 1],\n",
       "       [1, 1, 1],\n",
       "       [1, 1, 1],\n",
       "       [1, 1, 1],\n",
       "       [1, 1, 1],\n",
       "       [1, 1, 1],\n",
       "       [1, 1, 1],\n",
       "       [1, 1, 1],\n",
       "       [1, 1, 1],\n",
       "       [1, 1, 1],\n",
       "       [2, 2, 2],\n",
       "       [0, 0, 0],\n",
       "       [0, 0, 0],\n",
       "       [0, 0, 0],\n",
       "       [0, 0, 0],\n",
       "       [0, 0, 0],\n",
       "       [0, 0, 0],\n",
       "       [0, 0, 0],\n",
       "       [0, 0, 0],\n",
       "       [0, 0, 0],\n",
       "       [0, 0, 0],\n",
       "       [0, 0, 0],\n",
       "       [0, 0, 0],\n",
       "       [0, 0, 0],\n",
       "       [0, 0, 0],\n",
       "       [0, 0, 0],\n",
       "       [0, 0, 0],\n",
       "       [0, 0, 0],\n",
       "       [0, 0, 0],\n",
       "       [0, 0, 0],\n",
       "       [0, 0, 0],\n",
       "       [0, 0, 0],\n",
       "       [0, 0, 0],\n",
       "       [0, 0, 0],\n",
       "       [0, 0, 0],\n",
       "       [0, 0, 0],\n",
       "       [0, 0, 0],\n",
       "       [0, 0, 0],\n",
       "       [0, 0, 0],\n",
       "       [0, 0, 0],\n",
       "       [0, 0, 0],\n",
       "       [0, 0, 0],\n",
       "       [0, 0, 0],\n",
       "       [0, 0, 0],\n",
       "       [0, 0, 0],\n",
       "       [0, 0, 0],\n",
       "       [0, 0, 0],\n",
       "       [0, 0, 0],\n",
       "       [0, 0, 0],\n",
       "       [0, 0, 0],\n",
       "       [0, 0, 0],\n",
       "       [0, 0, 0],\n",
       "       [0, 0, 0],\n",
       "       [0, 0, 0],\n",
       "       [0, 0, 0],\n",
       "       [0, 0, 0],\n",
       "       [0, 0, 0],\n",
       "       [0, 0, 0],\n",
       "       [0, 0, 0],\n",
       "       [0, 0, 0],\n",
       "       [0, 0, 0],\n",
       "       [0, 0, 0],\n",
       "       [0, 0, 0],\n",
       "       [0, 0, 0],\n",
       "       [0, 0, 0],\n",
       "       [0, 0, 0],\n",
       "       [0, 0, 0],\n",
       "       [0, 0, 0],\n",
       "       [0, 0, 0],\n",
       "       [0, 0, 0],\n",
       "       [0, 0, 0],\n",
       "       [0, 0, 0],\n",
       "       [0, 0, 0],\n",
       "       [0, 0, 0],\n",
       "       [0, 0, 0],\n",
       "       [0, 0, 0],\n",
       "       [0, 0, 0],\n",
       "       [0, 0, 0],\n",
       "       [0, 0, 0],\n",
       "       [0, 0, 0],\n",
       "       [0, 0, 0]], dtype=uint8)"
      ]
     },
     "execution_count": 13,
     "metadata": {},
     "output_type": "execute_result"
    }
   ],
   "source": [
    "# read image\n",
    "img22 = cv2.imread('C:/Users/span/Documents/CNN/06_origdata/master_seg3channelfill/23_image_125.png')\n",
    "\n",
    "# C:/Users/span/Documents/CNN/02_data/train_mask_re255/seg\n",
    "# C:/Users/span/Documents/CNN/02_data/train_mask/23_train_mask/seg/\n",
    "\n",
    "img22.shape\n",
    "img22[200,:]"
   ]
  },
  {
   "cell_type": "markdown",
   "metadata": {},
   "source": [
    "# Split to train and val"
   ]
  },
  {
   "cell_type": "code",
   "execution_count": null,
   "metadata": {},
   "outputs": [],
   "source": [
    "plt.gray()\n",
    "os.chdir('C:/Users/span/Documents/CNN/')"
   ]
  },
  {
   "cell_type": "code",
   "execution_count": null,
   "metadata": {},
   "outputs": [],
   "source": [
    "# Split to train and val\n",
    "path_master_i = \"02_data/master_image/\"\n",
    "path_master_s = \"02_data/master_seg0255/\"\n",
    "\n",
    "subfolder1 = \"_0255/\"\n",
    "path1 = \"02_data/train_image\"+subfolder1\n",
    "path2 = \"02_data/train_mask\"+subfolder1\n",
    "path3 = \"02_data/val_image\"+subfolder1\n",
    "path4 = \"02_data/val_mask\"+subfolder1"
   ]
  },
  {
   "cell_type": "code",
   "execution_count": null,
   "metadata": {},
   "outputs": [],
   "source": [
    "import random\n",
    "random.seed(a=1024, version=2)\n",
    "list1 = os.listdir(path_master_i)\n",
    "list2 = random.sample(list1, k=round(len(list1)*0.7))\n",
    "list3 = [x for x in list1 if (x not in list2)]"
   ]
  },
  {
   "cell_type": "code",
   "execution_count": null,
   "metadata": {},
   "outputs": [],
   "source": [
    "from shutil import copy\n",
    "\n",
    "for i in list2:\n",
    "    copy(path_master_i+ str(i), path1+'image/')\n",
    "    copy(path_master_s+ str(i), path2+'seg/')\n",
    "    \n",
    "for i in list3:\n",
    "    copy(path_master_i+ str(i), path3+'image/')\n",
    "    copy(path_master_s+ str(i), path4+'seg/')"
   ]
  },
  {
   "cell_type": "code",
   "execution_count": null,
   "metadata": {},
   "outputs": [],
   "source": [
    "path_master_s2 = \"02_data/master_seg3channelfill/\"\n",
    "subfolder1 = \"_seg3channelfill/\"\n",
    "path2 = \"02_data/train_mask\"+subfolder1\n",
    "path4 = \"02_data/val_mask\"+subfolder1"
   ]
  },
  {
   "cell_type": "code",
   "execution_count": null,
   "metadata": {},
   "outputs": [],
   "source": [
    "from shutil import copy\n",
    "\n",
    "for i in list3:\n",
    "    copy(path_master_s2+ str(i), path4+'seg/')\n",
    "    \n",
    "for i in list2:\n",
    "    copy(path_master_s2+ str(i), path2+'seg/')"
   ]
  },
  {
   "cell_type": "code",
   "execution_count": null,
   "metadata": {},
   "outputs": [],
   "source": [
    "# Val to val and test\n",
    "from shutil import move\n",
    "\n",
    "subfolder1 = \"_0255/\"\n",
    "subfolder2 = \"_seg3channelfill/\"\n",
    "path3 = \"02_data/val_image\"+subfolder1\n",
    "path4 = \"02_data/val_mask\"+subfolder2\n",
    "\n",
    "path5 = \"02_data/test_image\"+subfolder1\n",
    "path6 = \"02_data/test_mask\"+subfolder2\n",
    "\n",
    "random.seed(a=1024, version=2)\n",
    "list1 = os.listdir(path3+'image/')\n",
    "list2 = random.sample(list1, k=round(len(list1)*0.5))\n",
    "list3 = [x for x in list1 if (x not in list2)]"
   ]
  },
  {
   "cell_type": "code",
   "execution_count": null,
   "metadata": {},
   "outputs": [],
   "source": [
    "for i in list3:\n",
    "    move(path3+'image/'+ str(i), path5+'image/'+ str(i))\n",
    "    move(path4+'seg/'+ str(i), path6+'seg/'+ str(i))"
   ]
  },
  {
   "cell_type": "code",
   "execution_count": null,
   "metadata": {},
   "outputs": [],
   "source": []
  },
  {
   "cell_type": "markdown",
   "metadata": {},
   "source": [
    "# Code.v1 export separatly"
   ]
  },
  {
   "cell_type": "code",
   "execution_count": null,
   "metadata": {},
   "outputs": [],
   "source": [
    "assert a_in.shape == a_mask.shape"
   ]
  },
  {
   "cell_type": "code",
   "execution_count": null,
   "metadata": {},
   "outputs": [],
   "source": [
    "import random\n",
    "random.seed(a=1024, version=2)\n",
    "list1 = list(range(a_in.shape[2]))\n",
    "trainlist1 = random.sample(list1, k=round(a_in.shape[2]*0.6))\n",
    "testlist1 = [x for x in list1 if (x not in trainlist1)]"
   ]
  },
  {
   "cell_type": "code",
   "execution_count": null,
   "metadata": {},
   "outputs": [],
   "source": [
    "for i in list2:\n",
    "    os.replace(str(path3)+'image/'+ str(i), str(path1)+'image/'+ str(i))\n",
    "    os.replace(str(path4)+'image/'+ str(i), str(path2)+'image/'+ str(i))"
   ]
  },
  {
   "cell_type": "code",
   "execution_count": null,
   "metadata": {},
   "outputs": [],
   "source": [
    "from PIL import Image\n",
    "from skimage.transform import rescale\n",
    "# output  23_train_image\n",
    "path1 = \"02_data/train_image_re255/image/\"\n",
    "path3 = \"02_data/val_image_re255/image/\"\n",
    "\n",
    "resize1 = 256\n",
    "\n",
    "# output  23_train_image\n",
    "for i in trainlist1:\n",
    "    image = a_in[:, :, i].astype(np.uint8).copy()\n",
    "    image = rescale(image, (resize1/a_in[:, :, i].shape[1]), anti_aliasing=False)\n",
    "    image = (((image - image.min()) / (image.max() - image.min())) * 255.9).astype(np.uint8)\n",
    "    img0 = Image.fromarray(image)\n",
    "    img0.save(path1+str(number1)+\"_taimage_\"+str(\"{0:03}\".format(i))+\".png\")\n",
    "    \n",
    "# output  23_test_image\n",
    "\n",
    "for i in testlist1:\n",
    "    image = a_in[:, :, i].astype(np.uint8).copy()\n",
    "    image = rescale(image, (resize1/a_in[:, :, i].shape[1]), anti_aliasing=False)\n",
    "    image = (((image - image.min()) / (image.max() - image.min())) * 255.9).astype(np.uint8)\n",
    "    img0 = Image.fromarray(image)\n",
    "    img0.save(path3+str(number1)+\"_tsimage_\"+str(\"{0:03}\".format(i))+\".png\")"
   ]
  },
  {
   "cell_type": "code",
   "execution_count": null,
   "metadata": {},
   "outputs": [],
   "source": [
    "from PIL import Image\n",
    "from skimage.transform import rescale\n",
    "# re255 rescale to 0 - 255\n",
    "\n",
    "path2 = \"02_data/train_mask_re255/seg/\"\n",
    "path4 = \"02_data/val_mask_re255/seg/\"\n",
    "\n",
    "# output  23_train_mask\n",
    "\n",
    "for i in trainlist1:\n",
    "    image = a_mask[:, :, i].astype(np.uint8).copy()\n",
    "    image = rescale(image, (resize1/a_in[:, :, i].shape[1]), anti_aliasing=False)\n",
    "    image = (((image - image.min()) / (image.max() - image.min())) * 255.9).astype(np.uint8)\n",
    "    img0 = Image.fromarray(image)\n",
    "    img0.save(path2+str(number1)+\"_taimage_\"+str(\"{0:03}\".format(i))+\".png\")\n",
    "\n",
    "\n",
    "# output  23_train_mask\n",
    "\n",
    "for i in testlist1:\n",
    "    image = a_mask[:, :, i].astype(np.uint8).copy()\n",
    "    image = rescale(image, (resize1/a_in[:, :, i].shape[1]), anti_aliasing=False)\n",
    "    image = (((image - image.min()) / (image.max() - image.min())) * 255.9).astype(np.uint8)\n",
    "    img0 = Image.fromarray(image)\n",
    "    img0.save(path4+str(number1)+\"_tsimage_\"+str(\"{0:03}\".format(i))+\".png\")"
   ]
  },
  {
   "cell_type": "code",
   "execution_count": null,
   "metadata": {},
   "outputs": [],
   "source": [
    "# rescale to only 0 and 255\n",
    "\n",
    "path2 = \"02_data/train_mask_0255/seg/\"\n",
    "path4 = \"02_data/val_mask_0255/seg/\"\n",
    "# output  23_train_mask\n",
    "\n",
    "for i in trainlist1:\n",
    "    image = a_mask[:, :, i].astype(np.uint8).copy()\n",
    "    image = rescale(image, (resize1/a_in[:, :, i].shape[1]), anti_aliasing=False)\n",
    "    image[image != 0] = 255\n",
    "    img0 = Image.fromarray(image.astype(np.uint8))\n",
    "    img0.save(path2+str(number1)+\"_taimage_\"+str(\"{0:03}\".format(i))+\".png\")\n",
    "\n",
    "\n",
    "# output  23_train_mask\n",
    "\n",
    "for i in testlist1:\n",
    "    image = a_mask[:, :, i].astype(np.uint8).copy()\n",
    "    image = rescale(image, (resize1/a_in[:, :, i].shape[1]), anti_aliasing=False)\n",
    "    image[image != 0] = 255\n",
    "    img0 = Image.fromarray(image.astype(np.uint8))\n",
    "    img0.save(path4+str(number1)+\"_tsimage_\"+str(\"{0:03}\".format(i))+\".png\")"
   ]
  },
  {
   "cell_type": "code",
   "execution_count": null,
   "metadata": {},
   "outputs": [],
   "source": [
    "import PIL.ImageOps\n",
    "from PIL import Image\n",
    "from skimage.transform import rescale\n",
    "# output  23_train_image\n",
    "\n",
    "path2 = \"02_data/train_mask/23_train_mask/bg/\"\n",
    "path4 = \"02_data/val_mask/23_test_mask/bg/\"\n",
    "\n",
    "\n",
    "# output  23_train_mask bg\n",
    "for i in trainlist1:\n",
    "    image = a_mask[:, :, i].astype(np.uint8).copy()\n",
    "    image = rescale(image, (resize1/a_in[:, :, i].shape[1]), anti_aliasing=False)\n",
    "    image = (((image - image.min()) / (image.max() - image.min())) * 255.9).astype(np.uint8)\n",
    "    img0 = Image.fromarray(image)\n",
    "    img0 = PIL.ImageOps.invert(img0)\n",
    "    img0.save(path2+str(number1)+\"_taimage_\"+str(\"{0:03}\".format(i))+\".png\")\n",
    "\n",
    "# output  23_train_mask bg\n",
    "\n",
    "for i in testlist1:\n",
    "    image = a_mask[:, :, i].astype(np.uint8).copy()\n",
    "    image = rescale(image, (resize1/a_in[:, :, i].shape[1]), anti_aliasing=False)\n",
    "    image = (((image - image.min()) / (image.max() - image.min())) * 255.9).astype(np.uint8)\n",
    "    img0 = Image.fromarray(image)\n",
    "    img0 = PIL.ImageOps.invert(img0)\n",
    "    img0.save(path4+str(number1)+\"_tsimage_\"+str(\"{0:03}\".format(i))+\".png\")"
   ]
  },
  {
   "cell_type": "code",
   "execution_count": null,
   "metadata": {},
   "outputs": [],
   "source": []
  },
  {
   "cell_type": "code",
   "execution_count": null,
   "metadata": {},
   "outputs": [],
   "source": [
    "plt.gray()\n",
    "os.chdir('C:/Users/span/Documents/CNN/')"
   ]
  },
  {
   "cell_type": "code",
   "execution_count": null,
   "metadata": {},
   "outputs": [],
   "source": [
    "path1 = \"02_data/train_image_0255/\"\n",
    "path2 = \"02_data/train_mask_0255/\"\n",
    "path3 = \"02_data/val_image_0255/\"\n",
    "path4 = \"02_data/val_mask_0255/\""
   ]
  },
  {
   "cell_type": "code",
   "execution_count": null,
   "metadata": {},
   "outputs": [],
   "source": [
    "import random\n",
    "random.seed(a=1024, version=2)\n",
    "list1 = os.listdir(str(path3)+'image/')\n",
    "list2 = random.sample(list1, k=64)"
   ]
  },
  {
   "cell_type": "code",
   "execution_count": null,
   "metadata": {},
   "outputs": [],
   "source": [
    "for i in list2:\n",
    "    os.replace(str(path3)+'image/'+ str(i), str(path1)+'image/'+ str(i))\n",
    "    os.replace(str(path4)+'image/'+ str(i), str(path2)+'image/'+ str(i))"
   ]
  },
  {
   "cell_type": "code",
   "execution_count": null,
   "metadata": {},
   "outputs": [],
   "source": []
  },
  {
   "cell_type": "code",
   "execution_count": null,
   "metadata": {},
   "outputs": [],
   "source": [
    "i1 = 25\n",
    "i2 = 45\n",
    "fig, (ax0, ax1, ax2, ax3) = plt.subplots(1, 4, figsize=(16, 6.4),\n",
    "                                    sharex=True, sharey=True)\n",
    "ax0.imshow(a_in[:, :, trainlist1[i1]], cmap='gray')\n",
    "ax0.axis('off')\n",
    "ax0.set_title('a in 1')\n",
    "ax1.imshow(a_mask[:, :, trainlist1[i1]], cmap='gray')\n",
    "ax1.axis('off')\n",
    "ax1.set_title('a out 1')\n",
    "ax2.imshow(a_in[:, :, trainlist1[i2]], cmap='gray') # 'magma'\n",
    "ax2.axis('off')\n",
    "ax2.set_title('a in 2')\n",
    "ax3.imshow(a_mask[:, :, trainlist1[i2]], cmap='gray')\n",
    "ax3.axis('off')\n",
    "ax3.set_title('a out 2')\n",
    "\n",
    "fig.tight_layout()\n",
    "plt.show()"
   ]
  },
  {
   "cell_type": "markdown",
   "metadata": {},
   "source": [
    "GENERATORS"
   ]
  },
  {
   "cell_type": "code",
   "execution_count": null,
   "metadata": {},
   "outputs": [],
   "source": []
  },
  {
   "cell_type": "code",
   "execution_count": null,
   "metadata": {},
   "outputs": [],
   "source": []
  },
  {
   "cell_type": "markdown",
   "metadata": {},
   "source": [
    "CNN layer calculate "
   ]
  },
  {
   "cell_type": "code",
   "execution_count": null,
   "metadata": {},
   "outputs": [],
   "source": [
    "# [filter size, stride, padding]\n",
    "#Assume the two dimensions are the same\n",
    "#Each kernel requires the following parameters:\n",
    "# - k_i: kernel size\n",
    "# - s_i: stride\n",
    "# - p_i: padding (if padding is uneven, right padding will higher than left padding; \"SAME\" option in tensorflow)\n",
    "# \n",
    "#Each layer i requires the following parameters to be fully represented: \n",
    "# - n_i: number of feature (data layer has n_1 = imagesize )\n",
    "# - j_i: distance (projected to image pixel distance) between center of two adjacent features\n",
    "# - r_i: receptive field of a feature in layer i\n",
    "# - start_i: position of the first feature's receptive field in layer i (idx start from 0, negative means the center fall into padding)\n",
    "\n",
    "import math\n",
    "convnet =   [[11,4,0],[3,2,0],[5,1,2],[3,2,0],[3,1,1],[3,1,1],[3,1,1],[3,2,0],[6,1,0], [1, 1, 0]]\n",
    "layer_names = ['conv1','pool1','conv2','pool2','conv3','conv4','conv5','pool5','fc6-conv', 'fc7-conv']\n",
    "imsize = 227\n",
    "\n",
    "def outFromIn(conv, layerIn):\n",
    "  n_in = layerIn[0]\n",
    "  j_in = layerIn[1]\n",
    "  r_in = layerIn[2]\n",
    "  start_in = layerIn[3]\n",
    "  k = conv[0]\n",
    "  s = conv[1]\n",
    "  p = conv[2]\n",
    "  \n",
    "  n_out = math.floor((n_in - k + 2*p)/s) + 1\n",
    "  actualP = (n_out-1)*s - n_in + k \n",
    "  pR = math.ceil(actualP/2)\n",
    "  pL = math.floor(actualP/2)\n",
    "  \n",
    "  j_out = j_in * s\n",
    "  r_out = r_in + (k - 1)*j_in\n",
    "  start_out = start_in + ((k-1)/2 - pL)*j_in\n",
    "  return n_out, j_out, r_out, start_out\n",
    "  \n",
    "def printLayer(layer, layer_name):\n",
    "  print(layer_name + \":\")\n",
    "  print(\"\\t n features: %s \\n \\t jump: %s \\n \\t receptive size: %s \\t start: %s \" % (layer[0], layer[1], layer[2], layer[3]))\n",
    " \n",
    "layerInfos = []\n",
    "if __name__ == '__main__':\n",
    "#first layer is the data layer (image) with n_0 = image size; j_0 = 1; r_0 = 1; and start_0 = 0.5\n",
    "  print (\"-------Net summary------\")\n",
    "  currentLayer = [imsize, 1, 1, 0.5]\n",
    "  printLayer(currentLayer, \"input image\")\n",
    "  for i in range(len(convnet)):\n",
    "    currentLayer = outFromIn(convnet[i], currentLayer)\n",
    "    layerInfos.append(currentLayer)\n",
    "    printLayer(currentLayer, layer_names[i])\n",
    "  print (\"------------------------\")\n",
    "  layer_name = raw_input (\"Layer name where the feature in: \")\n",
    "  layer_idx = layer_names.index(layer_name)\n",
    "  idx_x = int(raw_input (\"index of the feature in x dimension (from 0)\"))\n",
    "  idx_y = int(raw_input (\"index of the feature in y dimension (from 0)\"))\n",
    "  \n",
    "  n = layerInfos[layer_idx][0]\n",
    "  j = layerInfos[layer_idx][1]\n",
    "  r = layerInfos[layer_idx][2]\n",
    "  start = layerInfos[layer_idx][3]\n",
    "  assert(idx_x < n)\n",
    "  assert(idx_y < n)\n",
    "  \n",
    "  print (\"receptive field: (%s, %s)\" % (r, r))\n",
    "  print (\"center: (%s, %s)\" % (start+idx_x*j, start+idx_y*j))"
   ]
  },
  {
   "cell_type": "code",
   "execution_count": null,
   "metadata": {},
   "outputs": [],
   "source": []
  }
 ],
 "metadata": {
  "kernelspec": {
   "display_name": "Python 3",
   "language": "python",
   "name": "python3"
  },
  "language_info": {
   "codemirror_mode": {
    "name": "ipython",
    "version": 3
   },
   "file_extension": ".py",
   "mimetype": "text/x-python",
   "name": "python",
   "nbconvert_exporter": "python",
   "pygments_lexer": "ipython3",
   "version": "3.7.9"
  }
 },
 "nbformat": 4,
 "nbformat_minor": 4
}
