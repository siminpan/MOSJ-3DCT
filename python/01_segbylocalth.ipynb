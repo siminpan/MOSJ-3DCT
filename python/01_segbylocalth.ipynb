{
 "cells": [
  {
   "cell_type": "markdown",
   "metadata": {},
   "source": [
    "read dicom"
   ]
  },
  {
   "cell_type": "code",
   "execution_count": 1,
   "metadata": {},
   "outputs": [],
   "source": [
    "import numpy as np\n",
    "import skimage.measure\n",
    "import pydicom\n",
    "import vtk\n",
    "from vtk.util import numpy_support\n",
    "import os\n",
    "import matplotlib.pyplot as plt\n",
    "import cv2"
   ]
  },
  {
   "cell_type": "code",
   "execution_count": 2,
   "metadata": {},
   "outputs": [
    {
     "data": {
      "text/plain": [
       "22"
      ]
     },
     "execution_count": 2,
     "metadata": {},
     "output_type": "execute_result"
    }
   ],
   "source": [
    "import gc\n",
    "gc.collect()"
   ]
  },
  {
   "cell_type": "code",
   "execution_count": 3,
   "metadata": {},
   "outputs": [
    {
     "data": {
      "text/plain": [
       "<Figure size 432x288 with 0 Axes>"
      ]
     },
     "metadata": {},
     "output_type": "display_data"
    }
   ],
   "source": [
    "plt.gray()\n",
    "os.chdir('C:/Users/span/Documents/CNN/')\n",
    "number1 = 37"
   ]
  },
  {
   "cell_type": "code",
   "execution_count": 4,
   "metadata": {},
   "outputs": [],
   "source": [
    "PathDicom = \"01_perprocess/\"+str(number1)+'/'+str(number1)+\"_5/\"\n",
    "reader = vtk.vtkDICOMImageReader()\n",
    "reader.SetDirectoryName(PathDicom)\n",
    "reader.Update()\n",
    "\n",
    "# Load dimensions using `GetDataExtent`\n",
    "_extent = reader.GetDataExtent()\n",
    "ConstPixelDims = [_extent[1]-_extent[0]+1, _extent[3]-_extent[2]+1, _extent[5]-_extent[4]+1]\n",
    "\n",
    "# Load spacing values\n",
    "ConstPixelSpacing = reader.GetPixelSpacing()\n",
    "\n",
    "# Get the 'vtkImageData' object from the reader\n",
    "imageData = reader.GetOutput()\n",
    "# Get the 'vtkPointData' object from the 'vtkImageData' object\n",
    "pointData = imageData.GetPointData()\n",
    "# Ensure that only one array exists within the 'vtkPointData' object\n",
    "assert (pointData.GetNumberOfArrays()==1)\n",
    "# Get the `vtkArray` (or whatever derived type) which is needed for the `numpy_support.vtk_to_numpy` function\n",
    "arrayData = pointData.GetArray(0)\n",
    "\n",
    "# Convert the `vtkArray` to a NumPy array\n",
    "ArrayDicom = numpy_support.vtk_to_numpy(arrayData)\n",
    "# Reshape the NumPy array to 3D using 'ConstPixelDims' as a 'shape'\n",
    "ArrayDicom = ArrayDicom.reshape(ConstPixelDims, order='F')\n",
    "\n",
    "a = ArrayDicom.copy()"
   ]
  },
  {
   "cell_type": "code",
   "execution_count": 5,
   "metadata": {},
   "outputs": [],
   "source": [
    "# output image\n",
    "from PIL import Image\n",
    "pathin = \"01_perprocess/\"+str(number1)+'/'+str(number1)+\"_in/\"\n",
    "a1 = np.where(a <= -1000, -999, a) \n",
    "for i in range(a.shape[2]):\n",
    "    image = a1[:, :, i].copy()\n",
    "    I8_0 = (((image - a1.min()) / (a1.max() - a1.min())) * 255.9).astype(np.uint8)\n",
    "    img0 = Image.fromarray(I8_0)\n",
    "    img0.save(pathin+str(number1)+\"_in_rec00000\"+str(\"{0:03}\".format(i))+\".bmp\")"
   ]
  },
  {
   "cell_type": "code",
   "execution_count": 6,
   "metadata": {},
   "outputs": [],
   "source": [
    "from scipy import ndimage as ndi\n",
    "\n",
    "from PIL import Image\n",
    "\n",
    "from skimage import filters, io, morphology, img_as_bool, segmentation\n",
    "from skimage.filters import threshold_local\n",
    "from skimage.feature import canny\n",
    "from skimage.measure import label, regionprops\n",
    "from skimage.color import label2rgb\n",
    "from skimage.transform import rescale, resize, downscale_local_mean\n",
    "\n",
    "import cv2"
   ]
  },
  {
   "cell_type": "code",
   "execution_count": 7,
   "metadata": {},
   "outputs": [],
   "source": [
    "# define rescale\n",
    "from scipy import ndimage as ndi\n",
    "from skimage import io, morphology, img_as_bool, segmentation\n",
    "from skimage import filters\n",
    "from skimage.transform import rescale\n",
    "from skimage.measure import regionprops\n",
    "from skimage import morphology\n",
    "from skimage.feature import canny\n",
    "import cv2\n",
    "\n",
    "def overlay_image_center(image, rescale, block_size, manoff, imageremovesize, removesize):\n",
    "#     overlay image for cut inner off\n",
    "    threshold_value = skimage.filters.threshold_otsu(image)\n",
    "    labeled_foreground = (image > threshold_value)\n",
    "#     labeled_backeground = np.where(skimage.morphology.remove_small_objects(labeled_foreground, imageremovesize) == 0,1,0)\n",
    "    center_of_mass = skimage.measure.regionprops(labeled_foreground.astype(int), labeled_foreground.astype(int))[0].centroid\n",
    "    image_rescaled = skimage.transform.rescale(labeled_foreground.astype(int), rescale, anti_aliasing=False)\n",
    "    image_rescaled[image_rescaled == image_rescaled.min()] = 0\n",
    "    image_rescaled[image_rescaled != image_rescaled.min()] = 1\n",
    "    center_of_mass1 = skimage.measure.regionprops(image_rescaled.astype(int), image_rescaled)[0].centroid\n",
    "    image_rescaled3 = skimage.morphology.closing(skimage.feature.canny(image_rescaled, sigma=1))\n",
    "    s_img = image_rescaled3\n",
    "    l_img = labeled_foreground.astype(int)\n",
    "    l_img[l_img != 0] =0\n",
    "    x_offset= round(center_of_mass[1] - center_of_mass1[1]).astype(int)\n",
    "    y_offset= round(center_of_mass[0] - center_of_mass1[0]).astype(int)\n",
    "    l_img[y_offset:y_offset+s_img.shape[0], x_offset:x_offset+s_img.shape[1]] = s_img\n",
    "#     process image\n",
    "    binary_image1 = image > (skimage.filters.threshold_local(image, block_size,offset=0, method='mean')+manoff)\n",
    "    binary_image2 = skimage.morphology.remove_small_objects(binary_image1, imageremovesize)\n",
    "#     fill_coins = ndi.binary_fill_holes(binary_image1)\n",
    "    binary_image5_0 = binary_image2 > l_img\n",
    "    binary_image5_0_1 = skimage.morphology.remove_small_objects(binary_image5_0, removesize)\n",
    "    # background\n",
    "    out = ndi.distance_transform_edt(~binary_image2)\n",
    "    out = out < 0.05 * out.max()\n",
    "    out = morphology.skeletonize(out)\n",
    "    out = morphology.binary_dilation(out, morphology.selem.disk(1))\n",
    "    out = segmentation.clear_border(out)\n",
    "    out = out | binary_image2\n",
    "    labeled_backeground = np.where(ndi.binary_fill_holes(out) == 0,1,0)\n",
    "    binary_image5_1 = labeled_backeground + binary_image5_0_1\n",
    "    binary_image5_1 = np.where(binary_image5_1 != 0,1,0)\n",
    "    return binary_image5_1"
   ]
  },
  {
   "cell_type": "code",
   "execution_count": 8,
   "metadata": {},
   "outputs": [
    {
     "name": "stderr",
     "output_type": "stream",
     "text": [
      "C:\\Users\\span\\anaconda3\\envs\\tf-n-gpu\\lib\\site-packages\\ipykernel_launcher.py:17: RuntimeWarning: invalid value encountered in true_divide\n"
     ]
    }
   ],
   "source": [
    "from PIL import Image\n",
    "pathout = \"01_perprocess/\"+str(number1)+'/'+str(number1)+\"_out/\"\n",
    "result = np.empty([596, 596])\n",
    "for i in range(a.shape[2]):\n",
    "    image = a[:, :, i].copy()\n",
    "    image[0,0] = 1\n",
    "    block_size = 23\n",
    "    binary_image1 = image > (threshold_local(image, block_size,offset=0, method='mean')+20)\n",
    "    binary_image5_1 = overlay_image_center(image=image, \n",
    "                                       rescale=0.7, # rescale=0.6\n",
    "                                       block_size=23, \n",
    "                                       manoff=20, \n",
    "                                       imageremovesize=4000, \n",
    "                                       removesize=2000)\n",
    "    binary_image5 = binary_image1 > binary_image5_1\n",
    "    binary_image6 = morphology.remove_small_objects(binary_image5, 50)\n",
    "    I8_1 = (((binary_image6.astype(np.uint8) - binary_image6.astype(np.uint8).min()) / (binary_image6.astype(np.uint8).max() - binary_image6.astype(np.uint8).min())) * 255.9).astype(np.uint8)\n",
    "    img1 = Image.fromarray(I8_1)\n",
    "    img1.save(pathout+str(number1)+\"_out_rec00000\"+str(\"{0:03}\".format(i))+\".bmp\")"
   ]
  },
  {
   "cell_type": "code",
   "execution_count": null,
   "metadata": {},
   "outputs": [],
   "source": []
  }
 ],
 "metadata": {
  "kernelspec": {
   "display_name": "Python 3",
   "language": "python",
   "name": "python3"
  },
  "language_info": {
   "codemirror_mode": {
    "name": "ipython",
    "version": 3
   },
   "file_extension": ".py",
   "mimetype": "text/x-python",
   "name": "python",
   "nbconvert_exporter": "python",
   "pygments_lexer": "ipython3",
   "version": "3.7.9"
  }
 },
 "nbformat": 4,
 "nbformat_minor": 4
}
