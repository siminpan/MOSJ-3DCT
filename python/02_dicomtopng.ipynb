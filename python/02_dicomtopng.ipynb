{
 "cells": [
  {
   "cell_type": "code",
   "execution_count": 1,
   "metadata": {},
   "outputs": [],
   "source": [
    "import numpy as np\n",
    "import skimage.measure\n",
    "# import pydicom\n",
    "import vtk\n",
    "from vtk.util import numpy_support\n",
    "import os\n",
    "import matplotlib.pyplot as plt\n",
    "import cv2"
   ]
  },
  {
   "cell_type": "code",
   "execution_count": null,
   "metadata": {},
   "outputs": [],
   "source": [
    "import gc\n",
    "gc.collect()"
   ]
  },
  {
   "cell_type": "code",
   "execution_count": 4,
   "metadata": {},
   "outputs": [
    {
     "data": {
      "text/plain": [
       "<Figure size 432x288 with 0 Axes>"
      ]
     },
     "metadata": {},
     "output_type": "display_data"
    }
   ],
   "source": [
    "# set working directory\n",
    "plt.gray()\n",
    "os.chdir('C:/Users/span/Documents/CNN/')"
   ]
  },
  {
   "cell_type": "code",
   "execution_count": 6,
   "metadata": {},
   "outputs": [],
   "source": [
    "def readdicomset(number1, sub1):\n",
    "    # read dicom _dl_input\n",
    "    PathDicom = \"01_perprocess/\"+str(number1)+'/'+str(number1)+str(sub1)\n",
    "    # PathDicom = \"01_perprocess/\"+str(number1)+'/'+str(number1)+\"_in/\"\n",
    "    reader = vtk.vtkDICOMImageReader()\n",
    "    reader.SetDirectoryName(PathDicom)\n",
    "    reader.Update()\n",
    "    # Load dimensions using `GetDataExtent`\n",
    "    _extent = reader.GetDataExtent()\n",
    "    ConstPixelDims = [_extent[1]-_extent[0]+1, _extent[3]-_extent[2]+1, _extent[5]-_extent[4]+1]\n",
    "    # Load spacing values\n",
    "    ConstPixelSpacing = reader.GetPixelSpacing()\n",
    "    # Get the 'vtkImageData' object from the reader\n",
    "    imageData = reader.GetOutput()\n",
    "    # Get the 'vtkPointData' object from the 'vtkImageData' object\n",
    "    pointData = imageData.GetPointData()\n",
    "    # Ensure that only one array exists within the 'vtkPointData' object\n",
    "    assert (pointData.GetNumberOfArrays()==1)\n",
    "    # Get the `vtkArray` (or whatever derived type) which is needed for the `numpy_support.vtk_to_numpy` function\n",
    "    arrayData = pointData.GetArray(0)\n",
    "    # Convert the `vtkArray` to a NumPy array\n",
    "    ArrayDicom = numpy_support.vtk_to_numpy(arrayData)\n",
    "    # Reshape the NumPy array to 3D using 'ConstPixelDims' as a 'shape'\n",
    "    ArrayDicom = ArrayDicom.reshape(ConstPixelDims, order='F')\n",
    "    a = np.where(ArrayDicom <= -1000, -999, ArrayDicom)\n",
    "#     a = np.moveaxis(a, 0, 1)\n",
    "    return a"
   ]
  },
  {
   "cell_type": "code",
   "execution_count": 7,
   "metadata": {},
   "outputs": [],
   "source": [
    "number1 = 32\n",
    "a_in = readdicomset(number1, \"_dl_input/\")\n",
    "# a_mask = readdicomset(number1, \"_dl_mask/\")"
   ]
  },
  {
   "cell_type": "markdown",
   "metadata": {},
   "source": [
    "# Code.v2 export master folder"
   ]
  },
  {
   "cell_type": "code",
   "execution_count": 8,
   "metadata": {},
   "outputs": [],
   "source": [
    "# output master folder for image and mask\n",
    "from PIL import Image\n",
    "from skimage.transform import rescale, rotate\n",
    "\n",
    "path_master_i = \"02_data/master_image/\"\n",
    "\n",
    "resize1 = 256\n",
    "\n",
    "# export master_image\n",
    "for i in range(a_in.shape[2]):\n",
    "    image = a_in[:, :, i].astype(np.uint8).copy()\n",
    "    image = rescale(image, (resize1/a_in[:, :, i].shape[1]), preserve_range=True, anti_aliasing=False)\n",
    "#     image = (((image - a_in.min()) / (a_in.max() - a_in.min())) * 255.9).astype(np.uint8)\n",
    "    img0 = Image.fromarray(image.astype(np.uint8))\n",
    "    img0.save(path_master_i+str(number1)+\"_image_\"+str(\"{0:03}\".format(i))+\".png\")"
   ]
  },
  {
   "cell_type": "code",
   "execution_count": 6,
   "metadata": {},
   "outputs": [],
   "source": [
    "# output master folder for image and mask\n",
    "from PIL import Image\n",
    "from skimage.transform import rescale\n",
    "\n",
    "path_master_s = \"02_data/master_seg0255/\"\n",
    "\n",
    "resize1 = 256\n",
    "\n",
    "# export master_seg0255\n",
    "for i in range(a_mask.shape[2]):\n",
    "    image = a_mask[:, :, i].astype(np.uint8).copy()\n",
    "    image = rescale(image, (resize1/a_mask[:, :, i].shape[1]), anti_aliasing=False)\n",
    "    image[image != 0] = 255\n",
    "    img0 = Image.fromarray(image.astype(np.uint8))\n",
    "    img0.save(path_master_s+str(number1)+\"_image_\"+str(\"{0:03}\".format(i))+\".png\")"
   ]
  },
  {
   "cell_type": "code",
   "execution_count": 19,
   "metadata": {},
   "outputs": [],
   "source": [
    "# output master folder for image and mask\n",
    "from PIL import Image\n",
    "from skimage.transform import rescale\n",
    "from scipy import ndimage as ndi\n",
    "\n",
    "path_master_s = \"02_data/master_seg0255fill/\"\n",
    "\n",
    "resize1 = 256\n",
    "\n",
    "# export master_seg0255\n",
    "for i in range(a_mask.shape[2]):\n",
    "    image = a_mask[:, :, i].copy()\n",
    "    image = ndi.binary_fill_holes(image).astype(np.uint8)\n",
    "    image = rescale(image, (resize1/a_mask[:, :, i].shape[1]), anti_aliasing=False)\n",
    "    image[image != 0] = 255\n",
    "    img0 = Image.fromarray(image.astype(np.uint8))\n",
    "    img0.save(path_master_s+str(number1)+\"_image_\"+str(\"{0:03}\".format(i))+\".png\")"
   ]
  },
  {
   "cell_type": "code",
   "execution_count": 20,
   "metadata": {},
   "outputs": [
    {
     "name": "stderr",
     "output_type": "stream",
     "text": [
      "C:\\Users\\span\\anaconda3\\envs\\tf-n-gpu\\lib\\site-packages\\ipykernel_launcher.py:15: RuntimeWarning: invalid value encountered in true_divide\n",
      "  from ipykernel import kernelapp as app\n"
     ]
    }
   ],
   "source": [
    "# output master folder segre255\n",
    "from PIL import Image\n",
    "from skimage.transform import rescale\n",
    "from scipy import ndimage as ndi\n",
    "\n",
    "path_master_s2 = \"02_data/master_segre255fill/\"\n",
    "\n",
    "resize1 = 256\n",
    "\n",
    "# export master_segre255\n",
    "for i in range(a_mask.shape[2]):\n",
    "    image = a_mask[:, :, i].copy()\n",
    "    image = ndi.binary_fill_holes(image).astype(np.uint8)\n",
    "    image = rescale(image, (resize1/a_mask[:, :, i].shape[1]), anti_aliasing=False)\n",
    "    image = (((image - image.min()) / (image.max() - image.min())) * 255.9).astype(np.uint8)\n",
    "    img0 = Image.fromarray(image.astype(np.uint8))\n",
    "    img0.save(path_master_s2+str(number1)+\"_image_\"+str(\"{0:03}\".format(i))+\".png\")"
   ]
  },
  {
   "cell_type": "code",
   "execution_count": 9,
   "metadata": {},
   "outputs": [],
   "source": [
    "# clean up\n",
    "backup1 = \"02_data/master_image-backup/\"\n",
    "\n",
    "target1 = \"02_data/master_image/\"\n",
    "\n",
    "listbc = os.listdir(backup1)\n",
    "listta = os.listdir(target1)\n",
    "\n",
    "def Diff(li1, li2):\n",
    "    return (list(list(set(li1)-set(li2)) + list(set(li2)-set(li1))))\n",
    "\n",
    "listdelete = Diff(listbc, listta)\n",
    "for i in listdelete:\n",
    "    os.remove(target1+str(i))"
   ]
  },
  {
   "cell_type": "code",
   "execution_count": 7,
   "metadata": {},
   "outputs": [],
   "source": [
    "# clean train val and test folder\n",
    "def cleanfile(path):\n",
    "    listdelete = os.listdir(path)\n",
    "    for i in listdelete:\n",
    "        os.remove(path+str(i))\n",
    "\n",
    "def cleanfolder():\n",
    "    subfolder1 = \"_0255/\"\n",
    "    subfolder2 = \"_seg3channelfill/\"\n",
    "    list = [\n",
    "        \"02_data/train_image\"+subfolder1+'image/',\n",
    "        \"02_data/train_mask\"+subfolder1+'seg/',\n",
    "        \"02_data/val_image\"+subfolder1+'image/',\n",
    "        \"02_data/val_mask\"+subfolder1+'seg/',\n",
    "        \"02_data/train_mask\"+subfolder2+'seg/',\n",
    "        \"02_data/val_mask\"+subfolder2+'seg/',\n",
    "        \"02_data/test_image\"+subfolder1+'image/',\n",
    "        \"02_data/test_mask\"+subfolder2+'seg/',\n",
    "        \"06_origdata/train_image\"+subfolder1+'image/',\n",
    "        \"06_origdata/train_mask\"+subfolder2+'seg/',\n",
    "        \"06_origdata/val_image\"+subfolder1+'image/',\n",
    "        \"06_origdata/val_mask\"+subfolder2+'seg/',\n",
    "        \"06_origdata/test_image\"+subfolder1+'image/',\n",
    "        \"06_origdata/test_mask\"+subfolder2+'seg/'\n",
    "    ]\n",
    "    for i in list:\n",
    "        cleanfile(i)"
   ]
  },
  {
   "cell_type": "code",
   "execution_count": 8,
   "metadata": {},
   "outputs": [],
   "source": [
    "cleanfolder()"
   ]
  },
  {
   "cell_type": "code",
   "execution_count": null,
   "metadata": {},
   "outputs": [],
   "source": [
    "# read image\n",
    "img22 = cv2.imread('C:/Users/span/Documents/CNN/02_data/master_image/23_image_125.png')\n",
    "\n",
    "# C:/Users/span/Documents/CNN/02_data/train_mask_re255/seg\n",
    "# C:/Users/span/Documents/CNN/02_data/train_mask/23_train_mask/seg/\n",
    "\n",
    "img22.shape\n",
    "img22[200,:]"
   ]
  },
  {
   "cell_type": "markdown",
   "metadata": {},
   "source": [
    "# Split to train and val"
   ]
  },
  {
   "cell_type": "code",
   "execution_count": 31,
   "metadata": {},
   "outputs": [
    {
     "data": {
      "text/plain": [
       "<Figure size 432x288 with 0 Axes>"
      ]
     },
     "metadata": {},
     "output_type": "display_data"
    }
   ],
   "source": [
    "plt.gray()\n",
    "os.chdir('C:/Users/span/Documents/CNN/')"
   ]
  },
  {
   "cell_type": "code",
   "execution_count": 32,
   "metadata": {},
   "outputs": [],
   "source": [
    "# Split to train and val\n",
    "path_master_i = \"02_data/master_image/\"\n",
    "path_master_s = \"02_data/master_seg0255/\"\n",
    "\n",
    "subfolder1 = \"_0255/\"\n",
    "path1 = \"02_data/train_image\"+subfolder1\n",
    "path2 = \"02_data/train_mask\"+subfolder1\n",
    "path3 = \"02_data/val_image\"+subfolder1\n",
    "path4 = \"02_data/val_mask\"+subfolder1"
   ]
  },
  {
   "cell_type": "code",
   "execution_count": 33,
   "metadata": {},
   "outputs": [],
   "source": [
    "import random\n",
    "random.seed(a=1024, version=2)\n",
    "list1 = os.listdir(path_master_i)\n",
    "list2 = random.sample(list1, k=round(len(list1)*0.7))\n",
    "list3 = [x for x in list1 if (x not in list2)]"
   ]
  },
  {
   "cell_type": "code",
   "execution_count": 34,
   "metadata": {},
   "outputs": [],
   "source": [
    "from shutil import copy\n",
    "\n",
    "for i in list2:\n",
    "    copy(path_master_i+ str(i), path1+'image/')\n",
    "    copy(path_master_s+ str(i), path2+'seg/')\n",
    "    \n",
    "for i in list3:\n",
    "    copy(path_master_i+ str(i), path3+'image/')\n",
    "    copy(path_master_s+ str(i), path4+'seg/')"
   ]
  },
  {
   "cell_type": "code",
   "execution_count": 35,
   "metadata": {},
   "outputs": [],
   "source": [
    "path_master_s2 = \"02_data/master_seg3channelfill/\"\n",
    "subfolder1 = \"_seg3channelfill/\"\n",
    "path2 = \"02_data/train_mask\"+subfolder1\n",
    "path4 = \"02_data/val_mask\"+subfolder1"
   ]
  },
  {
   "cell_type": "code",
   "execution_count": 36,
   "metadata": {},
   "outputs": [],
   "source": [
    "from shutil import copy\n",
    "\n",
    "for i in list3:\n",
    "    copy(path_master_s2+ str(i), path4+'seg/')\n",
    "    \n",
    "for i in list2:\n",
    "    copy(path_master_s2+ str(i), path2+'seg/')"
   ]
  },
  {
   "cell_type": "code",
   "execution_count": 37,
   "metadata": {},
   "outputs": [],
   "source": [
    "# Val to val and test\n",
    "from shutil import move\n",
    "\n",
    "subfolder1 = \"_0255/\"\n",
    "subfolder2 = \"_seg3channelfill/\"\n",
    "path3 = \"02_data/val_image\"+subfolder1\n",
    "path4 = \"02_data/val_mask\"+subfolder2\n",
    "\n",
    "path5 = \"02_data/test_image\"+subfolder1\n",
    "path6 = \"02_data/test_mask\"+subfolder2\n",
    "\n",
    "random.seed(a=2048, version=2)\n",
    "list1 = os.listdir(path3+'image/')\n",
    "list2 = random.sample(list1, k=round(len(list1)*0.65))\n",
    "list3 = [x for x in list1 if (x not in list2)]"
   ]
  },
  {
   "cell_type": "code",
   "execution_count": 38,
   "metadata": {},
   "outputs": [],
   "source": [
    "for i in list3:\n",
    "    move(path3+'image/'+ str(i), path5+'image/'+ str(i))\n",
    "    move(path4+'seg/'+ str(i), path6+'seg/'+ str(i))"
   ]
  },
  {
   "cell_type": "code",
   "execution_count": null,
   "metadata": {},
   "outputs": [],
   "source": []
  },
  {
   "cell_type": "markdown",
   "metadata": {},
   "source": [
    "# Code.v1 export separatly"
   ]
  },
  {
   "cell_type": "code",
   "execution_count": 3,
   "metadata": {},
   "outputs": [],
   "source": [
    "# read dicom _dl_input\n",
    "\n",
    "PathDicom = \"01_perprocess/\"+str(number1)+'/'+str(number1)+\"_dl_input/\"\n",
    "# PathDicom = \"01_perprocess/\"+str(number1)+'/'+str(number1)+\"_in/\"\n",
    "\n",
    "reader = vtk.vtkDICOMImageReader()\n",
    "reader.SetDirectoryName(PathDicom)\n",
    "reader.Update()\n",
    "\n",
    "# Load dimensions using `GetDataExtent`\n",
    "_extent = reader.GetDataExtent()\n",
    "ConstPixelDims = [_extent[1]-_extent[0]+1, _extent[3]-_extent[2]+1, _extent[5]-_extent[4]+1]\n",
    "\n",
    "# Load spacing values\n",
    "ConstPixelSpacing = reader.GetPixelSpacing()\n",
    "\n",
    "# Get the 'vtkImageData' object from the reader\n",
    "imageData = reader.GetOutput()\n",
    "# Get the 'vtkPointData' object from the 'vtkImageData' object\n",
    "pointData = imageData.GetPointData()\n",
    "# Ensure that only one array exists within the 'vtkPointData' object\n",
    "assert (pointData.GetNumberOfArrays()==1)\n",
    "# Get the `vtkArray` (or whatever derived type) which is needed for the `numpy_support.vtk_to_numpy` function\n",
    "arrayData = pointData.GetArray(0)\n",
    "\n",
    "# Convert the `vtkArray` to a NumPy array\n",
    "ArrayDicom = numpy_support.vtk_to_numpy(arrayData)\n",
    "# Reshape the NumPy array to 3D using 'ConstPixelDims' as a 'shape'\n",
    "ArrayDicom = ArrayDicom.reshape(ConstPixelDims, order='F')\n",
    "\n",
    "a_in = ArrayDicom.copy()"
   ]
  },
  {
   "cell_type": "code",
   "execution_count": 5,
   "metadata": {},
   "outputs": [],
   "source": [
    "# read dicom _dl_mask\n",
    "PathDicom = \"01_perprocess/\"+str(number1)+'/'+str(number1)+\"_dl_mask/\"\n",
    "reader = vtk.vtkDICOMImageReader()\n",
    "reader.SetDirectoryName(PathDicom)\n",
    "reader.Update()\n",
    "\n",
    "# Load dimensions using `GetDataExtent`\n",
    "_extent = reader.GetDataExtent()\n",
    "ConstPixelDims = [_extent[1]-_extent[0]+1, _extent[3]-_extent[2]+1, _extent[5]-_extent[4]+1]\n",
    "\n",
    "# Load spacing values\n",
    "ConstPixelSpacing = reader.GetPixelSpacing()\n",
    "\n",
    "# Get the 'vtkImageData' object from the reader\n",
    "imageData = reader.GetOutput()\n",
    "# Get the 'vtkPointData' object from the 'vtkImageData' object\n",
    "pointData = imageData.GetPointData()\n",
    "# Ensure that only one array exists within the 'vtkPointData' object\n",
    "assert (pointData.GetNumberOfArrays()==1)\n",
    "# Get the `vtkArray` (or whatever derived type) which is needed for the `numpy_support.vtk_to_numpy` function\n",
    "arrayData = pointData.GetArray(0)\n",
    "\n",
    "# Convert the `vtkArray` to a NumPy array\n",
    "ArrayDicom = numpy_support.vtk_to_numpy(arrayData)\n",
    "# Reshape the NumPy array to 3D using 'ConstPixelDims' as a 'shape'\n",
    "ArrayDicom = ArrayDicom.reshape(ConstPixelDims, order='F')\n",
    "\n",
    "a_mask = ArrayDicom.copy()"
   ]
  },
  {
   "cell_type": "code",
   "execution_count": 12,
   "metadata": {},
   "outputs": [],
   "source": [
    "assert a_in.shape == a_mask.shape"
   ]
  },
  {
   "cell_type": "code",
   "execution_count": 13,
   "metadata": {},
   "outputs": [],
   "source": [
    "import random\n",
    "random.seed(a=1024, version=2)\n",
    "list1 = list(range(a_in.shape[2]))\n",
    "trainlist1 = random.sample(list1, k=round(a_in.shape[2]*0.6))\n",
    "testlist1 = [x for x in list1 if (x not in trainlist1)]"
   ]
  },
  {
   "cell_type": "code",
   "execution_count": null,
   "metadata": {},
   "outputs": [],
   "source": [
    "for i in list2:\n",
    "    os.replace(str(path3)+'image/'+ str(i), str(path1)+'image/'+ str(i))\n",
    "    os.replace(str(path4)+'image/'+ str(i), str(path2)+'image/'+ str(i))"
   ]
  },
  {
   "cell_type": "code",
   "execution_count": 14,
   "metadata": {},
   "outputs": [
    {
     "name": "stderr",
     "output_type": "stream",
     "text": [
      "C:\\Users\\span\\anaconda3\\envs\\tf-n-gpu\\lib\\site-packages\\ipykernel_launcher.py:13: RuntimeWarning: invalid value encountered in true_divide\n",
      "  del sys.path[0]\n",
      "C:\\Users\\span\\anaconda3\\envs\\tf-n-gpu\\lib\\site-packages\\ipykernel_launcher.py:22: RuntimeWarning: invalid value encountered in true_divide\n"
     ]
    }
   ],
   "source": [
    "from PIL import Image\n",
    "from skimage.transform import rescale\n",
    "# output  23_train_image\n",
    "path1 = \"02_data/train_image_re255/image/\"\n",
    "path3 = \"02_data/val_image_re255/image/\"\n",
    "\n",
    "resize1 = 256\n",
    "\n",
    "# output  23_train_image\n",
    "for i in trainlist1:\n",
    "    image = a_in[:, :, i].astype(np.uint8).copy()\n",
    "    image = rescale(image, (resize1/a_in[:, :, i].shape[1]), anti_aliasing=False)\n",
    "    image = (((image - image.min()) / (image.max() - image.min())) * 255.9).astype(np.uint8)\n",
    "    img0 = Image.fromarray(image)\n",
    "    img0.save(path1+str(number1)+\"_taimage_\"+str(\"{0:03}\".format(i))+\".png\")\n",
    "    \n",
    "# output  23_test_image\n",
    "\n",
    "for i in testlist1:\n",
    "    image = a_in[:, :, i].astype(np.uint8).copy()\n",
    "    image = rescale(image, (resize1/a_in[:, :, i].shape[1]), anti_aliasing=False)\n",
    "    image = (((image - image.min()) / (image.max() - image.min())) * 255.9).astype(np.uint8)\n",
    "    img0 = Image.fromarray(image)\n",
    "    img0.save(path3+str(number1)+\"_tsimage_\"+str(\"{0:03}\".format(i))+\".png\")"
   ]
  },
  {
   "cell_type": "code",
   "execution_count": 15,
   "metadata": {},
   "outputs": [
    {
     "name": "stderr",
     "output_type": "stream",
     "text": [
      "C:\\Users\\span\\anaconda3\\envs\\tf-n-gpu\\lib\\site-packages\\ipykernel_launcher.py:13: RuntimeWarning: invalid value encountered in true_divide\n",
      "  del sys.path[0]\n",
      "C:\\Users\\span\\anaconda3\\envs\\tf-n-gpu\\lib\\site-packages\\ipykernel_launcher.py:23: RuntimeWarning: invalid value encountered in true_divide\n"
     ]
    }
   ],
   "source": [
    "from PIL import Image\n",
    "from skimage.transform import rescale\n",
    "# re255 rescale to 0 - 255\n",
    "\n",
    "path2 = \"02_data/train_mask_re255/seg/\"\n",
    "path4 = \"02_data/val_mask_re255/seg/\"\n",
    "\n",
    "# output  23_train_mask\n",
    "\n",
    "for i in trainlist1:\n",
    "    image = a_mask[:, :, i].astype(np.uint8).copy()\n",
    "    image = rescale(image, (resize1/a_in[:, :, i].shape[1]), anti_aliasing=False)\n",
    "    image = (((image - image.min()) / (image.max() - image.min())) * 255.9).astype(np.uint8)\n",
    "    img0 = Image.fromarray(image)\n",
    "    img0.save(path2+str(number1)+\"_taimage_\"+str(\"{0:03}\".format(i))+\".png\")\n",
    "\n",
    "\n",
    "# output  23_train_mask\n",
    "\n",
    "for i in testlist1:\n",
    "    image = a_mask[:, :, i].astype(np.uint8).copy()\n",
    "    image = rescale(image, (resize1/a_in[:, :, i].shape[1]), anti_aliasing=False)\n",
    "    image = (((image - image.min()) / (image.max() - image.min())) * 255.9).astype(np.uint8)\n",
    "    img0 = Image.fromarray(image)\n",
    "    img0.save(path4+str(number1)+\"_tsimage_\"+str(\"{0:03}\".format(i))+\".png\")"
   ]
  },
  {
   "cell_type": "code",
   "execution_count": 15,
   "metadata": {},
   "outputs": [],
   "source": [
    "# rescale to only 0 and 255\n",
    "\n",
    "path2 = \"02_data/train_mask_0255/seg/\"\n",
    "path4 = \"02_data/val_mask_0255/seg/\"\n",
    "# output  23_train_mask\n",
    "\n",
    "for i in trainlist1:\n",
    "    image = a_mask[:, :, i].astype(np.uint8).copy()\n",
    "    image = rescale(image, (resize1/a_in[:, :, i].shape[1]), anti_aliasing=False)\n",
    "    image[image != 0] = 255\n",
    "    img0 = Image.fromarray(image.astype(np.uint8))\n",
    "    img0.save(path2+str(number1)+\"_taimage_\"+str(\"{0:03}\".format(i))+\".png\")\n",
    "\n",
    "\n",
    "# output  23_train_mask\n",
    "\n",
    "for i in testlist1:\n",
    "    image = a_mask[:, :, i].astype(np.uint8).copy()\n",
    "    image = rescale(image, (resize1/a_in[:, :, i].shape[1]), anti_aliasing=False)\n",
    "    image[image != 0] = 255\n",
    "    img0 = Image.fromarray(image.astype(np.uint8))\n",
    "    img0.save(path4+str(number1)+\"_tsimage_\"+str(\"{0:03}\".format(i))+\".png\")"
   ]
  },
  {
   "cell_type": "code",
   "execution_count": null,
   "metadata": {},
   "outputs": [],
   "source": [
    "import PIL.ImageOps\n",
    "from PIL import Image\n",
    "from skimage.transform import rescale\n",
    "# output  23_train_image\n",
    "\n",
    "path2 = \"02_data/train_mask/23_train_mask/bg/\"\n",
    "path4 = \"02_data/val_mask/23_test_mask/bg/\"\n",
    "\n",
    "\n",
    "# output  23_train_mask bg\n",
    "for i in trainlist1:\n",
    "    image = a_mask[:, :, i].astype(np.uint8).copy()\n",
    "    image = rescale(image, (resize1/a_in[:, :, i].shape[1]), anti_aliasing=False)\n",
    "    image = (((image - image.min()) / (image.max() - image.min())) * 255.9).astype(np.uint8)\n",
    "    img0 = Image.fromarray(image)\n",
    "    img0 = PIL.ImageOps.invert(img0)\n",
    "    img0.save(path2+str(number1)+\"_taimage_\"+str(\"{0:03}\".format(i))+\".png\")\n",
    "\n",
    "# output  23_train_mask bg\n",
    "\n",
    "for i in testlist1:\n",
    "    image = a_mask[:, :, i].astype(np.uint8).copy()\n",
    "    image = rescale(image, (resize1/a_in[:, :, i].shape[1]), anti_aliasing=False)\n",
    "    image = (((image - image.min()) / (image.max() - image.min())) * 255.9).astype(np.uint8)\n",
    "    img0 = Image.fromarray(image)\n",
    "    img0 = PIL.ImageOps.invert(img0)\n",
    "    img0.save(path4+str(number1)+\"_tsimage_\"+str(\"{0:03}\".format(i))+\".png\")"
   ]
  },
  {
   "cell_type": "code",
   "execution_count": null,
   "metadata": {},
   "outputs": [],
   "source": []
  },
  {
   "cell_type": "code",
   "execution_count": null,
   "metadata": {},
   "outputs": [],
   "source": [
    "plt.gray()\n",
    "os.chdir('C:/Users/span/Documents/CNN/')"
   ]
  },
  {
   "cell_type": "code",
   "execution_count": null,
   "metadata": {},
   "outputs": [],
   "source": [
    "path1 = \"02_data/train_image_0255/\"\n",
    "path2 = \"02_data/train_mask_0255/\"\n",
    "path3 = \"02_data/val_image_0255/\"\n",
    "path4 = \"02_data/val_mask_0255/\""
   ]
  },
  {
   "cell_type": "code",
   "execution_count": null,
   "metadata": {},
   "outputs": [],
   "source": [
    "import random\n",
    "random.seed(a=1024, version=2)\n",
    "list1 = os.listdir(str(path3)+'image/')\n",
    "list2 = random.sample(list1, k=64)"
   ]
  },
  {
   "cell_type": "code",
   "execution_count": null,
   "metadata": {},
   "outputs": [],
   "source": [
    "for i in list2:\n",
    "    os.replace(str(path3)+'image/'+ str(i), str(path1)+'image/'+ str(i))\n",
    "    os.replace(str(path4)+'image/'+ str(i), str(path2)+'image/'+ str(i))"
   ]
  },
  {
   "cell_type": "code",
   "execution_count": null,
   "metadata": {},
   "outputs": [],
   "source": []
  },
  {
   "cell_type": "code",
   "execution_count": null,
   "metadata": {},
   "outputs": [],
   "source": [
    "i1 = 25\n",
    "i2 = 45\n",
    "fig, (ax0, ax1, ax2, ax3) = plt.subplots(1, 4, figsize=(16, 6.4),\n",
    "                                    sharex=True, sharey=True)\n",
    "ax0.imshow(a_in[:, :, trainlist1[i1]], cmap='gray')\n",
    "ax0.axis('off')\n",
    "ax0.set_title('a in 1')\n",
    "ax1.imshow(a_mask[:, :, trainlist1[i1]], cmap='gray')\n",
    "ax1.axis('off')\n",
    "ax1.set_title('a out 1')\n",
    "ax2.imshow(a_in[:, :, trainlist1[i2]], cmap='gray') # 'magma'\n",
    "ax2.axis('off')\n",
    "ax2.set_title('a in 2')\n",
    "ax3.imshow(a_mask[:, :, trainlist1[i2]], cmap='gray')\n",
    "ax3.axis('off')\n",
    "ax3.set_title('a out 2')\n",
    "\n",
    "fig.tight_layout()\n",
    "plt.show()"
   ]
  },
  {
   "cell_type": "markdown",
   "metadata": {},
   "source": [
    "GENERATORS"
   ]
  },
  {
   "cell_type": "code",
   "execution_count": null,
   "metadata": {},
   "outputs": [],
   "source": []
  },
  {
   "cell_type": "code",
   "execution_count": null,
   "metadata": {},
   "outputs": [],
   "source": []
  },
  {
   "cell_type": "markdown",
   "metadata": {},
   "source": [
    "CNN layer calculate "
   ]
  },
  {
   "cell_type": "code",
   "execution_count": null,
   "metadata": {},
   "outputs": [],
   "source": [
    "# [filter size, stride, padding]\n",
    "#Assume the two dimensions are the same\n",
    "#Each kernel requires the following parameters:\n",
    "# - k_i: kernel size\n",
    "# - s_i: stride\n",
    "# - p_i: padding (if padding is uneven, right padding will higher than left padding; \"SAME\" option in tensorflow)\n",
    "# \n",
    "#Each layer i requires the following parameters to be fully represented: \n",
    "# - n_i: number of feature (data layer has n_1 = imagesize )\n",
    "# - j_i: distance (projected to image pixel distance) between center of two adjacent features\n",
    "# - r_i: receptive field of a feature in layer i\n",
    "# - start_i: position of the first feature's receptive field in layer i (idx start from 0, negative means the center fall into padding)\n",
    "\n",
    "import math\n",
    "convnet =   [[11,4,0],[3,2,0],[5,1,2],[3,2,0],[3,1,1],[3,1,1],[3,1,1],[3,2,0],[6,1,0], [1, 1, 0]]\n",
    "layer_names = ['conv1','pool1','conv2','pool2','conv3','conv4','conv5','pool5','fc6-conv', 'fc7-conv']\n",
    "imsize = 227\n",
    "\n",
    "def outFromIn(conv, layerIn):\n",
    "  n_in = layerIn[0]\n",
    "  j_in = layerIn[1]\n",
    "  r_in = layerIn[2]\n",
    "  start_in = layerIn[3]\n",
    "  k = conv[0]\n",
    "  s = conv[1]\n",
    "  p = conv[2]\n",
    "  \n",
    "  n_out = math.floor((n_in - k + 2*p)/s) + 1\n",
    "  actualP = (n_out-1)*s - n_in + k \n",
    "  pR = math.ceil(actualP/2)\n",
    "  pL = math.floor(actualP/2)\n",
    "  \n",
    "  j_out = j_in * s\n",
    "  r_out = r_in + (k - 1)*j_in\n",
    "  start_out = start_in + ((k-1)/2 - pL)*j_in\n",
    "  return n_out, j_out, r_out, start_out\n",
    "  \n",
    "def printLayer(layer, layer_name):\n",
    "  print(layer_name + \":\")\n",
    "  print(\"\\t n features: %s \\n \\t jump: %s \\n \\t receptive size: %s \\t start: %s \" % (layer[0], layer[1], layer[2], layer[3]))\n",
    " \n",
    "layerInfos = []\n",
    "if __name__ == '__main__':\n",
    "#first layer is the data layer (image) with n_0 = image size; j_0 = 1; r_0 = 1; and start_0 = 0.5\n",
    "  print (\"-------Net summary------\")\n",
    "  currentLayer = [imsize, 1, 1, 0.5]\n",
    "  printLayer(currentLayer, \"input image\")\n",
    "  for i in range(len(convnet)):\n",
    "    currentLayer = outFromIn(convnet[i], currentLayer)\n",
    "    layerInfos.append(currentLayer)\n",
    "    printLayer(currentLayer, layer_names[i])\n",
    "  print (\"------------------------\")\n",
    "  layer_name = raw_input (\"Layer name where the feature in: \")\n",
    "  layer_idx = layer_names.index(layer_name)\n",
    "  idx_x = int(raw_input (\"index of the feature in x dimension (from 0)\"))\n",
    "  idx_y = int(raw_input (\"index of the feature in y dimension (from 0)\"))\n",
    "  \n",
    "  n = layerInfos[layer_idx][0]\n",
    "  j = layerInfos[layer_idx][1]\n",
    "  r = layerInfos[layer_idx][2]\n",
    "  start = layerInfos[layer_idx][3]\n",
    "  assert(idx_x < n)\n",
    "  assert(idx_y < n)\n",
    "  \n",
    "  print (\"receptive field: (%s, %s)\" % (r, r))\n",
    "  print (\"center: (%s, %s)\" % (start+idx_x*j, start+idx_y*j))"
   ]
  },
  {
   "cell_type": "code",
   "execution_count": null,
   "metadata": {},
   "outputs": [],
   "source": []
  }
 ],
 "metadata": {
  "kernelspec": {
   "display_name": "Python 3",
   "language": "python",
   "name": "python3"
  },
  "language_info": {
   "codemirror_mode": {
    "name": "ipython",
    "version": 3
   },
   "file_extension": ".py",
   "mimetype": "text/x-python",
   "name": "python",
   "nbconvert_exporter": "python",
   "pygments_lexer": "ipython3",
   "version": "3.7.9"
  }
 },
 "nbformat": 4,
 "nbformat_minor": 4
}
