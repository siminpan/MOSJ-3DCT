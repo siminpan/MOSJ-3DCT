{
 "cells": [
  {
   "cell_type": "code",
   "execution_count": null,
   "metadata": {},
   "outputs": [],
   "source": [
    "import gc\n",
    "gc.collect()"
   ]
  },
  {
   "cell_type": "code",
   "execution_count": null,
   "metadata": {},
   "outputs": [],
   "source": [
    "import tensorflow as tf\n",
    "print(\"Num GPUs Available: \", len(tf.config.experimental.list_physical_devices('GPU')))"
   ]
  },
  {
   "cell_type": "code",
   "execution_count": 23,
   "metadata": {},
   "outputs": [],
   "source": [
    "import numpy as np\n",
    "import skimage.measure\n",
    "# import pydicom\n",
    "import vtk\n",
    "from vtk.util import numpy_support\n",
    "import os\n",
    "import matplotlib.pyplot as plt\n",
    "import cv2"
   ]
  },
  {
   "cell_type": "code",
   "execution_count": 24,
   "metadata": {},
   "outputs": [
    {
     "data": {
      "text/plain": [
       "<Figure size 432x288 with 0 Axes>"
      ]
     },
     "metadata": {},
     "output_type": "display_data"
    }
   ],
   "source": [
    "plt.gray()\n",
    "os.chdir('C:/Users/span/Documents/CNN/')"
   ]
  },
  {
   "cell_type": "code",
   "execution_count": 51,
   "metadata": {},
   "outputs": [],
   "source": [
    "from keras.preprocessing.image import ImageDataGenerator\n",
    "\n",
    "train_datagen = ImageDataGenerator(\n",
    "    rescale=1./255\n",
    "#     shear_range=0.2,\n",
    "#     zoom_range=0.2,\n",
    "#     horizontal_flip=True\n",
    ")\n",
    "        \n",
    "val_datagen = ImageDataGenerator(\n",
    "    rescale=1./255\n",
    ")"
   ]
  },
  {
   "cell_type": "code",
   "execution_count": 53,
   "metadata": {},
   "outputs": [
    {
     "name": "stdout",
     "output_type": "stream",
     "text": [
      "Found 472 images belonging to 1 classes.\n",
      "Found 472 images belonging to 1 classes.\n",
      "Found 203 images belonging to 1 classes.\n",
      "Found 203 images belonging to 1 classes.\n"
     ]
    }
   ],
   "source": [
    "# only 0 and 255 in seg\n",
    "subfolder1 = \"_0255/\"\n",
    "# subfolder1 = \"/\"\n",
    "subfolder2 = \"_re255fill/\"\n",
    "\n",
    "path1 = \"02_data/train_image\"+subfolder1\n",
    "path2 = \"02_data/train_mask\"+subfolder2\n",
    "path3 = \"02_data/val_image\"+subfolder1\n",
    "path4 = \"02_data/val_mask\"+subfolder2\n",
    "\n",
    "# # scale to 255 in val\n",
    "# path1 = \"02_data/train_image_re255/\"\n",
    "# path2 = \"02_data/train_mask_re255/\"\n",
    "# path3 = \"02_data/val_image_re255/\"\n",
    "# path4 = \"02_data/val_mask_re255/\"\n",
    "\n",
    "batch_size1 = 16\n",
    "\n",
    "train_image_generator = train_datagen.flow_from_directory(\n",
    "    path1,\n",
    "    color_mode = \"grayscale\",\n",
    "    batch_size = batch_size1 #NORMALLY 4/8/16/32\n",
    ")\n",
    "\n",
    "train_mask_generator = train_datagen.flow_from_directory(\n",
    "    path2,\n",
    "    color_mode = \"grayscale\",\n",
    "    batch_size = batch_size1 #NORMALLY 4/8/16/32\n",
    ")\n",
    "\n",
    "val_image_generator = val_datagen.flow_from_directory(\n",
    "    path3,\n",
    "    color_mode = \"grayscale\",\n",
    "    batch_size = batch_size1 #NORMALLY 4/8/16/32\n",
    ")\n",
    "\n",
    "\n",
    "val_mask_generator = val_datagen.flow_from_directory(\n",
    "    path4,\n",
    "    color_mode = \"grayscale\",\n",
    "    batch_size = batch_size1 #NORMALLY 4/8/16/32\n",
    ")"
   ]
  },
  {
   "cell_type": "code",
   "execution_count": 54,
   "metadata": {},
   "outputs": [],
   "source": [
    "def my_image_mask_generator(image_data_generator, mask_data_generator):\n",
    "    train_generator = zip(image_data_generator, mask_data_generator)\n",
    "    for (img, mask) in train_generator:\n",
    "        yield (img, mask)\n",
    "        \n",
    "train_generator = my_image_mask_generator(train_image_generator, train_mask_generator)\n",
    "val_generator = my_image_mask_generator(val_image_generator, val_mask_generator)"
   ]
  },
  {
   "cell_type": "code",
   "execution_count": 55,
   "metadata": {},
   "outputs": [],
   "source": [
    "smooth = 1.\n",
    "# Dice Coefficient to work with Tensorflow\n",
    "def dice_coef(y_true, y_pred):\n",
    "    y_true_f = K.flatten(y_true)\n",
    "    y_pred_f = K.flatten(y_pred)\n",
    "    intersection = K.sum(y_true_f * y_pred_f)\n",
    "    return (2. * intersection + smooth) / (K.sum(y_true_f) + K.sum(y_pred_f) + smooth)\n",
    "\n",
    "def dice_coef_loss(y_true, y_pred):\n",
    "    return -dice_coef(y_true, y_pred)\n",
    "\n",
    "# Dice Coefficient to work outside Tensorflow\n",
    "def dice_coef_2(y_true, y_pred):\n",
    "    side = len(y_true[0])\n",
    "    y_true_f = y_true.reshape(side*side)\n",
    "    y_pred_f = y_pred.reshape(side*side)\n",
    "    intersection = sum(y_true_f * y_pred_f)\n",
    "    return (2. * intersection + smooth) / (sum(y_true_f) + sum(y_pred_f) + smooth)\n"
   ]
  },
  {
   "cell_type": "code",
   "execution_count": 56,
   "metadata": {},
   "outputs": [],
   "source": [
    "# mutiple GPU (less auc?)\n",
    "\n",
    "from keras import backend as K\n",
    "import keras\n",
    "# from tensorflow.keras.layers import Dense, Conv2D, Flatten, MaxPool2D, Dropout, Input\n",
    "import tensorflow as tf\n",
    "\n",
    "num_gpus = 2\n",
    "def get_model(optimizer, loss_metric, metrics, lr=1e-3):\n",
    "    cross_tower_ops = tf.distribute.HierarchicalCopyAllReduce(num_packs=num_gpus)\n",
    "    strategy = tf.distribute.MirroredStrategy(cross_device_ops=cross_tower_ops)\n",
    "#     strategy = tf.distribute.MirroredStrategy()\n",
    "    with strategy.scope():\n",
    "        inputs = keras.Input((sample_width, sample_height, 1))\n",
    "        conv1 = keras.layers.Conv2D(32, (3, 3), activation='relu', padding='SAME')(inputs)\n",
    "        conv1 = keras.layers.Conv2D(32, (3, 3), activation='relu', padding='SAME')(conv1)\n",
    "        conv1 = tf.reshape(conv1, tf.shape(conv1))\n",
    "        pool1 = keras.layers.MaxPooling2D(pool_size=(2, 2))(conv1)\n",
    "        drop1 = keras.layers.Dropout(0.5)(pool1)\n",
    "\n",
    "        conv2 = keras.layers.Conv2D(64, (3, 3), activation='relu', padding='SAME')(drop1)\n",
    "        conv2 = keras.layers.Conv2D(64, (3, 3), activation='relu', padding='SAME')(conv2)\n",
    "        conv2 = tf.reshape(conv2, tf.shape(conv2))\n",
    "        pool2 = keras.layers.MaxPooling2D(pool_size=(2, 2))(conv2)\n",
    "        drop2 = keras.layers.Dropout(0.5)(pool2)\n",
    "\n",
    "        conv3 = keras.layers.Conv2D(128, (3, 3), activation='relu', padding='SAME')(drop2)\n",
    "        conv3 = keras.layers.Conv2D(128, (3, 3), activation='relu', padding='SAME')(conv3)\n",
    "        conv3 = tf.reshape(conv3, tf.shape(conv3))\n",
    "        pool3 = keras.layers.MaxPooling2D(pool_size=(2, 2))(conv3)\n",
    "        drop3 = keras.layers.Dropout(0.3)(pool3)\n",
    "\n",
    "        conv4 = keras.layers.Conv2D(256, (3, 3), activation='relu', padding='SAME')(drop3)\n",
    "        conv4 = keras.layers.Conv2D(256, (3, 3), activation='relu', padding='SAME')(conv4)\n",
    "        conv4 = tf.reshape(conv4, tf.shape(conv4))\n",
    "        pool4 = keras.layers.MaxPooling2D(pool_size=(2, 2))(conv4)\n",
    "        drop4 = keras.layers.Dropout(0.3)(pool4)\n",
    "\n",
    "        conv5 = keras.layers.Conv2D(512, (3, 3), activation='relu', padding='SAME')(drop4)\n",
    "        conv5 = keras.layers.Conv2D(512, (3, 3), activation='relu', padding='SAME')(conv5)\n",
    "        conv5 = tf.reshape(conv5, tf.shape(conv5))\n",
    "    \n",
    "        conv5u = tf.keras.layers.Conv2DTranspose(filters=256, kernel_size=(2, 2), strides=(2, 2), padding='SAME')(conv5)\n",
    "        conv5u = tf.reshape(conv5u, tf.shape(conv5u))\n",
    "        up6 = keras.layers.concatenate([conv5u, conv4], axis=3)\n",
    "        conv6 = keras.layers.Conv2D(256, (3, 3), activation='relu', padding='SAME')(up6)\n",
    "        conv6 = keras.layers.Conv2D(256, (3, 3), activation='relu', padding='SAME')(conv6)\n",
    "        conv6 = tf.reshape(conv6, tf.shape(conv6))\n",
    "    \n",
    "        conv6u = tf.keras.layers.Conv2DTranspose(filters=128, kernel_size=(2, 2), strides=(2, 2), padding='SAME')(conv6)\n",
    "        conv6u = tf.reshape(conv6u, tf.shape(conv6u))\n",
    "        up7 = keras.layers.concatenate([conv6u, conv3], axis=3)\n",
    "        conv7 = keras.layers.Conv2D(128, (3, 3), activation='relu', padding='SAME')(up7)\n",
    "        conv7 = keras.layers.Conv2D(128, (3, 3), activation='relu', padding='SAME')(conv7)\n",
    "        conv7 = tf.reshape(conv7, tf.shape(conv7))\n",
    "    \n",
    "        conv7u = tf.keras.layers.Conv2DTranspose(filters=64, kernel_size=(2, 2), strides=(2, 2), padding='SAME')(conv7)\n",
    "        conv7u = tf.reshape(conv7u, tf.shape(conv7u))\n",
    "        up8 = keras.layers.concatenate([conv7u, conv2], axis=3)\n",
    "        conv8 = keras.layers.Conv2D(64, (3, 3), activation='relu', padding='SAME')(up8)\n",
    "        conv8 = keras.layers.Conv2D(64, (3, 3), activation='relu', padding='SAME')(conv8)\n",
    "        conv8 = tf.reshape(conv8, tf.shape(conv8))\n",
    "    \n",
    "        conv8u = tf.keras.layers.Conv2DTranspose(filters=32, kernel_size=(2, 2), strides=(2, 2), padding='SAME')(conv8)\n",
    "        conv8u = tf.reshape(conv8u, tf.shape(conv8u))\n",
    "        up9 = keras.layers.concatenate([conv8u, conv1], axis=3)\n",
    "        conv9 = keras.layers.Conv2D(32, (3, 3), activation='relu', padding='SAME')(up9)\n",
    "        conv9 = keras.layers.Conv2D(32, (3, 3), activation='relu', padding='SAME')(conv9)\n",
    "        conv9 = tf.reshape(conv9, tf.shape(conv9))\n",
    "\n",
    "        conv10 = keras.layers.Conv2D(1, (1, 1), activation='sigmoid')(conv9)\n",
    "        conv10 = tf.reshape(conv10, tf.shape(conv10))\n",
    "\n",
    "        model = keras.Model(inputs=[inputs], outputs=[conv10])\n",
    "\n",
    "        model.compile(optimizer=optimizer(lr=lr), loss=loss_metric, metrics=metrics)\n",
    "        return model"
   ]
  },
  {
   "cell_type": "code",
   "execution_count": null,
   "metadata": {},
   "outputs": [],
   "source": [
    "model.summary()"
   ]
  },
  {
   "cell_type": "code",
   "execution_count": null,
   "metadata": {},
   "outputs": [],
   "source": [
    "# model.summary()\n",
    "tf.keras.utils.plot_model(model, show_shapes=True)"
   ]
  },
  {
   "cell_type": "code",
   "execution_count": null,
   "metadata": {},
   "outputs": [],
   "source": [
    "# historyTF = model.fit(\n",
    "#     train_generator, \n",
    "#     batch_size=4, \n",
    "#     epochs=10, \n",
    "#     validation_data = \n",
    "#     (val_image_generator,\n",
    "#      val_mask_generator)\n",
    "# )"
   ]
  },
  {
   "cell_type": "code",
   "execution_count": null,
   "metadata": {
    "scrolled": true
   },
   "outputs": [],
   "source": [
    "# fit the keras model on the dataset\n",
    "# historyKe = model.fit(train_image_generator, train_mask_generator, epochs=150, batch_size=10)\n",
    "\n",
    "# train_generator = zip(train_image_generator, train_mask_generator)\n",
    "# val_generator = zip(val_image_generator, val_mask_generator)\n",
    "\n",
    "# from keras import backend as K\n",
    "\n",
    "# historyTF = model.fit(train_generator, epochs=10, validation_data=val_generator)\n"
   ]
  },
  {
   "cell_type": "code",
   "execution_count": 57,
   "metadata": {},
   "outputs": [
    {
     "name": "stdout",
     "output_type": "stream",
     "text": [
      "INFO:tensorflow:Using MirroredStrategy with devices ('/job:localhost/replica:0/task:0/device:GPU:0', '/job:localhost/replica:0/task:0/device:GPU:1')\n"
     ]
    }
   ],
   "source": [
    "sample_width = 256\n",
    "sample_height = 256\n",
    "\n",
    "# tf.keras.optimizers.SGD\n",
    "# tf.keras.optimizers.Adam\n",
    "\n",
    "# dice_coef_loss\n",
    "# tf.keras.losses.binary_crossentropy\n",
    "# tf.keras.losses.BinaryCrossentropy()\n",
    "\n",
    "model = get_model(optimizer=tf.keras.optimizers.Adam, loss_metric=dice_coef_loss, metrics=['AUC', dice_coef], lr=1e-6)\n",
    "# 'AUC'"
   ]
  },
  {
   "cell_type": "code",
   "execution_count": 58,
   "metadata": {
    "scrolled": true
   },
   "outputs": [
    {
     "name": "stdout",
     "output_type": "stream",
     "text": [
      "Epoch 1/50\n",
      "INFO:tensorflow:batch_all_reduce: 46 all-reduces with algorithm = hierarchical_copy, num_packs = 2\n",
      "INFO:tensorflow:batch_all_reduce: 46 all-reduces with algorithm = hierarchical_copy, num_packs = 2\n",
      "29/29 [==============================] - ETA: 0s - loss: -2.5066e-04 - auc: 0.7596 - dice_coef: 2.5066e-04\n",
      "Epoch 00001: auc improved from -inf to 0.75960, saving model to 03_model\\Model_seg3imagere_23.32.h5\n",
      "29/29 [==============================] - 12s 408ms/step - loss: -2.5066e-04 - auc: 0.7596 - dice_coef: 2.5066e-04 - val_loss: -0.0857 - val_auc: 0.7785 - val_dice_coef: 0.0857\n",
      "Epoch 2/50\n",
      "29/29 [==============================] - ETA: 0s - loss: -2.5402e-04 - auc: 0.7692 - dice_coef: 2.5400e-04\n",
      "Epoch 00002: auc improved from 0.75960 to 0.76918, saving model to 03_model\\Model_seg3imagere_23.32.h5\n",
      "29/29 [==============================] - 11s 370ms/step - loss: -2.5402e-04 - auc: 0.7692 - dice_coef: 2.5400e-04 - val_loss: -0.0875 - val_auc: 0.8001 - val_dice_coef: 0.0880\n",
      "Epoch 3/50\n",
      "29/29 [==============================] - ETA: 0s - loss: -2.4816e-04 - auc: 0.7734 - dice_coef: 2.4704e-04\n",
      "Epoch 00003: auc improved from 0.76918 to 0.77343, saving model to 03_model\\Model_seg3imagere_23.32.h5\n",
      "29/29 [==============================] - 10s 352ms/step - loss: -2.4816e-04 - auc: 0.7734 - dice_coef: 2.4704e-04 - val_loss: -0.0857 - val_auc: 0.7655 - val_dice_coef: 0.0861\n",
      "Epoch 4/50\n",
      "29/29 [==============================] - ETA: 0s - loss: -2.4865e-04 - auc: 0.7841 - dice_coef: 2.4972e-04\n",
      "Epoch 00004: auc improved from 0.77343 to 0.78415, saving model to 03_model\\Model_seg3imagere_23.32.h5\n",
      "29/29 [==============================] - 10s 351ms/step - loss: -2.4865e-04 - auc: 0.7841 - dice_coef: 2.4972e-04 - val_loss: -0.0852 - val_auc: 0.7868 - val_dice_coef: 0.0850\n",
      "Epoch 5/50\n",
      "29/29 [==============================] - ETA: 0s - loss: -2.5641e-04 - auc: 0.7942 - dice_coef: 2.5686e-04\n",
      "Epoch 00005: auc improved from 0.78415 to 0.79423, saving model to 03_model\\Model_seg3imagere_23.32.h5\n",
      "29/29 [==============================] - 10s 345ms/step - loss: -2.5641e-04 - auc: 0.7942 - dice_coef: 2.5686e-04 - val_loss: -0.0852 - val_auc: 0.7772 - val_dice_coef: 0.0847\n",
      "Epoch 6/50\n",
      "29/29 [==============================] - ETA: 0s - loss: -2.5299e-04 - auc: 0.7881 - dice_coef: 2.5347e-04\n",
      "Epoch 00006: auc did not improve from 0.79423\n",
      "29/29 [==============================] - 9s 306ms/step - loss: -2.5299e-04 - auc: 0.7881 - dice_coef: 2.5347e-04 - val_loss: -0.0848 - val_auc: 0.7948 - val_dice_coef: 0.0855\n",
      "Epoch 7/50\n",
      "29/29 [==============================] - ETA: 0s - loss: -2.4627e-04 - auc: 0.7970 - dice_coef: 2.4614e-04\n",
      "Epoch 00007: auc improved from 0.79423 to 0.79702, saving model to 03_model\\Model_seg3imagere_23.32.h5\n",
      "29/29 [==============================] - 10s 344ms/step - loss: -2.4627e-04 - auc: 0.7970 - dice_coef: 2.4614e-04 - val_loss: -0.0887 - val_auc: 0.7938 - val_dice_coef: 0.0892\n",
      "Epoch 8/50\n",
      "29/29 [==============================] - ETA: 0s - loss: -2.6101e-04 - auc: 0.7909 - dice_coef: 2.5967e-04\n",
      "Epoch 00008: auc did not improve from 0.79702\n",
      "29/29 [==============================] - 9s 308ms/step - loss: -2.6101e-04 - auc: 0.7909 - dice_coef: 2.5967e-04 - val_loss: -0.0859 - val_auc: 0.7870 - val_dice_coef: 0.0866\n",
      "Epoch 9/50\n",
      "29/29 [==============================] - ETA: 0s - loss: -2.4195e-04 - auc: 0.7936 - dice_coef: 2.4180e-04\n",
      "Epoch 00009: auc did not improve from 0.79702\n",
      "29/29 [==============================] - 9s 315ms/step - loss: -2.4195e-04 - auc: 0.7936 - dice_coef: 2.4180e-04 - val_loss: -0.0825 - val_auc: 0.7843 - val_dice_coef: 0.0825\n",
      "Epoch 10/50\n",
      "29/29 [==============================] - ETA: 0s - loss: -2.4780e-04 - auc: 0.7882 - dice_coef: 2.4760e-04\n",
      "Epoch 00010: auc did not improve from 0.79702\n",
      "29/29 [==============================] - 9s 312ms/step - loss: -2.4780e-04 - auc: 0.7882 - dice_coef: 2.4760e-04 - val_loss: -0.0863 - val_auc: 0.7818 - val_dice_coef: 0.0860\n",
      "Epoch 11/50\n",
      "29/29 [==============================] - ETA: 0s - loss: -2.6008e-04 - auc: 0.7914 - dice_coef: 2.5997e-04\n",
      "Epoch 00011: auc did not improve from 0.79702\n",
      "29/29 [==============================] - 9s 303ms/step - loss: -2.6008e-04 - auc: 0.7914 - dice_coef: 2.5997e-04 - val_loss: -0.0880 - val_auc: 0.7963 - val_dice_coef: 0.0875\n",
      "Epoch 12/50\n",
      "29/29 [==============================] - ETA: 0s - loss: -2.4449e-04 - auc: 0.7860 - dice_coef: 2.4422e-04\n",
      "Epoch 00012: auc did not improve from 0.79702\n",
      "29/29 [==============================] - 9s 317ms/step - loss: -2.4449e-04 - auc: 0.7860 - dice_coef: 2.4422e-04 - val_loss: -0.0866 - val_auc: 0.7910 - val_dice_coef: 0.0862\n",
      "Epoch 13/50\n",
      "22/29 [=====================>........] - ETA: 1s - loss: -2.5658e-04 - auc: 0.7945 - dice_coef: 2.5951e-04"
     ]
    },
    {
     "ename": "KeyboardInterrupt",
     "evalue": "",
     "output_type": "error",
     "traceback": [
      "\u001b[1;31m---------------------------------------------------------------------------\u001b[0m",
      "\u001b[1;31mKeyboardInterrupt\u001b[0m                         Traceback (most recent call last)",
      "\u001b[1;32m<ipython-input-58-c69582eb2e26>\u001b[0m in \u001b[0;36m<module>\u001b[1;34m\u001b[0m\n\u001b[0;32m     24\u001b[0m                     \u001b[0mvalidation_data\u001b[0m\u001b[1;33m=\u001b[0m\u001b[0mval_generator\u001b[0m\u001b[1;33m,\u001b[0m\u001b[1;33m\u001b[0m\u001b[1;33m\u001b[0m\u001b[0m\n\u001b[0;32m     25\u001b[0m                     \u001b[0mvalidation_steps\u001b[0m\u001b[1;33m=\u001b[0m\u001b[1;33m(\u001b[0m\u001b[0mNO_OF_VAL_IMAGES\u001b[0m\u001b[1;33m//\u001b[0m\u001b[0mBATCH_SIZE\u001b[0m\u001b[1;33m)\u001b[0m\u001b[1;33m,\u001b[0m\u001b[1;33m\u001b[0m\u001b[1;33m\u001b[0m\u001b[0m\n\u001b[1;32m---> 26\u001b[1;33m                     \u001b[0mcallbacks\u001b[0m\u001b[1;33m=\u001b[0m\u001b[1;33m[\u001b[0m\u001b[0mcheckpoint\u001b[0m\u001b[1;33m]\u001b[0m \u001b[1;31m# myCallback(), checkpoint, earlyStopImprove\u001b[0m\u001b[1;33m\u001b[0m\u001b[1;33m\u001b[0m\u001b[0m\n\u001b[0m\u001b[0;32m     27\u001b[0m                    )\n",
      "\u001b[1;32m~\\anaconda3\\envs\\tf-n-gpu\\lib\\site-packages\\tensorflow\\python\\keras\\engine\\training.py\u001b[0m in \u001b[0;36m_method_wrapper\u001b[1;34m(self, *args, **kwargs)\u001b[0m\n\u001b[0;32m    106\u001b[0m   \u001b[1;32mdef\u001b[0m \u001b[0m_method_wrapper\u001b[0m\u001b[1;33m(\u001b[0m\u001b[0mself\u001b[0m\u001b[1;33m,\u001b[0m \u001b[1;33m*\u001b[0m\u001b[0margs\u001b[0m\u001b[1;33m,\u001b[0m \u001b[1;33m**\u001b[0m\u001b[0mkwargs\u001b[0m\u001b[1;33m)\u001b[0m\u001b[1;33m:\u001b[0m\u001b[1;33m\u001b[0m\u001b[1;33m\u001b[0m\u001b[0m\n\u001b[0;32m    107\u001b[0m     \u001b[1;32mif\u001b[0m \u001b[1;32mnot\u001b[0m \u001b[0mself\u001b[0m\u001b[1;33m.\u001b[0m\u001b[0m_in_multi_worker_mode\u001b[0m\u001b[1;33m(\u001b[0m\u001b[1;33m)\u001b[0m\u001b[1;33m:\u001b[0m  \u001b[1;31m# pylint: disable=protected-access\u001b[0m\u001b[1;33m\u001b[0m\u001b[1;33m\u001b[0m\u001b[0m\n\u001b[1;32m--> 108\u001b[1;33m       \u001b[1;32mreturn\u001b[0m \u001b[0mmethod\u001b[0m\u001b[1;33m(\u001b[0m\u001b[0mself\u001b[0m\u001b[1;33m,\u001b[0m \u001b[1;33m*\u001b[0m\u001b[0margs\u001b[0m\u001b[1;33m,\u001b[0m \u001b[1;33m**\u001b[0m\u001b[0mkwargs\u001b[0m\u001b[1;33m)\u001b[0m\u001b[1;33m\u001b[0m\u001b[1;33m\u001b[0m\u001b[0m\n\u001b[0m\u001b[0;32m    109\u001b[0m \u001b[1;33m\u001b[0m\u001b[0m\n\u001b[0;32m    110\u001b[0m     \u001b[1;31m# Running inside `run_distribute_coordinator` already.\u001b[0m\u001b[1;33m\u001b[0m\u001b[1;33m\u001b[0m\u001b[1;33m\u001b[0m\u001b[0m\n",
      "\u001b[1;32m~\\anaconda3\\envs\\tf-n-gpu\\lib\\site-packages\\tensorflow\\python\\keras\\engine\\training.py\u001b[0m in \u001b[0;36mfit\u001b[1;34m(self, x, y, batch_size, epochs, verbose, callbacks, validation_split, validation_data, shuffle, class_weight, sample_weight, initial_epoch, steps_per_epoch, validation_steps, validation_batch_size, validation_freq, max_queue_size, workers, use_multiprocessing)\u001b[0m\n\u001b[0;32m   1096\u001b[0m                 batch_size=batch_size):\n\u001b[0;32m   1097\u001b[0m               \u001b[0mcallbacks\u001b[0m\u001b[1;33m.\u001b[0m\u001b[0mon_train_batch_begin\u001b[0m\u001b[1;33m(\u001b[0m\u001b[0mstep\u001b[0m\u001b[1;33m)\u001b[0m\u001b[1;33m\u001b[0m\u001b[1;33m\u001b[0m\u001b[0m\n\u001b[1;32m-> 1098\u001b[1;33m               \u001b[0mtmp_logs\u001b[0m \u001b[1;33m=\u001b[0m \u001b[0mtrain_function\u001b[0m\u001b[1;33m(\u001b[0m\u001b[0miterator\u001b[0m\u001b[1;33m)\u001b[0m\u001b[1;33m\u001b[0m\u001b[1;33m\u001b[0m\u001b[0m\n\u001b[0m\u001b[0;32m   1099\u001b[0m               \u001b[1;32mif\u001b[0m \u001b[0mdata_handler\u001b[0m\u001b[1;33m.\u001b[0m\u001b[0mshould_sync\u001b[0m\u001b[1;33m:\u001b[0m\u001b[1;33m\u001b[0m\u001b[1;33m\u001b[0m\u001b[0m\n\u001b[0;32m   1100\u001b[0m                 \u001b[0mcontext\u001b[0m\u001b[1;33m.\u001b[0m\u001b[0masync_wait\u001b[0m\u001b[1;33m(\u001b[0m\u001b[1;33m)\u001b[0m\u001b[1;33m\u001b[0m\u001b[1;33m\u001b[0m\u001b[0m\n",
      "\u001b[1;32m~\\anaconda3\\envs\\tf-n-gpu\\lib\\site-packages\\tensorflow\\python\\eager\\def_function.py\u001b[0m in \u001b[0;36m__call__\u001b[1;34m(self, *args, **kwds)\u001b[0m\n\u001b[0;32m    778\u001b[0m       \u001b[1;32melse\u001b[0m\u001b[1;33m:\u001b[0m\u001b[1;33m\u001b[0m\u001b[1;33m\u001b[0m\u001b[0m\n\u001b[0;32m    779\u001b[0m         \u001b[0mcompiler\u001b[0m \u001b[1;33m=\u001b[0m \u001b[1;34m\"nonXla\"\u001b[0m\u001b[1;33m\u001b[0m\u001b[1;33m\u001b[0m\u001b[0m\n\u001b[1;32m--> 780\u001b[1;33m         \u001b[0mresult\u001b[0m \u001b[1;33m=\u001b[0m \u001b[0mself\u001b[0m\u001b[1;33m.\u001b[0m\u001b[0m_call\u001b[0m\u001b[1;33m(\u001b[0m\u001b[1;33m*\u001b[0m\u001b[0margs\u001b[0m\u001b[1;33m,\u001b[0m \u001b[1;33m**\u001b[0m\u001b[0mkwds\u001b[0m\u001b[1;33m)\u001b[0m\u001b[1;33m\u001b[0m\u001b[1;33m\u001b[0m\u001b[0m\n\u001b[0m\u001b[0;32m    781\u001b[0m \u001b[1;33m\u001b[0m\u001b[0m\n\u001b[0;32m    782\u001b[0m       \u001b[0mnew_tracing_count\u001b[0m \u001b[1;33m=\u001b[0m \u001b[0mself\u001b[0m\u001b[1;33m.\u001b[0m\u001b[0m_get_tracing_count\u001b[0m\u001b[1;33m(\u001b[0m\u001b[1;33m)\u001b[0m\u001b[1;33m\u001b[0m\u001b[1;33m\u001b[0m\u001b[0m\n",
      "\u001b[1;32m~\\anaconda3\\envs\\tf-n-gpu\\lib\\site-packages\\tensorflow\\python\\eager\\def_function.py\u001b[0m in \u001b[0;36m_call\u001b[1;34m(self, *args, **kwds)\u001b[0m\n\u001b[0;32m    805\u001b[0m       \u001b[1;31m# In this case we have created variables on the first call, so we run the\u001b[0m\u001b[1;33m\u001b[0m\u001b[1;33m\u001b[0m\u001b[1;33m\u001b[0m\u001b[0m\n\u001b[0;32m    806\u001b[0m       \u001b[1;31m# defunned version which is guaranteed to never create variables.\u001b[0m\u001b[1;33m\u001b[0m\u001b[1;33m\u001b[0m\u001b[1;33m\u001b[0m\u001b[0m\n\u001b[1;32m--> 807\u001b[1;33m       \u001b[1;32mreturn\u001b[0m \u001b[0mself\u001b[0m\u001b[1;33m.\u001b[0m\u001b[0m_stateless_fn\u001b[0m\u001b[1;33m(\u001b[0m\u001b[1;33m*\u001b[0m\u001b[0margs\u001b[0m\u001b[1;33m,\u001b[0m \u001b[1;33m**\u001b[0m\u001b[0mkwds\u001b[0m\u001b[1;33m)\u001b[0m  \u001b[1;31m# pylint: disable=not-callable\u001b[0m\u001b[1;33m\u001b[0m\u001b[1;33m\u001b[0m\u001b[0m\n\u001b[0m\u001b[0;32m    808\u001b[0m     \u001b[1;32melif\u001b[0m \u001b[0mself\u001b[0m\u001b[1;33m.\u001b[0m\u001b[0m_stateful_fn\u001b[0m \u001b[1;32mis\u001b[0m \u001b[1;32mnot\u001b[0m \u001b[1;32mNone\u001b[0m\u001b[1;33m:\u001b[0m\u001b[1;33m\u001b[0m\u001b[1;33m\u001b[0m\u001b[0m\n\u001b[0;32m    809\u001b[0m       \u001b[1;31m# Release the lock early so that multiple threads can perform the call\u001b[0m\u001b[1;33m\u001b[0m\u001b[1;33m\u001b[0m\u001b[1;33m\u001b[0m\u001b[0m\n",
      "\u001b[1;32m~\\anaconda3\\envs\\tf-n-gpu\\lib\\site-packages\\tensorflow\\python\\eager\\function.py\u001b[0m in \u001b[0;36m__call__\u001b[1;34m(self, *args, **kwargs)\u001b[0m\n\u001b[0;32m   2827\u001b[0m     \u001b[1;32mwith\u001b[0m \u001b[0mself\u001b[0m\u001b[1;33m.\u001b[0m\u001b[0m_lock\u001b[0m\u001b[1;33m:\u001b[0m\u001b[1;33m\u001b[0m\u001b[1;33m\u001b[0m\u001b[0m\n\u001b[0;32m   2828\u001b[0m       \u001b[0mgraph_function\u001b[0m\u001b[1;33m,\u001b[0m \u001b[0margs\u001b[0m\u001b[1;33m,\u001b[0m \u001b[0mkwargs\u001b[0m \u001b[1;33m=\u001b[0m \u001b[0mself\u001b[0m\u001b[1;33m.\u001b[0m\u001b[0m_maybe_define_function\u001b[0m\u001b[1;33m(\u001b[0m\u001b[0margs\u001b[0m\u001b[1;33m,\u001b[0m \u001b[0mkwargs\u001b[0m\u001b[1;33m)\u001b[0m\u001b[1;33m\u001b[0m\u001b[1;33m\u001b[0m\u001b[0m\n\u001b[1;32m-> 2829\u001b[1;33m     \u001b[1;32mreturn\u001b[0m \u001b[0mgraph_function\u001b[0m\u001b[1;33m.\u001b[0m\u001b[0m_filtered_call\u001b[0m\u001b[1;33m(\u001b[0m\u001b[0margs\u001b[0m\u001b[1;33m,\u001b[0m \u001b[0mkwargs\u001b[0m\u001b[1;33m)\u001b[0m  \u001b[1;31m# pylint: disable=protected-access\u001b[0m\u001b[1;33m\u001b[0m\u001b[1;33m\u001b[0m\u001b[0m\n\u001b[0m\u001b[0;32m   2830\u001b[0m \u001b[1;33m\u001b[0m\u001b[0m\n\u001b[0;32m   2831\u001b[0m   \u001b[1;33m@\u001b[0m\u001b[0mproperty\u001b[0m\u001b[1;33m\u001b[0m\u001b[1;33m\u001b[0m\u001b[0m\n",
      "\u001b[1;32m~\\anaconda3\\envs\\tf-n-gpu\\lib\\site-packages\\tensorflow\\python\\eager\\function.py\u001b[0m in \u001b[0;36m_filtered_call\u001b[1;34m(self, args, kwargs, cancellation_manager)\u001b[0m\n\u001b[0;32m   1846\u001b[0m                            resource_variable_ops.BaseResourceVariable))],\n\u001b[0;32m   1847\u001b[0m         \u001b[0mcaptured_inputs\u001b[0m\u001b[1;33m=\u001b[0m\u001b[0mself\u001b[0m\u001b[1;33m.\u001b[0m\u001b[0mcaptured_inputs\u001b[0m\u001b[1;33m,\u001b[0m\u001b[1;33m\u001b[0m\u001b[1;33m\u001b[0m\u001b[0m\n\u001b[1;32m-> 1848\u001b[1;33m         cancellation_manager=cancellation_manager)\n\u001b[0m\u001b[0;32m   1849\u001b[0m \u001b[1;33m\u001b[0m\u001b[0m\n\u001b[0;32m   1850\u001b[0m   \u001b[1;32mdef\u001b[0m \u001b[0m_call_flat\u001b[0m\u001b[1;33m(\u001b[0m\u001b[0mself\u001b[0m\u001b[1;33m,\u001b[0m \u001b[0margs\u001b[0m\u001b[1;33m,\u001b[0m \u001b[0mcaptured_inputs\u001b[0m\u001b[1;33m,\u001b[0m \u001b[0mcancellation_manager\u001b[0m\u001b[1;33m=\u001b[0m\u001b[1;32mNone\u001b[0m\u001b[1;33m)\u001b[0m\u001b[1;33m:\u001b[0m\u001b[1;33m\u001b[0m\u001b[1;33m\u001b[0m\u001b[0m\n",
      "\u001b[1;32m~\\anaconda3\\envs\\tf-n-gpu\\lib\\site-packages\\tensorflow\\python\\eager\\function.py\u001b[0m in \u001b[0;36m_call_flat\u001b[1;34m(self, args, captured_inputs, cancellation_manager)\u001b[0m\n\u001b[0;32m   1922\u001b[0m       \u001b[1;31m# No tape is watching; skip to running the function.\u001b[0m\u001b[1;33m\u001b[0m\u001b[1;33m\u001b[0m\u001b[1;33m\u001b[0m\u001b[0m\n\u001b[0;32m   1923\u001b[0m       return self._build_call_outputs(self._inference_function.call(\n\u001b[1;32m-> 1924\u001b[1;33m           ctx, args, cancellation_manager=cancellation_manager))\n\u001b[0m\u001b[0;32m   1925\u001b[0m     forward_backward = self._select_forward_and_backward_functions(\n\u001b[0;32m   1926\u001b[0m         \u001b[0margs\u001b[0m\u001b[1;33m,\u001b[0m\u001b[1;33m\u001b[0m\u001b[1;33m\u001b[0m\u001b[0m\n",
      "\u001b[1;32m~\\anaconda3\\envs\\tf-n-gpu\\lib\\site-packages\\tensorflow\\python\\eager\\function.py\u001b[0m in \u001b[0;36mcall\u001b[1;34m(self, ctx, args, cancellation_manager)\u001b[0m\n\u001b[0;32m    548\u001b[0m               \u001b[0minputs\u001b[0m\u001b[1;33m=\u001b[0m\u001b[0margs\u001b[0m\u001b[1;33m,\u001b[0m\u001b[1;33m\u001b[0m\u001b[1;33m\u001b[0m\u001b[0m\n\u001b[0;32m    549\u001b[0m               \u001b[0mattrs\u001b[0m\u001b[1;33m=\u001b[0m\u001b[0mattrs\u001b[0m\u001b[1;33m,\u001b[0m\u001b[1;33m\u001b[0m\u001b[1;33m\u001b[0m\u001b[0m\n\u001b[1;32m--> 550\u001b[1;33m               ctx=ctx)\n\u001b[0m\u001b[0;32m    551\u001b[0m         \u001b[1;32melse\u001b[0m\u001b[1;33m:\u001b[0m\u001b[1;33m\u001b[0m\u001b[1;33m\u001b[0m\u001b[0m\n\u001b[0;32m    552\u001b[0m           outputs = execute.execute_with_cancellation(\n",
      "\u001b[1;32m~\\anaconda3\\envs\\tf-n-gpu\\lib\\site-packages\\tensorflow\\python\\eager\\execute.py\u001b[0m in \u001b[0;36mquick_execute\u001b[1;34m(op_name, num_outputs, inputs, attrs, ctx, name)\u001b[0m\n\u001b[0;32m     58\u001b[0m     \u001b[0mctx\u001b[0m\u001b[1;33m.\u001b[0m\u001b[0mensure_initialized\u001b[0m\u001b[1;33m(\u001b[0m\u001b[1;33m)\u001b[0m\u001b[1;33m\u001b[0m\u001b[1;33m\u001b[0m\u001b[0m\n\u001b[0;32m     59\u001b[0m     tensors = pywrap_tfe.TFE_Py_Execute(ctx._handle, device_name, op_name,\n\u001b[1;32m---> 60\u001b[1;33m                                         inputs, attrs, num_outputs)\n\u001b[0m\u001b[0;32m     61\u001b[0m   \u001b[1;32mexcept\u001b[0m \u001b[0mcore\u001b[0m\u001b[1;33m.\u001b[0m\u001b[0m_NotOkStatusException\u001b[0m \u001b[1;32mas\u001b[0m \u001b[0me\u001b[0m\u001b[1;33m:\u001b[0m\u001b[1;33m\u001b[0m\u001b[1;33m\u001b[0m\u001b[0m\n\u001b[0;32m     62\u001b[0m     \u001b[1;32mif\u001b[0m \u001b[0mname\u001b[0m \u001b[1;32mis\u001b[0m \u001b[1;32mnot\u001b[0m \u001b[1;32mNone\u001b[0m\u001b[1;33m:\u001b[0m\u001b[1;33m\u001b[0m\u001b[1;33m\u001b[0m\u001b[0m\n",
      "\u001b[1;31mKeyboardInterrupt\u001b[0m: "
     ]
    }
   ],
   "source": [
    "earlyStopImprove = tf.keras.callbacks.EarlyStopping(monitor='auc', patience=10)\n",
    "checkpoint = tf.keras.callbacks.ModelCheckpoint('03_model/Model_seg3imagere_23.32.h5', monitor='auc', verbose=1, save_best_only=True, mode='max')\n",
    "\n",
    "ACCURACY_THRESHOLD = 0.95\n",
    "class myCallback(tf.keras.callbacks.Callback): \n",
    "    def on_epoch_end(self, epoch, logs={}): \n",
    "        if(logs.get('auc') > ACCURACY_THRESHOLD):\n",
    "            print(\"\\nReached %2.2f%% accuracy, so stopping training!!\" %(ACCURACY_THRESHOLD*100))\n",
    "            self.model.stop_training = True\n",
    "\n",
    "NO_OF_EPOCHS = 50\n",
    "\n",
    "NO_OF_TRAINING_IMAGES = len(os.listdir(path1+'image/'))\n",
    "NO_OF_VAL_IMAGES = len(os.listdir(path3+'image/'))\n",
    "\n",
    "# NO_OF_TRAINING_IMAGES = len(os.listdir('02_data/train_image_re255/image/'))\n",
    "# NO_OF_VAL_IMAGES = len(os.listdir('02_data/val_image_re255/image/'))\n",
    "\n",
    "BATCH_SIZE = batch_size1\n",
    "\n",
    "results = model.fit(train_generator, \n",
    "                    epochs=NO_OF_EPOCHS, \n",
    "                    steps_per_epoch=(NO_OF_TRAINING_IMAGES//BATCH_SIZE), \n",
    "                    validation_data=val_generator, \n",
    "                    validation_steps=(NO_OF_VAL_IMAGES//BATCH_SIZE),\n",
    "                    callbacks=[checkpoint] # myCallback(), checkpoint, earlyStopImprove\n",
    "                   )"
   ]
  },
  {
   "cell_type": "code",
   "execution_count": 59,
   "metadata": {},
   "outputs": [],
   "source": [
    "# load for countinue trainning\n",
    "model = tf.keras.models.load_model('03_model/Model_seg3imagere_23.32.h5', custom_objects={'dice_coef_loss': dice_coef_loss, 'dice_coef':dice_coef})"
   ]
  },
  {
   "cell_type": "code",
   "execution_count": null,
   "metadata": {},
   "outputs": [],
   "source": [
    "# model.save('03_model/Model_ep200_23.32.h5')"
   ]
  },
  {
   "cell_type": "code",
   "execution_count": null,
   "metadata": {},
   "outputs": [],
   "source": [
    "# !mkdir saved_model\n",
    "# model.save('03_model/saved_model/my_model_ep100') "
   ]
  },
  {
   "cell_type": "code",
   "execution_count": 42,
   "metadata": {},
   "outputs": [],
   "source": [
    "# load model\n",
    "load_model = tf.keras.models.load_model('03_model/Model_ep50.h5', custom_objects={'dice_coef_loss': dice_coef_loss, 'dice_coef':dice_coef})"
   ]
  },
  {
   "cell_type": "code",
   "execution_count": null,
   "metadata": {},
   "outputs": [],
   "source": [
    "# test loaded model\n",
    "earlyStopImprove = tf.keras.callbacks.EarlyStopping(monitor='auc', patience=5)\n",
    "\n",
    "loss, acc = load_model.evaluate(val_generator, batch_size=batch_size1, verbose=2, callbacks=[earlyStopImprove]\n",
    "                              )\n",
    "print('Restored model, accuracy: {:5.2f}%'.format(100*acc))"
   ]
  },
  {
   "cell_type": "code",
   "execution_count": null,
   "metadata": {},
   "outputs": [],
   "source": [
    "print(results.history.keys())"
   ]
  },
  {
   "cell_type": "code",
   "execution_count": 27,
   "metadata": {},
   "outputs": [
    {
     "data": {
      "image/png": "[encoded data removed]",
      "text/plain": [
       "<Figure size 432x288 with 1 Axes>"
      ]
     },
     "metadata": {
      "needs_background": "light"
     },
     "output_type": "display_data"
    }
   ],
   "source": [
    "plt.plot(results.history['loss'])\n",
    "plt.plot(results.history['val_loss'])\n",
    "plt.title('model loss')\n",
    "plt.ylabel('loss')\n",
    "plt.xlabel('epoch')\n",
    "plt.legend(['train', 'test'], loc='upper left')\n",
    "plt.show()"
   ]
  },
  {
   "cell_type": "code",
   "execution_count": 28,
   "metadata": {},
   "outputs": [
    {
     "data": {
      "image/png": "[encoded data removed]",
      "text/plain": [
       "<Figure size 432x288 with 1 Axes>"
      ]
     },
     "metadata": {
      "needs_background": "light"
     },
     "output_type": "display_data"
    }
   ],
   "source": [
    "plt.plot(results.history['auc'])\n",
    "plt.plot(results.history['val_auc'])\n",
    "plt.title('model auc')\n",
    "plt.ylabel('auc')\n",
    "plt.xlabel('epoch')\n",
    "plt.legend(['train', 'test'], loc='upper left')\n",
    "plt.show()"
   ]
  },
  {
   "cell_type": "code",
   "execution_count": 31,
   "metadata": {},
   "outputs": [],
   "source": [
    "def create_mask(pred_mask):\n",
    "  pred_mask = tf.argmax(pred_mask, axis=-1)\n",
    "  pred_mask = pred_mask[..., tf.newaxis]\n",
    "  return pred_mask[0]"
   ]
  },
  {
   "cell_type": "code",
   "execution_count": 32,
   "metadata": {},
   "outputs": [],
   "source": [
    "def show_predictions(dataset=None, num=1):\n",
    "  if dataset:\n",
    "    for image, mask in dataset.take(num):\n",
    "      pred_mask = model.predict(image)\n",
    "      display([image[0], mask[0], create_mask(pred_mask)])\n",
    "  else:\n",
    "    display([sample_image, sample_mask,\n",
    "             create_mask(model.predict(sample_image[tf.newaxis, ...]))])"
   ]
  },
  {
   "cell_type": "code",
   "execution_count": null,
   "metadata": {},
   "outputs": [],
   "source": [
    "from PIL import Image\n",
    "\n",
    "# img0 = Image.fromarray(val_image_generator[3].astype(np.uint8), mode = \"L\")\n",
    "\n",
    "im = Image.new('L', (256, 256))\n",
    "im.putdata(val_image_generator[5])\n",
    "plt.imshow(im)"
   ]
  },
  {
   "cell_type": "code",
   "execution_count": 38,
   "metadata": {},
   "outputs": [],
   "source": [
    "from copy import deepcopy\n",
    "\n",
    "dataset_as_tuple = deepcopy(next(val_image_generator))"
   ]
  },
  {
   "cell_type": "code",
   "execution_count": 48,
   "metadata": {},
   "outputs": [
    {
     "data": {
      "text/plain": [
       "<matplotlib.image.AxesImage at 0x22c84a9da88>"
      ]
     },
     "execution_count": 48,
     "metadata": {},
     "output_type": "execute_result"
    },
    {
     "data": {
      "image/png": "[encoded data removed]",
      "text/plain": [
       "<Figure size 432x288 with 1 Axes>"
      ]
     },
     "metadata": {
      "needs_background": "light"
     },
     "output_type": "display_data"
    }
   ],
   "source": [
    "samples_to_predict = np.array(dataset_as_tuple[0])\n",
    "samples_to_predict2 = (((samples_to_predict - samples_to_predict.min()) / (samples_to_predict.max() - samples_to_predict.min())) * 255.9).astype(np.uint8)\n",
    "plt.imshow(samples_to_predict2[0,:,:])"
   ]
  },
  {
   "cell_type": "code",
   "execution_count": 60,
   "metadata": {},
   "outputs": [
    {
     "data": {
      "text/plain": [
       "<matplotlib.image.AxesImage at 0x22cbaa1e608>"
      ]
     },
     "execution_count": 60,
     "metadata": {},
     "output_type": "execute_result"
    },
    {
     "data": {
      "image/png": "[encoded data removed]",
      "text/plain": [
       "<Figure size 432x288 with 1 Axes>"
      ]
     },
     "metadata": {
      "needs_background": "light"
     },
     "output_type": "display_data"
    }
   ],
   "source": [
    "predictions = model.predict(dataset_as_tuple[0])\n",
    "samples_to_predict3 = np.array(predictions[0])\n",
    "# samples_to_predict4 = (((samples_to_predict3 - samples_to_predict3.min()) / (samples_to_predict3.max() - samples_to_predict3.min())) * 255.9).astype(np.uint8)\n",
    "plt.imshow(samples_to_predict3[:,:,0])"
   ]
  },
  {
   "cell_type": "code",
   "execution_count": 63,
   "metadata": {},
   "outputs": [
    {
     "data": {
      "text/plain": [
       "<matplotlib.image.AxesImage at 0x22cb17b5a48>"
      ]
     },
     "execution_count": 63,
     "metadata": {},
     "output_type": "execute_result"
    },
    {
     "data": {
      "image/png": "[encoded data removed]",
      "text/plain": [
       "<Figure size 432x288 with 1 Axes>"
      ]
     },
     "metadata": {
      "needs_background": "light"
     },
     "output_type": "display_data"
    }
   ],
   "source": [
    "samples_to_predict5 = samples_to_predict3.copy()\n",
    "samples_to_predict5[samples_to_predict5 >= np.percentile(samples_to_predict5, 95)] = 255\n",
    "samples_to_predict5[samples_to_predict5 != 255 ] = 0\n",
    "plt.imshow(samples_to_predict5[:,:,0])"
   ]
  },
  {
   "cell_type": "code",
   "execution_count": 70,
   "metadata": {},
   "outputs": [
    {
     "data": {
      "text/plain": [
       "<matplotlib.image.AxesImage at 0x22cb56d3548>"
      ]
     },
     "execution_count": 70,
     "metadata": {},
     "output_type": "execute_result"
    },
    {
     "data": {
      "image/png": "[encoded data removed]",
      "text/plain": [
       "<Figure size 432x288 with 1 Axes>"
      ]
     },
     "metadata": {
      "needs_background": "light"
     },
     "output_type": "display_data"
    }
   ],
   "source": [
    "samples_to_predict5 = samples_to_predict3.copy()\n",
    "samples_to_predict5[samples_to_predict5 <= np.percentile(samples_to_predict5, 99.5)] = 0\n",
    "# samples_to_predict5[samples_to_predict5 != 255 ] = 0\n",
    "plt.imshow(samples_to_predict5[:,:,0])"
   ]
  },
  {
   "cell_type": "code",
   "execution_count": 66,
   "metadata": {},
   "outputs": [
    {
     "data": {
      "text/plain": [
       "<matplotlib.image.AxesImage at 0x22cb6c6b7c8>"
      ]
     },
     "execution_count": 66,
     "metadata": {},
     "output_type": "execute_result"
    },
    {
     "data": {
      "image/png": "[encoded data removed]",
      "text/plain": [
       "<Figure size 432x288 with 1 Axes>"
      ]
     },
     "metadata": {
      "needs_background": "light"
     },
     "output_type": "display_data"
    }
   ],
   "source": [
    "from skimage.filters import threshold_otsu, threshold_mean, threshold_minimum, threshold_local\n",
    "thresh = threshold_mean(samples_to_predict3[:,:,0])\n",
    "binary = samples_to_predict3[:,:,0] > thresh\n",
    "# binary1 = samples_to_predict2[0,:,:] > samples_to_predict3\n",
    "plt.imshow(binary)"
   ]
  },
  {
   "cell_type": "code",
   "execution_count": null,
   "metadata": {
    "scrolled": true
   },
   "outputs": [],
   "source": [
    "dataset_as_tuple = next(val_mask_generator)\n",
    "\n",
    "samples_to_predict = np.array(dataset_as_tuple[0])\n",
    "samples_to_predict2 = (((samples_to_predict - samples_to_predict.min()) / (samples_to_predict.max() - samples_to_predict.min())) * 255.9).astype(np.uint8)\n",
    "plt.imshow(samples_to_predict2[0,:,:])"
   ]
  },
  {
   "cell_type": "code",
   "execution_count": null,
   "metadata": {},
   "outputs": [],
   "source": [
    "samples_to_predict4[150,:,0]"
   ]
  },
  {
   "cell_type": "code",
   "execution_count": null,
   "metadata": {},
   "outputs": [],
   "source": [
    "a1 = np.array(dataset_as_tuple[0])[0,:,:]\n",
    "plt.imshow(a1)"
   ]
  },
  {
   "cell_type": "code",
   "execution_count": null,
   "metadata": {},
   "outputs": [],
   "source": [
    "print(a1.max(),a1.min())"
   ]
  },
  {
   "cell_type": "code",
   "execution_count": null,
   "metadata": {},
   "outputs": [],
   "source": []
  },
  {
   "cell_type": "code",
   "execution_count": null,
   "metadata": {},
   "outputs": [],
   "source": []
  },
  {
   "cell_type": "code",
   "execution_count": null,
   "metadata": {},
   "outputs": [],
   "source": []
  },
  {
   "cell_type": "code",
   "execution_count": null,
   "metadata": {},
   "outputs": [],
   "source": []
  },
  {
   "cell_type": "code",
   "execution_count": null,
   "metadata": {},
   "outputs": [],
   "source": []
  },
  {
   "cell_type": "markdown",
   "metadata": {},
   "source": [
    "# Test"
   ]
  },
  {
   "cell_type": "code",
   "execution_count": null,
   "metadata": {},
   "outputs": [],
   "source": [
    "# test 1 \n",
    "\n",
    "from keras import backend as K\n",
    "import keras\n",
    "# from tensorflow.keras.layers import Dense, Conv2D, Flatten, MaxPool2D, Dropout, Input\n",
    "import tensorflow as tf\n",
    "\n",
    "num_gpus = 2\n",
    "def get_model1(optimizer, loss_metric, metrics, lr=1e-3, n_filters = 32):\n",
    "#     cross_tower_ops = tf.distribute.HierarchicalCopyAllReduce(num_packs=num_gpus)\n",
    "#     strategy = tf.distribute.MirroredStrategy(cross_device_ops=cross_tower_ops)\n",
    "# #     strategy = tf.distribute.MirroredStrategy()\n",
    "#     with strategy.scope():\n",
    "        inputs = keras.Input((sample_width, sample_height, 1))\n",
    "        conv1 = keras.layers.Conv2D(n_filters*2, (3, 3), activation='relu', padding='SAME')(inputs)\n",
    "        conv1 = keras.layers.Conv2D(n_filters*2, (3, 3), activation='relu', padding='SAME')(conv1)\n",
    "        conv1 = tf.reshape(conv1, tf.shape(conv1))\n",
    "        pool1 = keras.layers.MaxPooling2D(pool_size=(2, 2))(conv1)\n",
    "        drop1 = keras.layers.Dropout(0.2)(pool1)\n",
    "\n",
    "        conv2 = keras.layers.Conv2D(n_filters*4, (3, 3), activation='relu', padding='SAME')(drop1)\n",
    "        conv2 = keras.layers.Conv2D(n_filters*4, (3, 3), activation='relu', padding='SAME')(conv2)\n",
    "        conv2 = tf.reshape(conv2, tf.shape(conv2))\n",
    "        pool2 = keras.layers.MaxPooling2D(pool_size=(2, 2))(conv2)\n",
    "        drop2 = keras.layers.Dropout(0.2)(pool2)\n",
    "\n",
    "        conv3 = keras.layers.Conv2D(n_filters*8, (3, 3), activation='relu', padding='SAME')(drop2)\n",
    "        conv3 = keras.layers.Conv2D(n_filters*8, (3, 3), activation='relu', padding='SAME')(conv3)\n",
    "        conv3 = tf.reshape(conv3, tf.shape(conv3))\n",
    "        pool3 = keras.layers.MaxPooling2D(pool_size=(2, 2))(conv3)\n",
    "        drop3 = keras.layers.Dropout(0.3)(pool3)\n",
    "\n",
    "        conv4 = keras.layers.Conv2D(n_filters*16, (3, 3), activation='relu', padding='SAME')(drop3)\n",
    "        conv4 = keras.layers.Conv2D(n_filters*16, (3, 3), activation='relu', padding='SAME')(conv4)\n",
    "        conv4 = tf.reshape(conv4, tf.shape(conv4))\n",
    "        pool4 = keras.layers.MaxPooling2D(pool_size=(2, 2))(conv4)\n",
    "        drop4 = keras.layers.Dropout(0.3)(pool4)\n",
    "\n",
    "        conv5 = keras.layers.Conv2D(n_filters*32, (3, 3), activation='relu', padding='SAME')(drop4)\n",
    "        conv5 = keras.layers.Conv2D(n_filters*32, (3, 3), activation='relu', padding='SAME')(conv5)\n",
    "        conv5 = tf.reshape(conv5, tf.shape(conv5))\n",
    "    \n",
    "        conv5u = tf.keras.layers.Conv2DTranspose(filters=n_filters*16, kernel_size=(2, 2), strides=(2, 2), padding='SAME')(conv5)\n",
    "        conv5u = tf.reshape(conv5u, tf.shape(conv5u))\n",
    "        up6 = keras.layers.concatenate([conv5u, conv4], axis=3)\n",
    "        up6 = keras.layers.Dropout(0.2)(up6)\n",
    "        conv6 = keras.layers.Conv2D(n_filters*16, (3, 3), activation='relu', padding='SAME')(up6)\n",
    "        conv6 = keras.layers.Conv2D(n_filters*16, (3, 3), activation='relu', padding='SAME')(conv6)\n",
    "        conv6 = tf.reshape(conv6, tf.shape(conv6))\n",
    "    \n",
    "        conv6u = tf.keras.layers.Conv2DTranspose(filters=n_filters*8, kernel_size=(2, 2), strides=(2, 2), padding='SAME')(conv6)\n",
    "        conv6u = tf.reshape(conv6u, tf.shape(conv6u))\n",
    "        up7 = keras.layers.concatenate([conv6u, conv3], axis=3)\n",
    "        up7 = keras.layers.Dropout(0.2)(up7)\n",
    "        conv7 = keras.layers.Conv2D(n_filters*8, (3, 3), activation='relu', padding='SAME')(up7)\n",
    "        conv7 = keras.layers.Conv2D(n_filters*8, (3, 3), activation='relu', padding='SAME')(conv7)\n",
    "        conv7 = tf.reshape(conv7, tf.shape(conv7))\n",
    "    \n",
    "        conv7u = tf.keras.layers.Conv2DTranspose(filters=n_filters*4, kernel_size=(2, 2), strides=(2, 2), padding='SAME')(conv7)\n",
    "        conv7u = tf.reshape(conv7u, tf.shape(conv7u))\n",
    "        up8 = keras.layers.concatenate([conv7u, conv2], axis=3)\n",
    "        up8 = keras.layers.Dropout(0.2)(up8)\n",
    "        conv8 = keras.layers.Conv2D(n_filters*4, (3, 3), activation='relu', padding='SAME')(up8)\n",
    "        conv8 = keras.layers.Conv2D(n_filters*4, (3, 3), activation='relu', padding='SAME')(conv8)\n",
    "        conv8 = tf.reshape(conv8, tf.shape(conv8))\n",
    "    \n",
    "        conv8u = tf.keras.layers.Conv2DTranspose(filters=n_filters*2, kernel_size=(2, 2), strides=(2, 2), padding='SAME')(conv8)\n",
    "        conv8u = tf.reshape(conv8u, tf.shape(conv8u))\n",
    "        up9 = keras.layers.concatenate([conv8u, conv1], axis=3)\n",
    "        up9 = keras.layers.Dropout(0.2)(up9)\n",
    "        conv9 = keras.layers.Conv2D(n_filters*2, (3, 3), activation='relu', padding='SAME')(up9)\n",
    "        conv9 = keras.layers.Conv2D(n_filters*2, (3, 3), activation='relu', padding='SAME')(conv9)\n",
    "        conv9 = tf.reshape(conv9, tf.shape(conv9))\n",
    "\n",
    "        conv10 = keras.layers.Conv2D(1, (1, 1), activation='sigmoid')(conv9)\n",
    "        conv10 = tf.reshape(conv10, tf.shape(conv10))\n",
    "\n",
    "        model = keras.Model(inputs=[inputs], outputs=[conv10])\n",
    "\n",
    "        model.compile(optimizer=optimizer(lr=lr), loss=loss_metric, metrics=metrics)\n",
    "        return model\n"
   ]
  },
  {
   "cell_type": "code",
   "execution_count": null,
   "metadata": {},
   "outputs": [],
   "source": [
    "# test 2\n",
    "\n",
    "from keras import backend as K\n",
    "import keras\n",
    "# from tensorflow.keras.layers import Dense, Conv2D, Flatten, MaxPool2D, Dropout, Input\n",
    "import tensorflow as tf\n",
    "\n",
    "num_gpus = 2\n",
    "def get_model1(optimizer, loss_metric, metrics, lr=1e-3):\n",
    "    cross_tower_ops = tf.distribute.HierarchicalCopyAllReduce(num_packs=num_gpus)\n",
    "    strategy = tf.distribute.MirroredStrategy(cross_device_ops=cross_tower_ops)\n",
    "#     strategy = tf.distribute.MirroredStrategy()\n",
    "    with strategy.scope():\n",
    "        inputs = keras.Input((sample_width, sample_height, 1))\n",
    "    \n",
    "        conv0 = keras.layers.Conv2D(16, (3, 3), activation='relu', padding='SAME')(inputs)\n",
    "        conv0 = keras.layers.Conv2D(16, (3, 3), activation='relu', padding='SAME')(conv0)\n",
    "        conv0 = tf.reshape(conv0, tf.shape(conv0))\n",
    "        pool0 = keras.layers.MaxPooling2D(pool_size=(2, 2))(conv0)\n",
    "        drop0 = keras.layers.Dropout(0.1)(pool0)\n",
    "    \n",
    "        conv1 = keras.layers.Conv2D(32, (3, 3), activation='relu', padding='SAME')(drop0)\n",
    "        conv1 = keras.layers.Conv2D(32, (3, 3), activation='relu', padding='SAME')(conv1)\n",
    "        conv1 = tf.reshape(conv1, tf.shape(conv1))\n",
    "        pool1 = keras.layers.MaxPooling2D(pool_size=(2, 2))(conv1)\n",
    "        drop1 = keras.layers.Dropout(0.1)(pool1)\n",
    "\n",
    "        conv2 = keras.layers.Conv2D(64, (3, 3), activation='relu', padding='SAME')(drop1)\n",
    "        conv2 = keras.layers.Conv2D(64, (3, 3), activation='relu', padding='SAME')(conv2)\n",
    "        conv2 = tf.reshape(conv2, tf.shape(conv2))\n",
    "        pool2 = keras.layers.MaxPooling2D(pool_size=(2, 2))(conv2)\n",
    "        drop2 = keras.layers.Dropout(0.1)(pool2)\n",
    "\n",
    "        conv3 = keras.layers.Conv2D(128, (3, 3), activation='relu', padding='SAME')(drop2)\n",
    "        conv3 = keras.layers.Conv2D(128, (3, 3), activation='relu', padding='SAME')(conv3)\n",
    "        conv3 = tf.reshape(conv3, tf.shape(conv3))\n",
    "        pool3 = keras.layers.MaxPooling2D(pool_size=(2, 2))(conv3)\n",
    "        drop3 = keras.layers.Dropout(0.1)(pool3)\n",
    "\n",
    "        conv4 = keras.layers.Conv2D(256, (3, 3), activation='relu', padding='SAME')(drop3)\n",
    "        conv4 = keras.layers.Conv2D(256, (3, 3), activation='relu', padding='SAME')(conv4)\n",
    "        conv4 = tf.reshape(conv4, tf.shape(conv4))\n",
    "        pool4 = keras.layers.MaxPooling2D(pool_size=(2, 2))(conv4)\n",
    "        drop4 = keras.layers.Dropout(0.1)(pool4)\n",
    "        \n",
    "        conv5 = keras.layers.Conv2D(512, (3, 3), activation='relu', padding='SAME')(drop4)\n",
    "        conv5 = keras.layers.Conv2D(512, (3, 3), activation='relu', padding='SAME')(conv5)\n",
    "        conv5 = tf.reshape(conv5, tf.shape(conv5))\n",
    "        pool5 = keras.layers.MaxPooling2D(pool_size=(2, 2))(conv5)\n",
    "        drop5 = keras.layers.Dropout(0.1)(pool5)\n",
    "\n",
    "        convc5 = keras.layers.Conv2D(1024, (3, 3), activation='relu', padding='SAME')(drop5)\n",
    "        convc5 = keras.layers.Conv2D(1024, (3, 3), activation='relu', padding='SAME')(convc5)\n",
    "        convc5 = tf.reshape(convc5, tf.shape(convc5))\n",
    "        \n",
    "        convc5u = tf.keras.layers.Conv2DTranspose(filters=512, kernel_size=(2, 2), strides=(2, 2), padding='SAME')(convc5)\n",
    "        convc5u = tf.reshape(convc5u, tf.shape(convc5u))\n",
    "        upc6 = keras.layers.concatenate([convc5u, conv5], axis=3)\n",
    "        convc6 = keras.layers.Conv2D(512, (3, 3), activation='relu', padding='SAME')(upc6)\n",
    "        convc6 = keras.layers.Conv2D(512, (3, 3), activation='relu', padding='SAME')(convc6)\n",
    "        convc6 = tf.reshape(convc6, tf.shape(convc6))\n",
    "    \n",
    "        conv5u = tf.keras.layers.Conv2DTranspose(filters=256, kernel_size=(2, 2), strides=(2, 2), padding='SAME')(convc6)\n",
    "        conv5u = tf.reshape(conv5u, tf.shape(conv5u))\n",
    "        up6 = keras.layers.concatenate([conv5u, conv4], axis=3)\n",
    "        conv6 = keras.layers.Conv2D(256, (3, 3), activation='relu', padding='SAME')(up6)\n",
    "        conv6 = keras.layers.Conv2D(256, (3, 3), activation='relu', padding='SAME')(conv6)\n",
    "        conv6 = tf.reshape(conv6, tf.shape(conv6))\n",
    "    \n",
    "        conv6u = tf.keras.layers.Conv2DTranspose(filters=128, kernel_size=(2, 2), strides=(2, 2), padding='SAME')(conv6)\n",
    "        conv6u = tf.reshape(conv6u, tf.shape(conv6u))\n",
    "        up7 = keras.layers.concatenate([conv6u, conv3], axis=3)\n",
    "        conv7 = keras.layers.Conv2D(128, (3, 3), activation='relu', padding='SAME')(up7)\n",
    "        conv7 = keras.layers.Conv2D(128, (3, 3), activation='relu', padding='SAME')(conv7)\n",
    "        conv7 = tf.reshape(conv7, tf.shape(conv7))\n",
    "    \n",
    "        conv7u = tf.keras.layers.Conv2DTranspose(filters=64, kernel_size=(2, 2), strides=(2, 2), padding='SAME')(conv7)\n",
    "        conv7u = tf.reshape(conv7u, tf.shape(conv7u))\n",
    "        up8 = keras.layers.concatenate([conv7u, conv2], axis=3)\n",
    "        conv8 = keras.layers.Conv2D(64, (3, 3), activation='relu', padding='SAME')(up8)\n",
    "        conv8 = keras.layers.Conv2D(64, (3, 3), activation='relu', padding='SAME')(conv8)\n",
    "        conv8 = tf.reshape(conv8, tf.shape(conv8))\n",
    "    \n",
    "        conv8u = tf.keras.layers.Conv2DTranspose(filters=32, kernel_size=(2, 2), strides=(2, 2), padding='SAME')(conv8)\n",
    "        conv8u = tf.reshape(conv8u, tf.shape(conv8u))\n",
    "        up9 = keras.layers.concatenate([conv8u, conv1], axis=3)\n",
    "        conv9 = keras.layers.Conv2D(32, (3, 3), activation='relu', padding='SAME')(up9)\n",
    "        conv9 = keras.layers.Conv2D(32, (3, 3), activation='relu', padding='SAME')(conv9)\n",
    "        conv9 = tf.reshape(conv9, tf.shape(conv9))\n",
    "    \n",
    "        conv9u = tf.keras.layers.Conv2DTranspose(filters=16, kernel_size=(2, 2), strides=(2, 2), padding='SAME')(conv9)\n",
    "        conv9u = tf.reshape(conv9u, tf.shape(conv9u))\n",
    "        up10 = keras.layers.concatenate([conv9u, conv0], axis=3)\n",
    "        conv10 = keras.layers.Conv2D(16, (3, 3), activation='relu', padding='SAME')(up10)\n",
    "        conv10 = keras.layers.Conv2D(16, (3, 3), activation='relu', padding='SAME')(conv10)\n",
    "        conv10 = tf.reshape(conv10, tf.shape(conv10))\n",
    "\n",
    "        conv11 = keras.layers.Conv2D(1, (1, 1), activation='sigmoid')(conv10)\n",
    "        conv11 = tf.reshape(conv11, tf.shape(conv11))\n",
    "\n",
    "        model = keras.Model(inputs=[inputs], outputs=[conv11])\n",
    "\n",
    "        model.compile(optimizer=optimizer(lr=lr), loss=loss_metric, metrics=metrics)\n",
    "        return model\n",
    "\n"
   ]
  },
  {
   "cell_type": "code",
   "execution_count": null,
   "metadata": {},
   "outputs": [],
   "source": [
    "sample_width = 256\n",
    "sample_height = 256\n",
    "\n",
    "# tf.keras.optimizers.SGD\n",
    "# tf.keras.optimizers.Adam\n",
    "\n",
    "# dice_coef_loss\n",
    "# tf.keras.losses.binary_crossentropy\n",
    "# tf.keras.losses.BinaryCrossentropy()\n",
    "\n",
    "model = get_model1(optimizer=tf.keras.optimizers.Adam, loss_metric=dice_coef_loss, metrics=['AUC', dice_coef], lr=1e-6)\n",
    "# 'AUC'\n",
    "\n",
    "\n"
   ]
  },
  {
   "cell_type": "code",
   "execution_count": null,
   "metadata": {},
   "outputs": [],
   "source": [
    "from keras.layers import Input, Conv2D, Dropout, MaxPooling2D, concatenate, UpSampling2D\n",
    "from keras import backend as K\n",
    "import keras\n",
    "# from tensorflow.keras.layers import Dense, Conv2D, Flatten, MaxPool2D, Dropout, Input\n",
    "import tensorflow as tf\n",
    "\n",
    "def get_model2():\n",
    "    in1 = Input(shape=(IMG_HEIGHT, IMG_WIDTH, 3))\n",
    "\n",
    "    conv1 = Conv2D(32, (3, 3), activation='relu', kernel_initializer='he_normal', padding='same')(in1)\n",
    "    conv1 = Dropout(0.2)(conv1)\n",
    "    conv1 = Conv2D(32, (3, 3), activation='relu', kernel_initializer='he_normal', padding='same')(conv1)\n",
    "    pool1 = MaxPooling2D((2, 2))(conv1)\n",
    "\n",
    "    conv2 = Conv2D(64, (3, 3), activation='relu', kernel_initializer='he_normal', padding='same')(pool1)\n",
    "    conv2 = Dropout(0.2)(conv2)\n",
    "    conv2 = Conv2D(64, (3, 3), activation='relu', kernel_initializer='he_normal', padding='same')(conv2)\n",
    "    pool2 = MaxPooling2D((2, 2))(conv2)\n",
    "\n",
    "    conv3 = Conv2D(128, (3, 3), activation='relu', kernel_initializer='he_normal', padding='same')(pool2)\n",
    "    conv3 = Dropout(0.2)(conv3)\n",
    "    conv3 = Conv2D(128, (3, 3), activation='relu', kernel_initializer='he_normal', padding='same')(conv3)\n",
    "    pool3 = MaxPooling2D((2, 2))(conv3)\n",
    "\n",
    "    conv4 = Conv2D(128, (3, 3), activation='relu', kernel_initializer='he_normal', padding='same')(pool3)\n",
    "    conv4 = Dropout(0.2)(conv4)\n",
    "    conv4 = Conv2D(128, (3, 3), activation='relu', kernel_initializer='he_normal', padding='same')(conv4)\n",
    "\n",
    "    up1 = concatenate([UpSampling2D((2, 2))(conv4), conv3], axis=-1)\n",
    "    conv5 = Conv2D(64, (3, 3), activation='relu', kernel_initializer='he_normal', padding='same')(up1)\n",
    "    conv5 = Dropout(0.2)(conv5)\n",
    "    conv5 = Conv2D(64, (3, 3), activation='relu', kernel_initializer='he_normal', padding='same')(conv5)\n",
    "    \n",
    "    up2 = concatenate([UpSampling2D((2, 2))(conv5), conv2], axis=-1)\n",
    "    conv6 = Conv2D(64, (3, 3), activation='relu', kernel_initializer='he_normal', padding='same')(up2)\n",
    "    conv6 = Dropout(0.2)(conv6)\n",
    "    conv6 = Conv2D(64, (3, 3), activation='relu', kernel_initializer='he_normal', padding='same')(conv6)\n",
    "\n",
    "    up3 = concatenate([UpSampling2D((2, 2))(conv6), conv1], axis=-1)\n",
    "    conv7 = Conv2D(32, (3, 3), activation='relu', kernel_initializer='he_normal', padding='same')(up3)\n",
    "    conv7 = Dropout(0.2)(conv7)\n",
    "    conv7 = Conv2D(32, (3, 3), activation='relu', kernel_initializer='he_normal', padding='same')(conv7)\n",
    "    segmentation = Conv2D(3, (1, 1), activation='sigmoid', name='seg')(conv7)\n",
    "\n",
    "    model = keras.Model(inputs=[in1], outputs=[segmentation])\n",
    "\n",
    "    losses = {'seg': 'binary_crossentropy'\n",
    "            }\n",
    "\n",
    "    metrics = {'seg': [tf.keras.metrics.Accuracy()]\n",
    "                }\n",
    "    model.compile(optimizer=\"adam\", loss = losses, metrics=metrics)\n",
    "\n",
    "    return model\n",
    "\n",
    "\n"
   ]
  },
  {
   "cell_type": "code",
   "execution_count": null,
   "metadata": {},
   "outputs": [],
   "source": [
    "IMG_HEIGHT = 256\n",
    "IMG_WIDTH = 256\n",
    "\n",
    "# tf.keras.optimizers.SGD\n",
    "# tf.keras.optimizers.Adam\n",
    "\n",
    "# dice_coef_loss\n",
    "# tf.keras.losses.binary_crossentropy\n",
    "# tf.keras.losses.BinaryCrossentropy()\n",
    "\n",
    "model = get_model2()\n",
    "# 'AUC'"
   ]
  },
  {
   "cell_type": "code",
   "execution_count": null,
   "metadata": {},
   "outputs": [],
   "source": [
    "NO_OF_EPOCHS = 10\n",
    "\n",
    "NO_OF_TRAINING_IMAGES = len(os.listdir(path1+'image/'))\n",
    "NO_OF_VAL_IMAGES = len(os.listdir(path3+'image/'))\n",
    "\n",
    "# NO_OF_TRAINING_IMAGES = len(os.listdir('02_data/train_image_re255/image/'))\n",
    "# NO_OF_VAL_IMAGES = len(os.listdir('02_data/val_image_re255/image/'))\n",
    "\n",
    "BATCH_SIZE = batch_size1\n",
    "\n",
    "results = model.fit(train_generator, \n",
    "                    epochs=NO_OF_EPOCHS, \n",
    "                    steps_per_epoch=(NO_OF_TRAINING_IMAGES//BATCH_SIZE), \n",
    "                    validation_data=val_generator, \n",
    "                    validation_steps=(NO_OF_VAL_IMAGES//BATCH_SIZE) #,\n",
    "                    #callbacks=[checkpoint] # myCallback(), checkpoint, earlyStopImprove\n",
    "                   )"
   ]
  }
 ],
 "metadata": {
  "kernelspec": {
   "display_name": "Python 3",
   "language": "python",
   "name": "python3"
  },
  "language_info": {
   "codemirror_mode": {
    "name": "ipython",
    "version": 3
   },
   "file_extension": ".py",
   "mimetype": "text/x-python",
   "name": "python",
   "nbconvert_exporter": "python",
   "pygments_lexer": "ipython3",
   "version": "3.7.9"
  }
 },
 "nbformat": 4,
 "nbformat_minor": 4
}
