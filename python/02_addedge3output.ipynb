{
 "cells": [
  {
   "cell_type": "code",
   "execution_count": 3,
   "metadata": {},
   "outputs": [],
   "source": [
    "import numpy as np\n",
    "import skimage.measure\n",
    "# import pydicom\n",
    "import vtk\n",
    "from vtk.util import numpy_support\n",
    "import os\n",
    "import matplotlib.pyplot as plt\n",
    "import cv2\n",
    "from scipy import ndimage as ndi"
   ]
  },
  {
   "cell_type": "code",
   "execution_count": null,
   "metadata": {},
   "outputs": [],
   "source": [
    "import gc\n",
    "gc.collect()"
   ]
  },
  {
   "cell_type": "code",
   "execution_count": 20,
   "metadata": {},
   "outputs": [
    {
     "data": {
      "text/plain": [
       "<Figure size 432x288 with 0 Axes>"
      ]
     },
     "metadata": {},
     "output_type": "display_data"
    }
   ],
   "source": [
    "# set working directory\n",
    "plt.gray()\n",
    "os.chdir('C:/Users/span/Documents/CNN/')\n",
    "number1 = 33"
   ]
  },
  {
   "cell_type": "code",
   "execution_count": 21,
   "metadata": {},
   "outputs": [
    {
     "ename": "KeyboardInterrupt",
     "evalue": "",
     "output_type": "error",
     "traceback": [
      "\u001b[1;31m---------------------------------------------------------------------------\u001b[0m",
      "\u001b[1;31mKeyboardInterrupt\u001b[0m                         Traceback (most recent call last)",
      "\u001b[1;32m<ipython-input-21-4f13013de53f>\u001b[0m in \u001b[0;36m<module>\u001b[1;34m\u001b[0m\n\u001b[0;32m     26\u001b[0m \u001b[0mArrayDicom\u001b[0m \u001b[1;33m=\u001b[0m \u001b[0mArrayDicom\u001b[0m\u001b[1;33m.\u001b[0m\u001b[0mreshape\u001b[0m\u001b[1;33m(\u001b[0m\u001b[0mConstPixelDims\u001b[0m\u001b[1;33m,\u001b[0m \u001b[0morder\u001b[0m\u001b[1;33m=\u001b[0m\u001b[1;34m'F'\u001b[0m\u001b[1;33m)\u001b[0m\u001b[1;33m\u001b[0m\u001b[1;33m\u001b[0m\u001b[0m\n\u001b[0;32m     27\u001b[0m \u001b[1;33m\u001b[0m\u001b[0m\n\u001b[1;32m---> 28\u001b[1;33m \u001b[0ma_mask\u001b[0m \u001b[1;33m=\u001b[0m \u001b[0mArrayDicom\u001b[0m\u001b[1;33m.\u001b[0m\u001b[0mcopy\u001b[0m\u001b[1;33m(\u001b[0m\u001b[1;33m)\u001b[0m\u001b[1;33m\u001b[0m\u001b[1;33m\u001b[0m\u001b[0m\n\u001b[0m",
      "\u001b[1;31mKeyboardInterrupt\u001b[0m: "
     ]
    }
   ],
   "source": [
    "# read dicom _dl_mask\n",
    "PathDicom = \"01_perprocess/\"+str(number1)+'/'+str(number1)+\"_dl_mask/\"\n",
    "reader = vtk.vtkDICOMImageReader()\n",
    "reader.SetDirectoryName(PathDicom)\n",
    "reader.Update()\n",
    "\n",
    "# Load dimensions using `GetDataExtent`\n",
    "_extent = reader.GetDataExtent()\n",
    "ConstPixelDims = [_extent[1]-_extent[0]+1, _extent[3]-_extent[2]+1, _extent[5]-_extent[4]+1]\n",
    "\n",
    "# Load spacing values\n",
    "ConstPixelSpacing = reader.GetPixelSpacing()\n",
    "\n",
    "# Get the 'vtkImageData' object from the reader\n",
    "imageData = reader.GetOutput()\n",
    "# Get the 'vtkPointData' object from the 'vtkImageData' object\n",
    "pointData = imageData.GetPointData()\n",
    "# Ensure that only one array exists within the 'vtkPointData' object\n",
    "assert (pointData.GetNumberOfArrays()==1)\n",
    "# Get the `vtkArray` (or whatever derived type) which is needed for the `numpy_support.vtk_to_numpy` function\n",
    "arrayData = pointData.GetArray(0)\n",
    "\n",
    "# Convert the `vtkArray` to a NumPy array\n",
    "ArrayDicom = numpy_support.vtk_to_numpy(arrayData)\n",
    "# Reshape the NumPy array to 3D using 'ConstPixelDims' as a 'shape'\n",
    "ArrayDicom = ArrayDicom.reshape(ConstPixelDims, order='F')\n",
    "\n",
    "a_mask = ArrayDicom.copy()"
   ]
  },
  {
   "cell_type": "code",
   "execution_count": 5,
   "metadata": {},
   "outputs": [
    {
     "name": "stderr",
     "output_type": "stream",
     "text": [
      "C:\\Users\\span\\anaconda3\\envs\\tf-n-gpu\\lib\\site-packages\\ipykernel_launcher.py:16: RuntimeWarning: invalid value encountered in true_divide\n",
      "  app.launch_new_instance()\n"
     ]
    }
   ],
   "source": [
    "# output master folder seg3channel\n",
    "from PIL import Image\n",
    "from skimage.transform import rescale\n",
    "from skimage.feature import canny\n",
    "from skimage import morphology\n",
    "from scipy import ndimage as ndi\n",
    "\n",
    "path_master_s3 = \"02_data/master_seg3channelfill/\"\n",
    "\n",
    "resize1 = 256\n",
    "\n",
    "# export master_segre255\n",
    "for i in range(a_mask.shape[2]):\n",
    "    image = a_mask[:, :, i].copy()\n",
    "#     image = ndi.binary_fill_holes(image).astype(np.uint8)\n",
    "    image1 = (((image - image.min()) / (image.max() - image.min())) * 255.9).astype(np.uint8)\n",
    "    imagedge = canny(image1, sigma=1)\n",
    "    imagedge2 = morphology.dilation(imagedge, morphology.disk(radius=1))\n",
    "    imagedge3 = imagedge2.astype(np.uint8)\n",
    "    imagedge3 = np.where(imagedge3 != 0, 2, 0)\n",
    "    image4 = image + imagedge3\n",
    "    image4 = np.where(image4 > 1, 2, image4)\n",
    "    img0 = Image.fromarray(image4.astype(np.uint8))\n",
    "    img0.save(path_master_s3+str(number1)+\"_image_\"+str(\"{0:03}\".format(i))+\".png\")"
   ]
  },
  {
   "cell_type": "code",
   "execution_count": 11,
   "metadata": {},
   "outputs": [],
   "source": [
    "# Split to train and val\n",
    "path_master_i = \"02_data/master_image/\"\n",
    "path_master_s3 = \"02_data/master_seg3channelfill/\"\n",
    "\n",
    "subfolder1 = \"_seg3channel/\"\n",
    "path1 = \"02_data/train_image\"+subfolder1\n",
    "path2 = \"02_data/train_mask\"+subfolder1\n",
    "path3 = \"02_data/val_image\"+subfolder1\n",
    "path4 = \"02_data/val_mask\"+subfolder1"
   ]
  },
  {
   "cell_type": "code",
   "execution_count": 12,
   "metadata": {},
   "outputs": [],
   "source": [
    "import random\n",
    "random.seed(a=1024, version=2)\n",
    "list1 = os.listdir(path_master_i)\n",
    "list2 = random.sample(list1, k=round(len(list1)*0.7))\n",
    "list3 = [x for x in list1 if (x not in list2)]"
   ]
  },
  {
   "cell_type": "code",
   "execution_count": 13,
   "metadata": {},
   "outputs": [],
   "source": [
    "from shutil import copy\n",
    "\n",
    "for i in list3:\n",
    "    copy(path_master_s3+ str(i), path4+'seg/')\n",
    "    \n",
    "for i in list2:\n",
    "    copy(path_master_s3+ str(i), path2+'seg/')"
   ]
  },
  {
   "cell_type": "markdown",
   "metadata": {},
   "source": [
    "# Add edge for orgi image"
   ]
  },
  {
   "cell_type": "code",
   "execution_count": 1,
   "metadata": {},
   "outputs": [],
   "source": [
    "from PIL import Image\n",
    "from skimage.transform import rescale\n",
    "from skimage.feature import canny\n",
    "from skimage.filters import threshold_otsu\n",
    "from skimage import morphology\n",
    "from scipy import ndimage as ndi\n",
    "import matplotlib.pyplot as plt"
   ]
  },
  {
   "cell_type": "code",
   "execution_count": 4,
   "metadata": {},
   "outputs": [
    {
     "data": {
      "text/plain": [
       "<Figure size 432x288 with 0 Axes>"
      ]
     },
     "metadata": {},
     "output_type": "display_data"
    }
   ],
   "source": [
    "# set working directory\n",
    "plt.gray()\n",
    "os.chdir('C:/Users/span/Documents/CNN/')"
   ]
  },
  {
   "cell_type": "code",
   "execution_count": 5,
   "metadata": {},
   "outputs": [],
   "source": [
    "def readdicomset(number1):\n",
    "    # read dicom _dl_input\n",
    "    PathDicom = \"01_perprocess/\"+str(number1)+'/'+str(number1)+\"_dl_input/\"\n",
    "    # PathDicom = \"01_perprocess/\"+str(number1)+'/'+str(number1)+\"_in/\"\n",
    "    reader = vtk.vtkDICOMImageReader()\n",
    "    reader.SetDirectoryName(PathDicom)\n",
    "    reader.Update()\n",
    "    # Load dimensions using `GetDataExtent`\n",
    "    _extent = reader.GetDataExtent()\n",
    "    ConstPixelDims = [_extent[1]-_extent[0]+1, _extent[3]-_extent[2]+1, _extent[5]-_extent[4]+1]\n",
    "    # Load spacing values\n",
    "    ConstPixelSpacing = reader.GetPixelSpacing()\n",
    "    # Get the 'vtkImageData' object from the reader\n",
    "    imageData = reader.GetOutput()\n",
    "    # Get the 'vtkPointData' object from the 'vtkImageData' object\n",
    "    pointData = imageData.GetPointData()\n",
    "    # Ensure that only one array exists within the 'vtkPointData' object\n",
    "    assert (pointData.GetNumberOfArrays()==1)\n",
    "    # Get the `vtkArray` (or whatever derived type) which is needed for the `numpy_support.vtk_to_numpy` function\n",
    "    arrayData = pointData.GetArray(0)\n",
    "    # Convert the `vtkArray` to a NumPy array\n",
    "    ArrayDicom = numpy_support.vtk_to_numpy(arrayData)\n",
    "    # Reshape the NumPy array to 3D using 'ConstPixelDims' as a 'shape'\n",
    "    ArrayDicom = ArrayDicom.reshape(ConstPixelDims, order='F')\n",
    "    return ArrayDicom"
   ]
  },
  {
   "cell_type": "code",
   "execution_count": 6,
   "metadata": {},
   "outputs": [],
   "source": [
    "def readdicomset2(number1):\n",
    "    # read dicom _dl_input\n",
    "    PathDicom = \"01_perprocess/\"+str(number1)+'/'+str(number1)+\"_dl_mask/\"\n",
    "    # PathDicom = \"01_perprocess/\"+str(number1)+'/'+str(number1)+\"_in/\"\n",
    "    reader = vtk.vtkDICOMImageReader()\n",
    "    reader.SetDirectoryName(PathDicom)\n",
    "    reader.Update()\n",
    "    # Load dimensions using `GetDataExtent`\n",
    "    _extent = reader.GetDataExtent()\n",
    "    ConstPixelDims = [_extent[1]-_extent[0]+1, _extent[3]-_extent[2]+1, _extent[5]-_extent[4]+1]\n",
    "    # Load spacing values\n",
    "    ConstPixelSpacing = reader.GetPixelSpacing()\n",
    "    # Get the 'vtkImageData' object from the reader\n",
    "    imageData = reader.GetOutput()\n",
    "    # Get the 'vtkPointData' object from the 'vtkImageData' object\n",
    "    pointData = imageData.GetPointData()\n",
    "    # Ensure that only one array exists within the 'vtkPointData' object\n",
    "    assert (pointData.GetNumberOfArrays()==1)\n",
    "    # Get the `vtkArray` (or whatever derived type) which is needed for the `numpy_support.vtk_to_numpy` function\n",
    "    arrayData = pointData.GetArray(0)\n",
    "    # Convert the `vtkArray` to a NumPy array\n",
    "    ArrayDicom = numpy_support.vtk_to_numpy(arrayData)\n",
    "    # Reshape the NumPy array to 3D using 'ConstPixelDims' as a 'shape'\n",
    "    ArrayDicom = ArrayDicom.reshape(ConstPixelDims, order='F')\n",
    "    return ArrayDicom"
   ]
  },
  {
   "cell_type": "code",
   "execution_count": 40,
   "metadata": {},
   "outputs": [],
   "source": [
    "def getorig4(image1,image2):\n",
    "#     image1\n",
    "    thresh = threshold_otsu(image1)\n",
    "    binary = image1 > thresh \n",
    "    image11 = (((image1 - image1.min()) / (image1.max() - image1.min())) * 255.9).astype(np.uint8)\n",
    "    imagedge = canny(image11, sigma=1)\n",
    "    imagedge2 = morphology.dilation(imagedge, morphology.disk(radius=1))\n",
    "    imagedge3 = imagedge2.astype(np.uint8)\n",
    "    imagedge3 = np.where(imagedge3 != 0, 2, 0)\n",
    "    image4 = binary + imagedge3\n",
    "    image4 = np.where(image4 > 1, 2, image4)\n",
    "#     image2\n",
    "    binary2 = np.where(image2 != 0, 2, 0)\n",
    "    image12 = (((image2 - image2.min()) / (image2.max() - image2.min())) * 255.9).astype(np.uint8)\n",
    "    imagedge2 = canny(image12, sigma=1)\n",
    "    imagedge22 = morphology.dilation(imagedge2, morphology.disk(radius=1))\n",
    "    imagedge32 = imagedge22.astype(np.uint8)\n",
    "    imagedge32 = np.where(imagedge32 != 0, 4, 0)\n",
    "    image42 = binary2 + imagedge32\n",
    "    image42 = np.where(image42 > 2, 4, image42)\n",
    "    image5 = image4+image42\n",
    "    image5 = np.where(image5 >= 5, 4, image5)\n",
    "    return image5"
   ]
  },
  {
   "cell_type": "code",
   "execution_count": 48,
   "metadata": {},
   "outputs": [],
   "source": [
    "number1 = 33\n",
    "a_mask = readdicomset(number1)\n",
    "a_mask2 = readdicomset2(number1)"
   ]
  },
  {
   "cell_type": "code",
   "execution_count": 49,
   "metadata": {},
   "outputs": [
    {
     "name": "stderr",
     "output_type": "stream",
     "text": [
      "C:\\Users\\span\\anaconda3\\envs\\tf-n-gpu\\lib\\site-packages\\ipykernel_launcher.py:14: RuntimeWarning: invalid value encountered in true_divide\n",
      "  \n"
     ]
    },
    {
     "ename": "IndexError",
     "evalue": "index 544 is out of bounds for axis 2 with size 544",
     "output_type": "error",
     "traceback": [
      "\u001b[1;31m---------------------------------------------------------------------------\u001b[0m",
      "\u001b[1;31mIndexError\u001b[0m                                Traceback (most recent call last)",
      "\u001b[1;32m<ipython-input-49-3b5f1966f0c7>\u001b[0m in \u001b[0;36m<module>\u001b[1;34m\u001b[0m\n\u001b[0;32m      5\u001b[0m \u001b[1;31m# export master_segre255\u001b[0m\u001b[1;33m\u001b[0m\u001b[1;33m\u001b[0m\u001b[1;33m\u001b[0m\u001b[0m\n\u001b[0;32m      6\u001b[0m \u001b[1;32mfor\u001b[0m \u001b[0mi\u001b[0m \u001b[1;32min\u001b[0m \u001b[0mrange\u001b[0m\u001b[1;33m(\u001b[0m\u001b[0ma_mask\u001b[0m\u001b[1;33m.\u001b[0m\u001b[0mshape\u001b[0m\u001b[1;33m[\u001b[0m\u001b[1;36m2\u001b[0m\u001b[1;33m]\u001b[0m\u001b[1;33m)\u001b[0m\u001b[1;33m:\u001b[0m\u001b[1;33m\u001b[0m\u001b[1;33m\u001b[0m\u001b[0m\n\u001b[1;32m----> 7\u001b[1;33m     \u001b[0mimage\u001b[0m \u001b[1;33m=\u001b[0m \u001b[0mgetorig4\u001b[0m\u001b[1;33m(\u001b[0m\u001b[0ma_mask\u001b[0m\u001b[1;33m[\u001b[0m\u001b[1;33m:\u001b[0m\u001b[1;33m,\u001b[0m \u001b[1;33m:\u001b[0m\u001b[1;33m,\u001b[0m \u001b[0mi\u001b[0m\u001b[1;33m]\u001b[0m\u001b[1;33m,\u001b[0m \u001b[0ma_mask2\u001b[0m\u001b[1;33m[\u001b[0m\u001b[1;33m:\u001b[0m\u001b[1;33m,\u001b[0m \u001b[1;33m:\u001b[0m\u001b[1;33m,\u001b[0m \u001b[0mi\u001b[0m\u001b[1;33m]\u001b[0m\u001b[1;33m)\u001b[0m\u001b[1;33m\u001b[0m\u001b[1;33m\u001b[0m\u001b[0m\n\u001b[0m\u001b[0;32m      8\u001b[0m     \u001b[0mimage\u001b[0m \u001b[1;33m=\u001b[0m \u001b[0mrescale\u001b[0m\u001b[1;33m(\u001b[0m\u001b[0mimage\u001b[0m\u001b[1;33m,\u001b[0m \u001b[1;33m(\u001b[0m\u001b[0mresize1\u001b[0m\u001b[1;33m/\u001b[0m\u001b[0ma_mask\u001b[0m\u001b[1;33m[\u001b[0m\u001b[1;33m:\u001b[0m\u001b[1;33m,\u001b[0m \u001b[1;33m:\u001b[0m\u001b[1;33m,\u001b[0m \u001b[0mi\u001b[0m\u001b[1;33m]\u001b[0m\u001b[1;33m.\u001b[0m\u001b[0mshape\u001b[0m\u001b[1;33m[\u001b[0m\u001b[1;36m1\u001b[0m\u001b[1;33m]\u001b[0m\u001b[1;33m)\u001b[0m\u001b[1;33m,\u001b[0m \u001b[0mpreserve_range\u001b[0m\u001b[1;33m=\u001b[0m\u001b[1;32mTrue\u001b[0m\u001b[1;33m,\u001b[0m \u001b[0manti_aliasing\u001b[0m\u001b[1;33m=\u001b[0m\u001b[1;32mFalse\u001b[0m\u001b[1;33m)\u001b[0m\u001b[1;33m\u001b[0m\u001b[1;33m\u001b[0m\u001b[0m\n\u001b[0;32m      9\u001b[0m     \u001b[0mimg0\u001b[0m \u001b[1;33m=\u001b[0m \u001b[0mImage\u001b[0m\u001b[1;33m.\u001b[0m\u001b[0mfromarray\u001b[0m\u001b[1;33m(\u001b[0m\u001b[0mimage\u001b[0m\u001b[1;33m.\u001b[0m\u001b[0mastype\u001b[0m\u001b[1;33m(\u001b[0m\u001b[0mnp\u001b[0m\u001b[1;33m.\u001b[0m\u001b[0muint8\u001b[0m\u001b[1;33m)\u001b[0m\u001b[1;33m)\u001b[0m\u001b[1;33m\u001b[0m\u001b[1;33m\u001b[0m\u001b[0m\n",
      "\u001b[1;31mIndexError\u001b[0m: index 544 is out of bounds for axis 2 with size 544"
     ]
    }
   ],
   "source": [
    "path_master_s3 = \"06_origdata/master_seg3channelfill/\"\n",
    "\n",
    "resize1 = 256\n",
    "\n",
    "# export master_segre255\n",
    "for i in range(a_mask.shape[2]):\n",
    "    image = getorig4(a_mask[:, :, i], a_mask2[:, :, i])\n",
    "    image = rescale(image, (resize1/a_mask[:, :, i].shape[1]), preserve_range=True, anti_aliasing=False)\n",
    "    img0 = Image.fromarray(image.astype(np.uint8))\n",
    "    img0.save(path_master_s3+str(number1)+\"_image_\"+str(\"{0:03}\".format(i))+\".png\")"
   ]
  },
  {
   "cell_type": "code",
   "execution_count": null,
   "metadata": {},
   "outputs": [],
   "source": []
  },
  {
   "cell_type": "code",
   "execution_count": null,
   "metadata": {},
   "outputs": [],
   "source": []
  },
  {
   "cell_type": "code",
   "execution_count": 41,
   "metadata": {},
   "outputs": [],
   "source": [
    "image6 = getorig4(a_mask[:, :, 150], a_mask2[:, :, 150])"
   ]
  },
  {
   "cell_type": "code",
   "execution_count": 42,
   "metadata": {},
   "outputs": [
    {
     "data": {
      "text/plain": [
       "<matplotlib.image.AxesImage at 0x211d3c04548>"
      ]
     },
     "execution_count": 42,
     "metadata": {},
     "output_type": "execute_result"
    },
    {
     "data": {
      "image/png": "[encoded data removed]",
      "text/plain": [
       "<Figure size 432x288 with 1 Axes>"
      ]
     },
     "metadata": {
      "needs_background": "light"
     },
     "output_type": "display_data"
    }
   ],
   "source": [
    "plt.imshow(image6)"
   ]
  },
  {
   "cell_type": "code",
   "execution_count": 8,
   "metadata": {},
   "outputs": [],
   "source": [
    "image = a_mask[:, :, 150].copy()\n",
    "#     image = ndi.binary_fill_holes(image).astype(np.uint8)\n",
    "thresh = threshold_otsu(image)\n",
    "binary = image > thresh \n",
    "image1 = (((image - image.min()) / (image.max() - image.min())) * 255.9).astype(np.uint8)\n",
    "imagedge = canny(image1, sigma=1)\n",
    "imagedge2 = morphology.dilation(imagedge, morphology.disk(radius=1))\n",
    "imagedge3 = imagedge2.astype(np.uint8)\n",
    "imagedge3 = np.where(imagedge3 != 0, 2, 0)\n",
    "image4 = binary + imagedge3\n",
    "image4 = np.where(image4 > 1, 2, image4)"
   ]
  },
  {
   "cell_type": "code",
   "execution_count": 9,
   "metadata": {},
   "outputs": [
    {
     "data": {
      "text/plain": [
       "<matplotlib.image.AxesImage at 0x211d0853148>"
      ]
     },
     "execution_count": 9,
     "metadata": {},
     "output_type": "execute_result"
    },
    {
     "data": {
      "image/png": "[encoded data removed]",
      "text/plain": [
       "<Figure size 432x288 with 1 Axes>"
      ]
     },
     "metadata": {
      "needs_background": "light"
     },
     "output_type": "display_data"
    }
   ],
   "source": [
    "plt.imshow(image4)"
   ]
  },
  {
   "cell_type": "code",
   "execution_count": 27,
   "metadata": {},
   "outputs": [],
   "source": [
    "image2 = a_mask2[:, :, 150].copy()\n",
    "#     image = ndi.binary_fill_holes(image).astype(np.uint8)\n",
    "# thresh2 = threshold_otsu(image2)\n",
    "binary2 = np.where(image2 != 0, 2, 0)\n",
    "image12 = (((image2 - image2.min()) / (image2.max() - image2.min())) * 255.9).astype(np.uint8)\n",
    "imagedge2 = canny(image12, sigma=1)\n",
    "imagedge22 = morphology.dilation(imagedge2, morphology.disk(radius=1))\n",
    "imagedge32 = imagedge22.astype(np.uint8)\n",
    "imagedge32 = np.where(imagedge32 != 0, 4, 0)\n",
    "image42 = binary2 + imagedge32\n",
    "image42 = np.where(image42 > 2, 4, image42)"
   ]
  },
  {
   "cell_type": "code",
   "execution_count": 28,
   "metadata": {},
   "outputs": [
    {
     "data": {
      "text/plain": [
       "<matplotlib.image.AxesImage at 0x211d0d0db88>"
      ]
     },
     "execution_count": 28,
     "metadata": {},
     "output_type": "execute_result"
    },
    {
     "data": {
      "image/png": "[encoded data removed]",
      "text/plain": [
       "<Figure size 432x288 with 1 Axes>"
      ]
     },
     "metadata": {
      "needs_background": "light"
     },
     "output_type": "display_data"
    }
   ],
   "source": [
    "plt.imshow(image42)"
   ]
  },
  {
   "cell_type": "code",
   "execution_count": 34,
   "metadata": {},
   "outputs": [
    {
     "data": {
      "text/plain": [
       "<matplotlib.image.AxesImage at 0x211d33bb388>"
      ]
     },
     "execution_count": 34,
     "metadata": {},
     "output_type": "execute_result"
    },
    {
     "data": {
      "image/png": "[encoded data removed]",
      "text/plain": [
       "<Figure size 432x288 with 1 Axes>"
      ]
     },
     "metadata": {
      "needs_background": "light"
     },
     "output_type": "display_data"
    }
   ],
   "source": [
    "image5 = image4+image42\n",
    "image5 = np.where(image5 >= 5, 4, image5)\n",
    "plt.imshow(image5)"
   ]
  },
  {
   "cell_type": "code",
   "execution_count": null,
   "metadata": {},
   "outputs": [],
   "source": []
  },
  {
   "cell_type": "code",
   "execution_count": null,
   "metadata": {},
   "outputs": [],
   "source": [
    "image = a_mask[:, :, 380].copy()\n",
    "plt.imshow(image)"
   ]
  },
  {
   "cell_type": "code",
   "execution_count": null,
   "metadata": {},
   "outputs": [],
   "source": [
    "# add edge\n",
    "from skimage.feature import canny\n",
    "\n",
    "image1 = (((image - image.min()) / (image.max() - image.min())) * 255.9).astype(np.uint8)\n",
    "imagedge = canny(image1, sigma=1)"
   ]
  },
  {
   "cell_type": "code",
   "execution_count": null,
   "metadata": {},
   "outputs": [],
   "source": [
    "# thicker the edge\n",
    "from skimage import morphology\n",
    "imagedge2 = morphology.dilation(imagedge, morphology.disk(radius=1))"
   ]
  },
  {
   "cell_type": "code",
   "execution_count": null,
   "metadata": {},
   "outputs": [],
   "source": [
    "# fill holes\n",
    "from scipy import ndimage as ndi\n",
    "\n",
    "fill_coins = ndi.binary_fill_holes(image)\n",
    "plt.imshow(fill_coins)"
   ]
  },
  {
   "cell_type": "code",
   "execution_count": null,
   "metadata": {},
   "outputs": [],
   "source": [
    "#plot results\n",
    "fig, (ax0, ax1, ax2) = plt.subplots(1, 3, figsize=(16, 6.4),\n",
    "                                    sharex=True, sharey=True)\n",
    "ax0.imshow(image1, cmap='gray')\n",
    "ax0.axis('off')\n",
    "ax0.set_title('org')\n",
    "ax1.imshow(imagedge, cmap='gray')\n",
    "ax1.axis('off')\n",
    "ax1.set_title('edge')\n",
    "ax2.imshow(imagedge2, cmap='gray') # 'magma'\n",
    "ax2.axis('edge2')\n",
    "\n",
    "fig.tight_layout()\n",
    "plt.show()"
   ]
  },
  {
   "cell_type": "code",
   "execution_count": null,
   "metadata": {},
   "outputs": [],
   "source": [
    "imagedge3 = imagedge2.astype(np.uint8)\n",
    "imagedge3 = np.where(imagedge3 != 0, 2, 0)\n",
    "image4 = image + imagedge3\n",
    "image4 = np.where(image4 > 1, 2, image4)\n",
    "image5 = image4*255"
   ]
  },
  {
   "cell_type": "code",
   "execution_count": null,
   "metadata": {},
   "outputs": [],
   "source": []
  }
 ],
 "metadata": {
  "kernelspec": {
   "display_name": "Python 3",
   "language": "python",
   "name": "python3"
  },
  "language_info": {
   "codemirror_mode": {
    "name": "ipython",
    "version": 3
   },
   "file_extension": ".py",
   "mimetype": "text/x-python",
   "name": "python",
   "nbconvert_exporter": "python",
   "pygments_lexer": "ipython3",
   "version": "3.7.9"
  }
 },
 "nbformat": 4,
 "nbformat_minor": 4
}
