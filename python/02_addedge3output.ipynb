{
 "cells": [
  {
   "cell_type": "code",
   "execution_count": 2,
   "metadata": {},
   "outputs": [],
   "source": [
    "import numpy as np\n",
    "import skimage.measure\n",
    "# import pydicom\n",
    "import vtk\n",
    "from vtk.util import numpy_support\n",
    "import os\n",
    "import matplotlib.pyplot as plt\n",
    "import cv2\n",
    "from scipy import ndimage as ndi"
   ]
  },
  {
   "cell_type": "code",
   "execution_count": null,
   "metadata": {},
   "outputs": [],
   "source": [
    "import gc\n",
    "gc.collect()"
   ]
  },
  {
   "cell_type": "code",
   "execution_count": 3,
   "metadata": {},
   "outputs": [
    {
     "data": {
      "text/plain": [
       "<Figure size 432x288 with 0 Axes>"
      ]
     },
     "metadata": {},
     "output_type": "display_data"
    }
   ],
   "source": [
    "# set working directory\n",
    "plt.gray()\n",
    "os.chdir('C:/Users/span/Documents/CNN/')\n",
    "number1 = 33"
   ]
  },
  {
   "cell_type": "code",
   "execution_count": 4,
   "metadata": {},
   "outputs": [],
   "source": [
    "# read dicom _dl_mask\n",
    "PathDicom = \"01_perprocess/\"+str(number1)+'/'+str(number1)+\"_dl_mask/\"\n",
    "reader = vtk.vtkDICOMImageReader()\n",
    "reader.SetDirectoryName(PathDicom)\n",
    "reader.Update()\n",
    "\n",
    "# Load dimensions using `GetDataExtent`\n",
    "_extent = reader.GetDataExtent()\n",
    "ConstPixelDims = [_extent[1]-_extent[0]+1, _extent[3]-_extent[2]+1, _extent[5]-_extent[4]+1]\n",
    "\n",
    "# Load spacing values\n",
    "ConstPixelSpacing = reader.GetPixelSpacing()\n",
    "\n",
    "# Get the 'vtkImageData' object from the reader\n",
    "imageData = reader.GetOutput()\n",
    "# Get the 'vtkPointData' object from the 'vtkImageData' object\n",
    "pointData = imageData.GetPointData()\n",
    "# Ensure that only one array exists within the 'vtkPointData' object\n",
    "assert (pointData.GetNumberOfArrays()==1)\n",
    "# Get the `vtkArray` (or whatever derived type) which is needed for the `numpy_support.vtk_to_numpy` function\n",
    "arrayData = pointData.GetArray(0)\n",
    "\n",
    "# Convert the `vtkArray` to a NumPy array\n",
    "ArrayDicom = numpy_support.vtk_to_numpy(arrayData)\n",
    "# Reshape the NumPy array to 3D using 'ConstPixelDims' as a 'shape'\n",
    "ArrayDicom = ArrayDicom.reshape(ConstPixelDims, order='F')\n",
    "\n",
    "a_mask = ArrayDicom.copy()"
   ]
  },
  {
   "cell_type": "code",
   "execution_count": 5,
   "metadata": {},
   "outputs": [
    {
     "name": "stderr",
     "output_type": "stream",
     "text": [
      "C:\\Users\\span\\anaconda3\\envs\\tf-n-gpu\\lib\\site-packages\\ipykernel_launcher.py:16: RuntimeWarning: invalid value encountered in true_divide\n",
      "  app.launch_new_instance()\n"
     ]
    }
   ],
   "source": [
    "# output master folder seg3channel\n",
    "from PIL import Image\n",
    "from skimage.transform import rescale\n",
    "from skimage.feature import canny\n",
    "from skimage import morphology\n",
    "from scipy import ndimage as ndi\n",
    "\n",
    "path_master_s3 = \"02_data/master_seg3channelfill/\"\n",
    "\n",
    "resize1 = 256\n",
    "\n",
    "# export master_segre255\n",
    "for i in range(a_mask.shape[2]):\n",
    "    image = a_mask[:, :, i].copy()\n",
    "#     image = ndi.binary_fill_holes(image).astype(np.uint8)\n",
    "    image1 = (((image - image.min()) / (image.max() - image.min())) * 255.9).astype(np.uint8)\n",
    "    imagedge = canny(image1, sigma=1)\n",
    "    imagedge2 = morphology.dilation(imagedge, morphology.disk(radius=1))\n",
    "    imagedge3 = imagedge2.astype(np.uint8)\n",
    "    imagedge3 = np.where(imagedge3 != 0, 2, 0)\n",
    "    image4 = image + imagedge3\n",
    "    image4 = np.where(image4 > 1, 2, image4)\n",
    "    img0 = Image.fromarray(image4.astype(np.uint8))\n",
    "    img0.save(path_master_s3+str(number1)+\"_image_\"+str(\"{0:03}\".format(i))+\".png\")"
   ]
  },
  {
   "cell_type": "code",
   "execution_count": 11,
   "metadata": {},
   "outputs": [],
   "source": [
    "# Split to train and val\n",
    "path_master_i = \"02_data/master_image/\"\n",
    "path_master_s3 = \"02_data/master_seg3channelfill/\"\n",
    "\n",
    "subfolder1 = \"_seg3channel/\"\n",
    "path1 = \"02_data/train_image\"+subfolder1\n",
    "path2 = \"02_data/train_mask\"+subfolder1\n",
    "path3 = \"02_data/val_image\"+subfolder1\n",
    "path4 = \"02_data/val_mask\"+subfolder1"
   ]
  },
  {
   "cell_type": "code",
   "execution_count": 12,
   "metadata": {},
   "outputs": [],
   "source": [
    "import random\n",
    "random.seed(a=1024, version=2)\n",
    "list1 = os.listdir(path_master_i)\n",
    "list2 = random.sample(list1, k=round(len(list1)*0.7))\n",
    "list3 = [x for x in list1 if (x not in list2)]"
   ]
  },
  {
   "cell_type": "code",
   "execution_count": 13,
   "metadata": {},
   "outputs": [],
   "source": [
    "from shutil import copy\n",
    "\n",
    "for i in list3:\n",
    "    copy(path_master_s3+ str(i), path4+'seg/')\n",
    "    \n",
    "for i in list2:\n",
    "    copy(path_master_s3+ str(i), path2+'seg/')"
   ]
  },
  {
   "cell_type": "code",
   "execution_count": null,
   "metadata": {},
   "outputs": [],
   "source": []
  },
  {
   "cell_type": "code",
   "execution_count": null,
   "metadata": {},
   "outputs": [],
   "source": []
  },
  {
   "cell_type": "code",
   "execution_count": null,
   "metadata": {},
   "outputs": [],
   "source": []
  },
  {
   "cell_type": "code",
   "execution_count": null,
   "metadata": {},
   "outputs": [],
   "source": [
    "image = a_mask[:, :, 380].copy()\n",
    "plt.imshow(image)"
   ]
  },
  {
   "cell_type": "code",
   "execution_count": null,
   "metadata": {},
   "outputs": [],
   "source": [
    "# add edge\n",
    "from skimage.feature import canny\n",
    "\n",
    "image1 = (((image - image.min()) / (image.max() - image.min())) * 255.9).astype(np.uint8)\n",
    "imagedge = canny(image1, sigma=1)"
   ]
  },
  {
   "cell_type": "code",
   "execution_count": null,
   "metadata": {},
   "outputs": [],
   "source": [
    "# thicker the edge\n",
    "from skimage import morphology\n",
    "imagedge2 = morphology.dilation(imagedge, morphology.disk(radius=1))"
   ]
  },
  {
   "cell_type": "code",
   "execution_count": null,
   "metadata": {},
   "outputs": [],
   "source": [
    "# fill holes\n",
    "from scipy import ndimage as ndi\n",
    "\n",
    "fill_coins = ndi.binary_fill_holes(image)\n",
    "plt.imshow(fill_coins)"
   ]
  },
  {
   "cell_type": "code",
   "execution_count": null,
   "metadata": {},
   "outputs": [],
   "source": [
    "#plot results\n",
    "fig, (ax0, ax1, ax2) = plt.subplots(1, 3, figsize=(16, 6.4),\n",
    "                                    sharex=True, sharey=True)\n",
    "ax0.imshow(image1, cmap='gray')\n",
    "ax0.axis('off')\n",
    "ax0.set_title('org')\n",
    "ax1.imshow(imagedge, cmap='gray')\n",
    "ax1.axis('off')\n",
    "ax1.set_title('edge')\n",
    "ax2.imshow(imagedge2, cmap='gray') # 'magma'\n",
    "ax2.axis('edge2')\n",
    "\n",
    "fig.tight_layout()\n",
    "plt.show()"
   ]
  },
  {
   "cell_type": "code",
   "execution_count": null,
   "metadata": {},
   "outputs": [],
   "source": [
    "imagedge3 = imagedge2.astype(np.uint8)\n",
    "imagedge3 = np.where(imagedge3 != 0, 2, 0)\n",
    "image4 = image + imagedge3\n",
    "image4 = np.where(image4 > 1, 2, image4)\n",
    "image5 = image4*255"
   ]
  },
  {
   "cell_type": "code",
   "execution_count": null,
   "metadata": {},
   "outputs": [],
   "source": []
  }
 ],
 "metadata": {
  "kernelspec": {
   "display_name": "Python 3",
   "language": "python",
   "name": "python3"
  },
  "language_info": {
   "codemirror_mode": {
    "name": "ipython",
    "version": 3
   },
   "file_extension": ".py",
   "mimetype": "text/x-python",
   "name": "python",
   "nbconvert_exporter": "python",
   "pygments_lexer": "ipython3",
   "version": "3.7.9"
  }
 },
 "nbformat": 4,
 "nbformat_minor": 4
}
